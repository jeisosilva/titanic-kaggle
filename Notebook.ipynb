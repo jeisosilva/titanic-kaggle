{
 "cells": [
  {
   "cell_type": "markdown",
   "id": "b9e852db",
   "metadata": {},
   "source": [
    "## Kaggle API"
   ]
  },
  {
   "cell_type": "code",
   "execution_count": null,
   "id": "8261eb6b",
   "metadata": {},
   "outputs": [],
   "source": [
    "# Loading Packages\n",
    "import zipfile\n",
    "import os\n",
    "\n",
    "!kaggle competitions download -c titanic\n",
    "with zipfile.ZipFile(os.getcwd()+'\\\\titanic.zip', 'r') as zip_ref:\n",
    "    zip_ref.extractall(os.getcwd()+\"\\\\inputs\\\\\")\n",
    "os.remove(os.getcwd()+'\\\\titanic.zip')\n",
    "!mkdir outputs"
   ]
  },
  {
   "cell_type": "code",
   "execution_count": 1,
   "id": "64999854",
   "metadata": {},
   "outputs": [
    {
     "name": "stdout",
     "output_type": "stream",
     "text": [
      "Populating the interactive namespace from numpy and matplotlib\n"
     ]
    }
   ],
   "source": [
    "# Loading packages\n",
    "import pandas as pd\n",
    "import numpy as np\n",
    "import warnings\n",
    "\n",
    "warnings.simplefilter('ignore')\n",
    "%matplotlib inline\n",
    "%pylab inline"
   ]
  },
  {
   "cell_type": "code",
   "execution_count": 2,
   "id": "d321245e",
   "metadata": {},
   "outputs": [],
   "source": [
    "train = pd.read_csv('./inputs/train.csv')\n",
    "test = pd.read_csv('./inputs/test.csv')"
   ]
  },
  {
   "cell_type": "code",
   "execution_count": 3,
   "id": "e2b70ed6",
   "metadata": {},
   "outputs": [
    {
     "data": {
      "text/html": [
       "<div>\n",
       "<style scoped>\n",
       "    .dataframe tbody tr th:only-of-type {\n",
       "        vertical-align: middle;\n",
       "    }\n",
       "\n",
       "    .dataframe tbody tr th {\n",
       "        vertical-align: top;\n",
       "    }\n",
       "\n",
       "    .dataframe thead th {\n",
       "        text-align: right;\n",
       "    }\n",
       "</style>\n",
       "<table border=\"1\" class=\"dataframe\">\n",
       "  <thead>\n",
       "    <tr style=\"text-align: right;\">\n",
       "      <th></th>\n",
       "      <th>PassengerId</th>\n",
       "      <th>Survived</th>\n",
       "      <th>Pclass</th>\n",
       "      <th>Name</th>\n",
       "      <th>Sex</th>\n",
       "      <th>Age</th>\n",
       "      <th>SibSp</th>\n",
       "      <th>Parch</th>\n",
       "      <th>Ticket</th>\n",
       "      <th>Fare</th>\n",
       "      <th>Cabin</th>\n",
       "      <th>Embarked</th>\n",
       "    </tr>\n",
       "  </thead>\n",
       "  <tbody>\n",
       "    <tr>\n",
       "      <th>0</th>\n",
       "      <td>1</td>\n",
       "      <td>0</td>\n",
       "      <td>3</td>\n",
       "      <td>Braund, Mr. Owen Harris</td>\n",
       "      <td>male</td>\n",
       "      <td>22.0</td>\n",
       "      <td>1</td>\n",
       "      <td>0</td>\n",
       "      <td>A/5 21171</td>\n",
       "      <td>7.2500</td>\n",
       "      <td>NaN</td>\n",
       "      <td>S</td>\n",
       "    </tr>\n",
       "    <tr>\n",
       "      <th>1</th>\n",
       "      <td>2</td>\n",
       "      <td>1</td>\n",
       "      <td>1</td>\n",
       "      <td>Cumings, Mrs. John Bradley (Florence Briggs Th...</td>\n",
       "      <td>female</td>\n",
       "      <td>38.0</td>\n",
       "      <td>1</td>\n",
       "      <td>0</td>\n",
       "      <td>PC 17599</td>\n",
       "      <td>71.2833</td>\n",
       "      <td>C85</td>\n",
       "      <td>C</td>\n",
       "    </tr>\n",
       "    <tr>\n",
       "      <th>2</th>\n",
       "      <td>3</td>\n",
       "      <td>1</td>\n",
       "      <td>3</td>\n",
       "      <td>Heikkinen, Miss. Laina</td>\n",
       "      <td>female</td>\n",
       "      <td>26.0</td>\n",
       "      <td>0</td>\n",
       "      <td>0</td>\n",
       "      <td>STON/O2. 3101282</td>\n",
       "      <td>7.9250</td>\n",
       "      <td>NaN</td>\n",
       "      <td>S</td>\n",
       "    </tr>\n",
       "    <tr>\n",
       "      <th>3</th>\n",
       "      <td>4</td>\n",
       "      <td>1</td>\n",
       "      <td>1</td>\n",
       "      <td>Futrelle, Mrs. Jacques Heath (Lily May Peel)</td>\n",
       "      <td>female</td>\n",
       "      <td>35.0</td>\n",
       "      <td>1</td>\n",
       "      <td>0</td>\n",
       "      <td>113803</td>\n",
       "      <td>53.1000</td>\n",
       "      <td>C123</td>\n",
       "      <td>S</td>\n",
       "    </tr>\n",
       "    <tr>\n",
       "      <th>4</th>\n",
       "      <td>5</td>\n",
       "      <td>0</td>\n",
       "      <td>3</td>\n",
       "      <td>Allen, Mr. William Henry</td>\n",
       "      <td>male</td>\n",
       "      <td>35.0</td>\n",
       "      <td>0</td>\n",
       "      <td>0</td>\n",
       "      <td>373450</td>\n",
       "      <td>8.0500</td>\n",
       "      <td>NaN</td>\n",
       "      <td>S</td>\n",
       "    </tr>\n",
       "  </tbody>\n",
       "</table>\n",
       "</div>"
      ],
      "text/plain": [
       "   PassengerId  Survived  Pclass  \\\n",
       "0            1         0       3   \n",
       "1            2         1       1   \n",
       "2            3         1       3   \n",
       "3            4         1       1   \n",
       "4            5         0       3   \n",
       "\n",
       "                                                Name     Sex   Age  SibSp  \\\n",
       "0                            Braund, Mr. Owen Harris    male  22.0      1   \n",
       "1  Cumings, Mrs. John Bradley (Florence Briggs Th...  female  38.0      1   \n",
       "2                             Heikkinen, Miss. Laina  female  26.0      0   \n",
       "3       Futrelle, Mrs. Jacques Heath (Lily May Peel)  female  35.0      1   \n",
       "4                           Allen, Mr. William Henry    male  35.0      0   \n",
       "\n",
       "   Parch            Ticket     Fare Cabin Embarked  \n",
       "0      0         A/5 21171   7.2500   NaN        S  \n",
       "1      0          PC 17599  71.2833   C85        C  \n",
       "2      0  STON/O2. 3101282   7.9250   NaN        S  \n",
       "3      0            113803  53.1000  C123        S  \n",
       "4      0            373450   8.0500   NaN        S  "
      ]
     },
     "execution_count": 3,
     "metadata": {},
     "output_type": "execute_result"
    }
   ],
   "source": [
    "train.head()"
   ]
  },
  {
   "cell_type": "code",
   "execution_count": 26,
   "id": "f4bd64af",
   "metadata": {},
   "outputs": [],
   "source": [
    "import plotly.express as px\n",
    "colors = ['#333F44', '#37AA9C', '#94F3E4']"
   ]
  },
  {
   "cell_type": "markdown",
   "id": "ed6027e6",
   "metadata": {},
   "source": [
    "## Análise Exploratória"
   ]
  },
  {
   "cell_type": "code",
   "execution_count": 4,
   "id": "d28e7b17",
   "metadata": {},
   "outputs": [
    {
     "data": {
      "text/html": [
       "<div>\n",
       "<style scoped>\n",
       "    .dataframe tbody tr th:only-of-type {\n",
       "        vertical-align: middle;\n",
       "    }\n",
       "\n",
       "    .dataframe tbody tr th {\n",
       "        vertical-align: top;\n",
       "    }\n",
       "\n",
       "    .dataframe thead th {\n",
       "        text-align: right;\n",
       "    }\n",
       "</style>\n",
       "<table border=\"1\" class=\"dataframe\">\n",
       "  <thead>\n",
       "    <tr style=\"text-align: right;\">\n",
       "      <th></th>\n",
       "      <th>PassengerId</th>\n",
       "      <th>Survived</th>\n",
       "      <th>Pclass</th>\n",
       "      <th>Age</th>\n",
       "      <th>SibSp</th>\n",
       "      <th>Parch</th>\n",
       "      <th>Fare</th>\n",
       "    </tr>\n",
       "  </thead>\n",
       "  <tbody>\n",
       "    <tr>\n",
       "      <th>count</th>\n",
       "      <td>891.000000</td>\n",
       "      <td>891.000000</td>\n",
       "      <td>891.000000</td>\n",
       "      <td>714.000000</td>\n",
       "      <td>891.000000</td>\n",
       "      <td>891.000000</td>\n",
       "      <td>891.000000</td>\n",
       "    </tr>\n",
       "    <tr>\n",
       "      <th>mean</th>\n",
       "      <td>446.000000</td>\n",
       "      <td>0.383838</td>\n",
       "      <td>2.308642</td>\n",
       "      <td>29.699118</td>\n",
       "      <td>0.523008</td>\n",
       "      <td>0.381594</td>\n",
       "      <td>32.204208</td>\n",
       "    </tr>\n",
       "    <tr>\n",
       "      <th>std</th>\n",
       "      <td>257.353842</td>\n",
       "      <td>0.486592</td>\n",
       "      <td>0.836071</td>\n",
       "      <td>14.526497</td>\n",
       "      <td>1.102743</td>\n",
       "      <td>0.806057</td>\n",
       "      <td>49.693429</td>\n",
       "    </tr>\n",
       "    <tr>\n",
       "      <th>min</th>\n",
       "      <td>1.000000</td>\n",
       "      <td>0.000000</td>\n",
       "      <td>1.000000</td>\n",
       "      <td>0.420000</td>\n",
       "      <td>0.000000</td>\n",
       "      <td>0.000000</td>\n",
       "      <td>0.000000</td>\n",
       "    </tr>\n",
       "    <tr>\n",
       "      <th>25%</th>\n",
       "      <td>223.500000</td>\n",
       "      <td>0.000000</td>\n",
       "      <td>2.000000</td>\n",
       "      <td>20.125000</td>\n",
       "      <td>0.000000</td>\n",
       "      <td>0.000000</td>\n",
       "      <td>7.910400</td>\n",
       "    </tr>\n",
       "    <tr>\n",
       "      <th>50%</th>\n",
       "      <td>446.000000</td>\n",
       "      <td>0.000000</td>\n",
       "      <td>3.000000</td>\n",
       "      <td>28.000000</td>\n",
       "      <td>0.000000</td>\n",
       "      <td>0.000000</td>\n",
       "      <td>14.454200</td>\n",
       "    </tr>\n",
       "    <tr>\n",
       "      <th>75%</th>\n",
       "      <td>668.500000</td>\n",
       "      <td>1.000000</td>\n",
       "      <td>3.000000</td>\n",
       "      <td>38.000000</td>\n",
       "      <td>1.000000</td>\n",
       "      <td>0.000000</td>\n",
       "      <td>31.000000</td>\n",
       "    </tr>\n",
       "    <tr>\n",
       "      <th>max</th>\n",
       "      <td>891.000000</td>\n",
       "      <td>1.000000</td>\n",
       "      <td>3.000000</td>\n",
       "      <td>80.000000</td>\n",
       "      <td>8.000000</td>\n",
       "      <td>6.000000</td>\n",
       "      <td>512.329200</td>\n",
       "    </tr>\n",
       "  </tbody>\n",
       "</table>\n",
       "</div>"
      ],
      "text/plain": [
       "       PassengerId    Survived      Pclass         Age       SibSp  \\\n",
       "count   891.000000  891.000000  891.000000  714.000000  891.000000   \n",
       "mean    446.000000    0.383838    2.308642   29.699118    0.523008   \n",
       "std     257.353842    0.486592    0.836071   14.526497    1.102743   \n",
       "min       1.000000    0.000000    1.000000    0.420000    0.000000   \n",
       "25%     223.500000    0.000000    2.000000   20.125000    0.000000   \n",
       "50%     446.000000    0.000000    3.000000   28.000000    0.000000   \n",
       "75%     668.500000    1.000000    3.000000   38.000000    1.000000   \n",
       "max     891.000000    1.000000    3.000000   80.000000    8.000000   \n",
       "\n",
       "            Parch        Fare  \n",
       "count  891.000000  891.000000  \n",
       "mean     0.381594   32.204208  \n",
       "std      0.806057   49.693429  \n",
       "min      0.000000    0.000000  \n",
       "25%      0.000000    7.910400  \n",
       "50%      0.000000   14.454200  \n",
       "75%      0.000000   31.000000  \n",
       "max      6.000000  512.329200  "
      ]
     },
     "execution_count": 4,
     "metadata": {},
     "output_type": "execute_result"
    }
   ],
   "source": [
    "train.describe()"
   ]
  },
  {
   "cell_type": "code",
   "execution_count": 179,
   "id": "1a4f47e4",
   "metadata": {},
   "outputs": [
    {
     "data": {
      "image/png": "[encoded data removed]",
      "text/plain": [
       "<Figure size 720x576 with 9 Axes>"
      ]
     },
     "metadata": {
      "needs_background": "light"
     },
     "output_type": "display_data"
    }
   ],
   "source": [
    "train.hist(figsize=(10,8), color='#37AA9C');"
   ]
  },
  {
   "cell_type": "code",
   "execution_count": 61,
   "id": "954ea806",
   "metadata": {},
   "outputs": [
    {
     "data": {
      "application/vnd.plotly.v1+json": {
       "config": {
        "plotlyServerURL": "https://plot.ly"
       },
       "data": [
        {
         "domain": {
          "x": [
           0,
           1
          ],
          "y": [
           0,
           1
          ]
         },
         "hole": 0.4,
         "hovertemplate": "Sex=%{label}<br>PassengerId=%{value}<extra></extra>",
         "labels": [
          "female",
          "male"
         ],
         "legendgroup": "",
         "name": "",
         "showlegend": true,
         "type": "pie",
         "values": [
          314,
          577
         ]
        }
       ],
       "layout": {
        "legend": {
         "tracegroupgap": 0
        },
        "piecolorway": [
         "#333F44",
         "#37AA9C",
         "#94F3E4"
        ],
        "template": {
         "data": {
          "bar": [
           {
            "error_x": {
             "color": "#2a3f5f"
            },
            "error_y": {
             "color": "#2a3f5f"
            },
            "marker": {
             "line": {
              "color": "#E5ECF6",
              "width": 0.5
             },
             "pattern": {
              "fillmode": "overlay",
              "size": 10,
              "solidity": 0.2
             }
            },
            "type": "bar"
           }
          ],
          "barpolar": [
           {
            "marker": {
             "line": {
              "color": "#E5ECF6",
              "width": 0.5
             },
             "pattern": {
              "fillmode": "overlay",
              "size": 10,
              "solidity": 0.2
             }
            },
            "type": "barpolar"
           }
          ],
          "carpet": [
           {
            "aaxis": {
             "endlinecolor": "#2a3f5f",
             "gridcolor": "white",
             "linecolor": "white",
             "minorgridcolor": "white",
             "startlinecolor": "#2a3f5f"
            },
            "baxis": {
             "endlinecolor": "#2a3f5f",
             "gridcolor": "white",
             "linecolor": "white",
             "minorgridcolor": "white",
             "startlinecolor": "#2a3f5f"
            },
            "type": "carpet"
           }
          ],
          "choropleth": [
           {
            "colorbar": {
             "outlinewidth": 0,
             "ticks": ""
            },
            "type": "choropleth"
           }
          ],
          "contour": [
           {
            "colorbar": {
             "outlinewidth": 0,
             "ticks": ""
            },
            "colorscale": [
             [
              0,
              "#0d0887"
             ],
             [
              0.1111111111111111,
              "#46039f"
             ],
             [
              0.2222222222222222,
              "#7201a8"
             ],
             [
              0.3333333333333333,
              "#9c179e"
             ],
             [
              0.4444444444444444,
              "#bd3786"
             ],
             [
              0.5555555555555556,
              "#d8576b"
             ],
             [
              0.6666666666666666,
              "#ed7953"
             ],
             [
              0.7777777777777778,
              "#fb9f3a"
             ],
             [
              0.8888888888888888,
              "#fdca26"
             ],
             [
              1,
              "#f0f921"
             ]
            ],
            "type": "contour"
           }
          ],
          "contourcarpet": [
           {
            "colorbar": {
             "outlinewidth": 0,
             "ticks": ""
            },
            "type": "contourcarpet"
           }
          ],
          "heatmap": [
           {
            "colorbar": {
             "outlinewidth": 0,
             "ticks": ""
            },
            "colorscale": [
             [
              0,
              "#0d0887"
             ],
             [
              0.1111111111111111,
              "#46039f"
             ],
             [
              0.2222222222222222,
              "#7201a8"
             ],
             [
              0.3333333333333333,
              "#9c179e"
             ],
             [
              0.4444444444444444,
              "#bd3786"
             ],
             [
              0.5555555555555556,
              "#d8576b"
             ],
             [
              0.6666666666666666,
              "#ed7953"
             ],
             [
              0.7777777777777778,
              "#fb9f3a"
             ],
             [
              0.8888888888888888,
              "#fdca26"
             ],
             [
              1,
              "#f0f921"
             ]
            ],
            "type": "heatmap"
           }
          ],
          "heatmapgl": [
           {
            "colorbar": {
             "outlinewidth": 0,
             "ticks": ""
            },
            "colorscale": [
             [
              0,
              "#0d0887"
             ],
             [
              0.1111111111111111,
              "#46039f"
             ],
             [
              0.2222222222222222,
              "#7201a8"
             ],
             [
              0.3333333333333333,
              "#9c179e"
             ],
             [
              0.4444444444444444,
              "#bd3786"
             ],
             [
              0.5555555555555556,
              "#d8576b"
             ],
             [
              0.6666666666666666,
              "#ed7953"
             ],
             [
              0.7777777777777778,
              "#fb9f3a"
             ],
             [
              0.8888888888888888,
              "#fdca26"
             ],
             [
              1,
              "#f0f921"
             ]
            ],
            "type": "heatmapgl"
           }
          ],
          "histogram": [
           {
            "marker": {
             "pattern": {
              "fillmode": "overlay",
              "size": 10,
              "solidity": 0.2
             }
            },
            "type": "histogram"
           }
          ],
          "histogram2d": [
           {
            "colorbar": {
             "outlinewidth": 0,
             "ticks": ""
            },
            "colorscale": [
             [
              0,
              "#0d0887"
             ],
             [
              0.1111111111111111,
              "#46039f"
             ],
             [
              0.2222222222222222,
              "#7201a8"
             ],
             [
              0.3333333333333333,
              "#9c179e"
             ],
             [
              0.4444444444444444,
              "#bd3786"
             ],
             [
              0.5555555555555556,
              "#d8576b"
             ],
             [
              0.6666666666666666,
              "#ed7953"
             ],
             [
              0.7777777777777778,
              "#fb9f3a"
             ],
             [
              0.8888888888888888,
              "#fdca26"
             ],
             [
              1,
              "#f0f921"
             ]
            ],
            "type": "histogram2d"
           }
          ],
          "histogram2dcontour": [
           {
            "colorbar": {
             "outlinewidth": 0,
             "ticks": ""
            },
            "colorscale": [
             [
              0,
              "#0d0887"
             ],
             [
              0.1111111111111111,
              "#46039f"
             ],
             [
              0.2222222222222222,
              "#7201a8"
             ],
             [
              0.3333333333333333,
              "#9c179e"
             ],
             [
              0.4444444444444444,
              "#bd3786"
             ],
             [
              0.5555555555555556,
              "#d8576b"
             ],
             [
              0.6666666666666666,
              "#ed7953"
             ],
             [
              0.7777777777777778,
              "#fb9f3a"
             ],
             [
              0.8888888888888888,
              "#fdca26"
             ],
             [
              1,
              "#f0f921"
             ]
            ],
            "type": "histogram2dcontour"
           }
          ],
          "mesh3d": [
           {
            "colorbar": {
             "outlinewidth": 0,
             "ticks": ""
            },
            "type": "mesh3d"
           }
          ],
          "parcoords": [
           {
            "line": {
             "colorbar": {
              "outlinewidth": 0,
              "ticks": ""
             }
            },
            "type": "parcoords"
           }
          ],
          "pie": [
           {
            "automargin": true,
            "type": "pie"
           }
          ],
          "scatter": [
           {
            "marker": {
             "colorbar": {
              "outlinewidth": 0,
              "ticks": ""
             }
            },
            "type": "scatter"
           }
          ],
          "scatter3d": [
           {
            "line": {
             "colorbar": {
              "outlinewidth": 0,
              "ticks": ""
             }
            },
            "marker": {
             "colorbar": {
              "outlinewidth": 0,
              "ticks": ""
             }
            },
            "type": "scatter3d"
           }
          ],
          "scattercarpet": [
           {
            "marker": {
             "colorbar": {
              "outlinewidth": 0,
              "ticks": ""
             }
            },
            "type": "scattercarpet"
           }
          ],
          "scattergeo": [
           {
            "marker": {
             "colorbar": {
              "outlinewidth": 0,
              "ticks": ""
             }
            },
            "type": "scattergeo"
           }
          ],
          "scattergl": [
           {
            "marker": {
             "colorbar": {
              "outlinewidth": 0,
              "ticks": ""
             }
            },
            "type": "scattergl"
           }
          ],
          "scattermapbox": [
           {
            "marker": {
             "colorbar": {
              "outlinewidth": 0,
              "ticks": ""
             }
            },
            "type": "scattermapbox"
           }
          ],
          "scatterpolar": [
           {
            "marker": {
             "colorbar": {
              "outlinewidth": 0,
              "ticks": ""
             }
            },
            "type": "scatterpolar"
           }
          ],
          "scatterpolargl": [
           {
            "marker": {
             "colorbar": {
              "outlinewidth": 0,
              "ticks": ""
             }
            },
            "type": "scatterpolargl"
           }
          ],
          "scatterternary": [
           {
            "marker": {
             "colorbar": {
              "outlinewidth": 0,
              "ticks": ""
             }
            },
            "type": "scatterternary"
           }
          ],
          "surface": [
           {
            "colorbar": {
             "outlinewidth": 0,
             "ticks": ""
            },
            "colorscale": [
             [
              0,
              "#0d0887"
             ],
             [
              0.1111111111111111,
              "#46039f"
             ],
             [
              0.2222222222222222,
              "#7201a8"
             ],
             [
              0.3333333333333333,
              "#9c179e"
             ],
             [
              0.4444444444444444,
              "#bd3786"
             ],
             [
              0.5555555555555556,
              "#d8576b"
             ],
             [
              0.6666666666666666,
              "#ed7953"
             ],
             [
              0.7777777777777778,
              "#fb9f3a"
             ],
             [
              0.8888888888888888,
              "#fdca26"
             ],
             [
              1,
              "#f0f921"
             ]
            ],
            "type": "surface"
           }
          ],
          "table": [
           {
            "cells": {
             "fill": {
              "color": "#EBF0F8"
             },
             "line": {
              "color": "white"
             }
            },
            "header": {
             "fill": {
              "color": "#C8D4E3"
             },
             "line": {
              "color": "white"
             }
            },
            "type": "table"
           }
          ]
         },
         "layout": {
          "annotationdefaults": {
           "arrowcolor": "#2a3f5f",
           "arrowhead": 0,
           "arrowwidth": 1
          },
          "autotypenumbers": "strict",
          "coloraxis": {
           "colorbar": {
            "outlinewidth": 0,
            "ticks": ""
           }
          },
          "colorscale": {
           "diverging": [
            [
             0,
             "#8e0152"
            ],
            [
             0.1,
             "#c51b7d"
            ],
            [
             0.2,
             "#de77ae"
            ],
            [
             0.3,
             "#f1b6da"
            ],
            [
             0.4,
             "#fde0ef"
            ],
            [
             0.5,
             "#f7f7f7"
            ],
            [
             0.6,
             "#e6f5d0"
            ],
            [
             0.7,
             "#b8e186"
            ],
            [
             0.8,
             "#7fbc41"
            ],
            [
             0.9,
             "#4d9221"
            ],
            [
             1,
             "#276419"
            ]
           ],
           "sequential": [
            [
             0,
             "#0d0887"
            ],
            [
             0.1111111111111111,
             "#46039f"
            ],
            [
             0.2222222222222222,
             "#7201a8"
            ],
            [
             0.3333333333333333,
             "#9c179e"
            ],
            [
             0.4444444444444444,
             "#bd3786"
            ],
            [
             0.5555555555555556,
             "#d8576b"
            ],
            [
             0.6666666666666666,
             "#ed7953"
            ],
            [
             0.7777777777777778,
             "#fb9f3a"
            ],
            [
             0.8888888888888888,
             "#fdca26"
            ],
            [
             1,
             "#f0f921"
            ]
           ],
           "sequentialminus": [
            [
             0,
             "#0d0887"
            ],
            [
             0.1111111111111111,
             "#46039f"
            ],
            [
             0.2222222222222222,
             "#7201a8"
            ],
            [
             0.3333333333333333,
             "#9c179e"
            ],
            [
             0.4444444444444444,
             "#bd3786"
            ],
            [
             0.5555555555555556,
             "#d8576b"
            ],
            [
             0.6666666666666666,
             "#ed7953"
            ],
            [
             0.7777777777777778,
             "#fb9f3a"
            ],
            [
             0.8888888888888888,
             "#fdca26"
            ],
            [
             1,
             "#f0f921"
            ]
           ]
          },
          "colorway": [
           "#636efa",
           "#EF553B",
           "#00cc96",
           "#ab63fa",
           "#FFA15A",
           "#19d3f3",
           "#FF6692",
           "#B6E880",
           "#FF97FF",
           "#FECB52"
          ],
          "font": {
           "color": "#2a3f5f"
          },
          "geo": {
           "bgcolor": "white",
           "lakecolor": "white",
           "landcolor": "#E5ECF6",
           "showlakes": true,
           "showland": true,
           "subunitcolor": "white"
          },
          "hoverlabel": {
           "align": "left"
          },
          "hovermode": "closest",
          "mapbox": {
           "style": "light"
          },
          "paper_bgcolor": "white",
          "plot_bgcolor": "#E5ECF6",
          "polar": {
           "angularaxis": {
            "gridcolor": "white",
            "linecolor": "white",
            "ticks": ""
           },
           "bgcolor": "#E5ECF6",
           "radialaxis": {
            "gridcolor": "white",
            "linecolor": "white",
            "ticks": ""
           }
          },
          "scene": {
           "xaxis": {
            "backgroundcolor": "#E5ECF6",
            "gridcolor": "white",
            "gridwidth": 2,
            "linecolor": "white",
            "showbackground": true,
            "ticks": "",
            "zerolinecolor": "white"
           },
           "yaxis": {
            "backgroundcolor": "#E5ECF6",
            "gridcolor": "white",
            "gridwidth": 2,
            "linecolor": "white",
            "showbackground": true,
            "ticks": "",
            "zerolinecolor": "white"
           },
           "zaxis": {
            "backgroundcolor": "#E5ECF6",
            "gridcolor": "white",
            "gridwidth": 2,
            "linecolor": "white",
            "showbackground": true,
            "ticks": "",
            "zerolinecolor": "white"
           }
          },
          "shapedefaults": {
           "line": {
            "color": "#2a3f5f"
           }
          },
          "ternary": {
           "aaxis": {
            "gridcolor": "white",
            "linecolor": "white",
            "ticks": ""
           },
           "baxis": {
            "gridcolor": "white",
            "linecolor": "white",
            "ticks": ""
           },
           "bgcolor": "#E5ECF6",
           "caxis": {
            "gridcolor": "white",
            "linecolor": "white",
            "ticks": ""
           }
          },
          "title": {
           "x": 0.05
          },
          "xaxis": {
           "automargin": true,
           "gridcolor": "white",
           "linecolor": "white",
           "ticks": "",
           "title": {
            "standoff": 15
           },
           "zerolinecolor": "white",
           "zerolinewidth": 2
          },
          "yaxis": {
           "automargin": true,
           "gridcolor": "white",
           "linecolor": "white",
           "ticks": "",
           "title": {
            "standoff": 15
           },
           "zerolinecolor": "white",
           "zerolinewidth": 2
          }
         }
        },
        "title": {
         "text": "Distribuição por Sexo"
        }
       }
      },
      "text/html": [
       "<div>                            <div id=\"54743dbc-36df-4b85-90f7-3d8dfd30a2cd\" class=\"plotly-graph-div\" style=\"height:525px; width:100%;\"></div>            <script type=\"text/javascript\">                require([\"plotly\"], function(Plotly) {                    window.PLOTLYENV=window.PLOTLYENV || {};                                    if (document.getElementById(\"54743dbc-36df-4b85-90f7-3d8dfd30a2cd\")) {                    Plotly.newPlot(                        \"54743dbc-36df-4b85-90f7-3d8dfd30a2cd\",                        [{\"domain\":{\"x\":[0.0,1.0],\"y\":[0.0,1.0]},\"hole\":0.4,\"hovertemplate\":\"Sex=%{label}<br>PassengerId=%{value}<extra></extra>\",\"labels\":[\"female\",\"male\"],\"legendgroup\":\"\",\"name\":\"\",\"showlegend\":true,\"type\":\"pie\",\"values\":[314,577]}],                        {\"legend\":{\"tracegroupgap\":0},\"piecolorway\":[\"#333F44\",\"#37AA9C\",\"#94F3E4\"],\"template\":{\"data\":{\"bar\":[{\"error_x\":{\"color\":\"#2a3f5f\"},\"error_y\":{\"color\":\"#2a3f5f\"},\"marker\":{\"line\":{\"color\":\"#E5ECF6\",\"width\":0.5},\"pattern\":{\"fillmode\":\"overlay\",\"size\":10,\"solidity\":0.2}},\"type\":\"bar\"}],\"barpolar\":[{\"marker\":{\"line\":{\"color\":\"#E5ECF6\",\"width\":0.5},\"pattern\":{\"fillmode\":\"overlay\",\"size\":10,\"solidity\":0.2}},\"type\":\"barpolar\"}],\"carpet\":[{\"aaxis\":{\"endlinecolor\":\"#2a3f5f\",\"gridcolor\":\"white\",\"linecolor\":\"white\",\"minorgridcolor\":\"white\",\"startlinecolor\":\"#2a3f5f\"},\"baxis\":{\"endlinecolor\":\"#2a3f5f\",\"gridcolor\":\"white\",\"linecolor\":\"white\",\"minorgridcolor\":\"white\",\"startlinecolor\":\"#2a3f5f\"},\"type\":\"carpet\"}],\"choropleth\":[{\"colorbar\":{\"outlinewidth\":0,\"ticks\":\"\"},\"type\":\"choropleth\"}],\"contour\":[{\"colorbar\":{\"outlinewidth\":0,\"ticks\":\"\"},\"colorscale\":[[0.0,\"#0d0887\"],[0.1111111111111111,\"#46039f\"],[0.2222222222222222,\"#7201a8\"],[0.3333333333333333,\"#9c179e\"],[0.4444444444444444,\"#bd3786\"],[0.5555555555555556,\"#d8576b\"],[0.6666666666666666,\"#ed7953\"],[0.7777777777777778,\"#fb9f3a\"],[0.8888888888888888,\"#fdca26\"],[1.0,\"#f0f921\"]],\"type\":\"contour\"}],\"contourcarpet\":[{\"colorbar\":{\"outlinewidth\":0,\"ticks\":\"\"},\"type\":\"contourcarpet\"}],\"heatmap\":[{\"colorbar\":{\"outlinewidth\":0,\"ticks\":\"\"},\"colorscale\":[[0.0,\"#0d0887\"],[0.1111111111111111,\"#46039f\"],[0.2222222222222222,\"#7201a8\"],[0.3333333333333333,\"#9c179e\"],[0.4444444444444444,\"#bd3786\"],[0.5555555555555556,\"#d8576b\"],[0.6666666666666666,\"#ed7953\"],[0.7777777777777778,\"#fb9f3a\"],[0.8888888888888888,\"#fdca26\"],[1.0,\"#f0f921\"]],\"type\":\"heatmap\"}],\"heatmapgl\":[{\"colorbar\":{\"outlinewidth\":0,\"ticks\":\"\"},\"colorscale\":[[0.0,\"#0d0887\"],[0.1111111111111111,\"#46039f\"],[0.2222222222222222,\"#7201a8\"],[0.3333333333333333,\"#9c179e\"],[0.4444444444444444,\"#bd3786\"],[0.5555555555555556,\"#d8576b\"],[0.6666666666666666,\"#ed7953\"],[0.7777777777777778,\"#fb9f3a\"],[0.8888888888888888,\"#fdca26\"],[1.0,\"#f0f921\"]],\"type\":\"heatmapgl\"}],\"histogram\":[{\"marker\":{\"pattern\":{\"fillmode\":\"overlay\",\"size\":10,\"solidity\":0.2}},\"type\":\"histogram\"}],\"histogram2d\":[{\"colorbar\":{\"outlinewidth\":0,\"ticks\":\"\"},\"colorscale\":[[0.0,\"#0d0887\"],[0.1111111111111111,\"#46039f\"],[0.2222222222222222,\"#7201a8\"],[0.3333333333333333,\"#9c179e\"],[0.4444444444444444,\"#bd3786\"],[0.5555555555555556,\"#d8576b\"],[0.6666666666666666,\"#ed7953\"],[0.7777777777777778,\"#fb9f3a\"],[0.8888888888888888,\"#fdca26\"],[1.0,\"#f0f921\"]],\"type\":\"histogram2d\"}],\"histogram2dcontour\":[{\"colorbar\":{\"outlinewidth\":0,\"ticks\":\"\"},\"colorscale\":[[0.0,\"#0d0887\"],[0.1111111111111111,\"#46039f\"],[0.2222222222222222,\"#7201a8\"],[0.3333333333333333,\"#9c179e\"],[0.4444444444444444,\"#bd3786\"],[0.5555555555555556,\"#d8576b\"],[0.6666666666666666,\"#ed7953\"],[0.7777777777777778,\"#fb9f3a\"],[0.8888888888888888,\"#fdca26\"],[1.0,\"#f0f921\"]],\"type\":\"histogram2dcontour\"}],\"mesh3d\":[{\"colorbar\":{\"outlinewidth\":0,\"ticks\":\"\"},\"type\":\"mesh3d\"}],\"parcoords\":[{\"line\":{\"colorbar\":{\"outlinewidth\":0,\"ticks\":\"\"}},\"type\":\"parcoords\"}],\"pie\":[{\"automargin\":true,\"type\":\"pie\"}],\"scatter\":[{\"marker\":{\"colorbar\":{\"outlinewidth\":0,\"ticks\":\"\"}},\"type\":\"scatter\"}],\"scatter3d\":[{\"line\":{\"colorbar\":{\"outlinewidth\":0,\"ticks\":\"\"}},\"marker\":{\"colorbar\":{\"outlinewidth\":0,\"ticks\":\"\"}},\"type\":\"scatter3d\"}],\"scattercarpet\":[{\"marker\":{\"colorbar\":{\"outlinewidth\":0,\"ticks\":\"\"}},\"type\":\"scattercarpet\"}],\"scattergeo\":[{\"marker\":{\"colorbar\":{\"outlinewidth\":0,\"ticks\":\"\"}},\"type\":\"scattergeo\"}],\"scattergl\":[{\"marker\":{\"colorbar\":{\"outlinewidth\":0,\"ticks\":\"\"}},\"type\":\"scattergl\"}],\"scattermapbox\":[{\"marker\":{\"colorbar\":{\"outlinewidth\":0,\"ticks\":\"\"}},\"type\":\"scattermapbox\"}],\"scatterpolar\":[{\"marker\":{\"colorbar\":{\"outlinewidth\":0,\"ticks\":\"\"}},\"type\":\"scatterpolar\"}],\"scatterpolargl\":[{\"marker\":{\"colorbar\":{\"outlinewidth\":0,\"ticks\":\"\"}},\"type\":\"scatterpolargl\"}],\"scatterternary\":[{\"marker\":{\"colorbar\":{\"outlinewidth\":0,\"ticks\":\"\"}},\"type\":\"scatterternary\"}],\"surface\":[{\"colorbar\":{\"outlinewidth\":0,\"ticks\":\"\"},\"colorscale\":[[0.0,\"#0d0887\"],[0.1111111111111111,\"#46039f\"],[0.2222222222222222,\"#7201a8\"],[0.3333333333333333,\"#9c179e\"],[0.4444444444444444,\"#bd3786\"],[0.5555555555555556,\"#d8576b\"],[0.6666666666666666,\"#ed7953\"],[0.7777777777777778,\"#fb9f3a\"],[0.8888888888888888,\"#fdca26\"],[1.0,\"#f0f921\"]],\"type\":\"surface\"}],\"table\":[{\"cells\":{\"fill\":{\"color\":\"#EBF0F8\"},\"line\":{\"color\":\"white\"}},\"header\":{\"fill\":{\"color\":\"#C8D4E3\"},\"line\":{\"color\":\"white\"}},\"type\":\"table\"}]},\"layout\":{\"annotationdefaults\":{\"arrowcolor\":\"#2a3f5f\",\"arrowhead\":0,\"arrowwidth\":1},\"autotypenumbers\":\"strict\",\"coloraxis\":{\"colorbar\":{\"outlinewidth\":0,\"ticks\":\"\"}},\"colorscale\":{\"diverging\":[[0,\"#8e0152\"],[0.1,\"#c51b7d\"],[0.2,\"#de77ae\"],[0.3,\"#f1b6da\"],[0.4,\"#fde0ef\"],[0.5,\"#f7f7f7\"],[0.6,\"#e6f5d0\"],[0.7,\"#b8e186\"],[0.8,\"#7fbc41\"],[0.9,\"#4d9221\"],[1,\"#276419\"]],\"sequential\":[[0.0,\"#0d0887\"],[0.1111111111111111,\"#46039f\"],[0.2222222222222222,\"#7201a8\"],[0.3333333333333333,\"#9c179e\"],[0.4444444444444444,\"#bd3786\"],[0.5555555555555556,\"#d8576b\"],[0.6666666666666666,\"#ed7953\"],[0.7777777777777778,\"#fb9f3a\"],[0.8888888888888888,\"#fdca26\"],[1.0,\"#f0f921\"]],\"sequentialminus\":[[0.0,\"#0d0887\"],[0.1111111111111111,\"#46039f\"],[0.2222222222222222,\"#7201a8\"],[0.3333333333333333,\"#9c179e\"],[0.4444444444444444,\"#bd3786\"],[0.5555555555555556,\"#d8576b\"],[0.6666666666666666,\"#ed7953\"],[0.7777777777777778,\"#fb9f3a\"],[0.8888888888888888,\"#fdca26\"],[1.0,\"#f0f921\"]]},\"colorway\":[\"#636efa\",\"#EF553B\",\"#00cc96\",\"#ab63fa\",\"#FFA15A\",\"#19d3f3\",\"#FF6692\",\"#B6E880\",\"#FF97FF\",\"#FECB52\"],\"font\":{\"color\":\"#2a3f5f\"},\"geo\":{\"bgcolor\":\"white\",\"lakecolor\":\"white\",\"landcolor\":\"#E5ECF6\",\"showlakes\":true,\"showland\":true,\"subunitcolor\":\"white\"},\"hoverlabel\":{\"align\":\"left\"},\"hovermode\":\"closest\",\"mapbox\":{\"style\":\"light\"},\"paper_bgcolor\":\"white\",\"plot_bgcolor\":\"#E5ECF6\",\"polar\":{\"angularaxis\":{\"gridcolor\":\"white\",\"linecolor\":\"white\",\"ticks\":\"\"},\"bgcolor\":\"#E5ECF6\",\"radialaxis\":{\"gridcolor\":\"white\",\"linecolor\":\"white\",\"ticks\":\"\"}},\"scene\":{\"xaxis\":{\"backgroundcolor\":\"#E5ECF6\",\"gridcolor\":\"white\",\"gridwidth\":2,\"linecolor\":\"white\",\"showbackground\":true,\"ticks\":\"\",\"zerolinecolor\":\"white\"},\"yaxis\":{\"backgroundcolor\":\"#E5ECF6\",\"gridcolor\":\"white\",\"gridwidth\":2,\"linecolor\":\"white\",\"showbackground\":true,\"ticks\":\"\",\"zerolinecolor\":\"white\"},\"zaxis\":{\"backgroundcolor\":\"#E5ECF6\",\"gridcolor\":\"white\",\"gridwidth\":2,\"linecolor\":\"white\",\"showbackground\":true,\"ticks\":\"\",\"zerolinecolor\":\"white\"}},\"shapedefaults\":{\"line\":{\"color\":\"#2a3f5f\"}},\"ternary\":{\"aaxis\":{\"gridcolor\":\"white\",\"linecolor\":\"white\",\"ticks\":\"\"},\"baxis\":{\"gridcolor\":\"white\",\"linecolor\":\"white\",\"ticks\":\"\"},\"bgcolor\":\"#E5ECF6\",\"caxis\":{\"gridcolor\":\"white\",\"linecolor\":\"white\",\"ticks\":\"\"}},\"title\":{\"x\":0.05},\"xaxis\":{\"automargin\":true,\"gridcolor\":\"white\",\"linecolor\":\"white\",\"ticks\":\"\",\"title\":{\"standoff\":15},\"zerolinecolor\":\"white\",\"zerolinewidth\":2},\"yaxis\":{\"automargin\":true,\"gridcolor\":\"white\",\"linecolor\":\"white\",\"ticks\":\"\",\"title\":{\"standoff\":15},\"zerolinecolor\":\"white\",\"zerolinewidth\":2}}},\"title\":{\"text\":\"Distribui\\u00e7\\u00e3o por Sexo\"}},                        {\"responsive\": true}                    ).then(function(){\n",
       "                            \n",
       "var gd = document.getElementById('54743dbc-36df-4b85-90f7-3d8dfd30a2cd');\n",
       "var x = new MutationObserver(function (mutations, observer) {{\n",
       "        var display = window.getComputedStyle(gd).display;\n",
       "        if (!display || display === 'none') {{\n",
       "            console.log([gd, 'removed!']);\n",
       "            Plotly.purge(gd);\n",
       "            observer.disconnect();\n",
       "        }}\n",
       "}});\n",
       "\n",
       "// Listen for the removal of the full notebook cells\n",
       "var notebookContainer = gd.closest('#notebook-container');\n",
       "if (notebookContainer) {{\n",
       "    x.observe(notebookContainer, {childList: true});\n",
       "}}\n",
       "\n",
       "// Listen for the clearing of the current output cell\n",
       "var outputEl = gd.closest('.output');\n",
       "if (outputEl) {{\n",
       "    x.observe(outputEl, {childList: true});\n",
       "}}\n",
       "\n",
       "                        })                };                });            </script>        </div>"
      ]
     },
     "metadata": {},
     "output_type": "display_data"
    }
   ],
   "source": [
    "fig = px.pie(train.groupby('Sex',as_index=False).agg({'PassengerId':'count'}),\n",
    "             values='PassengerId',\n",
    "             names='Sex',\n",
    "             title='Distribuição por Sexo',\n",
    "             color_discrete_sequence=colors,\n",
    "             hole=.4)\n",
    "fig.show()"
   ]
  },
  {
   "cell_type": "code",
   "execution_count": 106,
   "id": "938acbf0",
   "metadata": {},
   "outputs": [
    {
     "data": {
      "application/vnd.plotly.v1+json": {
       "config": {
        "plotlyServerURL": "https://plot.ly"
       },
       "data": [
        {
         "alignmentgroup": "True",
         "hovertemplate": "=%{text}<extra></extra>",
         "legendgroup": "female",
         "marker": {
          "color": "#333F44",
          "pattern": {
           "shape": ""
          }
         },
         "name": "female",
         "offsetgroup": "female",
         "orientation": "v",
         "showlegend": true,
         "text": [
          81,
          233
         ],
         "textposition": "outside",
         "texttemplate": "%{text:.4s}",
         "type": "bar",
         "x": [
          "Morreu",
          "Viveu"
         ],
         "xaxis": "x",
         "y": [
          81,
          233
         ],
         "yaxis": "y"
        },
        {
         "alignmentgroup": "True",
         "hovertemplate": "=%{text}<extra></extra>",
         "legendgroup": "male",
         "marker": {
          "color": "#37AA9C",
          "pattern": {
           "shape": ""
          }
         },
         "name": "male",
         "offsetgroup": "male",
         "orientation": "v",
         "showlegend": true,
         "text": [
          468,
          109
         ],
         "textposition": "outside",
         "texttemplate": "%{text:.4s}",
         "type": "bar",
         "x": [
          "Morreu",
          "Viveu"
         ],
         "xaxis": "x",
         "y": [
          468,
          109
         ],
         "yaxis": "y"
        }
       ],
       "layout": {
        "barmode": "group",
        "legend": {
         "title": {
          "text": ""
         },
         "tracegroupgap": 0
        },
        "template": {
         "data": {
          "bar": [
           {
            "error_x": {
             "color": "#2a3f5f"
            },
            "error_y": {
             "color": "#2a3f5f"
            },
            "marker": {
             "line": {
              "color": "#E5ECF6",
              "width": 0.5
             },
             "pattern": {
              "fillmode": "overlay",
              "size": 10,
              "solidity": 0.2
             }
            },
            "type": "bar"
           }
          ],
          "barpolar": [
           {
            "marker": {
             "line": {
              "color": "#E5ECF6",
              "width": 0.5
             },
             "pattern": {
              "fillmode": "overlay",
              "size": 10,
              "solidity": 0.2
             }
            },
            "type": "barpolar"
           }
          ],
          "carpet": [
           {
            "aaxis": {
             "endlinecolor": "#2a3f5f",
             "gridcolor": "white",
             "linecolor": "white",
             "minorgridcolor": "white",
             "startlinecolor": "#2a3f5f"
            },
            "baxis": {
             "endlinecolor": "#2a3f5f",
             "gridcolor": "white",
             "linecolor": "white",
             "minorgridcolor": "white",
             "startlinecolor": "#2a3f5f"
            },
            "type": "carpet"
           }
          ],
          "choropleth": [
           {
            "colorbar": {
             "outlinewidth": 0,
             "ticks": ""
            },
            "type": "choropleth"
           }
          ],
          "contour": [
           {
            "colorbar": {
             "outlinewidth": 0,
             "ticks": ""
            },
            "colorscale": [
             [
              0,
              "#0d0887"
             ],
             [
              0.1111111111111111,
              "#46039f"
             ],
             [
              0.2222222222222222,
              "#7201a8"
             ],
             [
              0.3333333333333333,
              "#9c179e"
             ],
             [
              0.4444444444444444,
              "#bd3786"
             ],
             [
              0.5555555555555556,
              "#d8576b"
             ],
             [
              0.6666666666666666,
              "#ed7953"
             ],
             [
              0.7777777777777778,
              "#fb9f3a"
             ],
             [
              0.8888888888888888,
              "#fdca26"
             ],
             [
              1,
              "#f0f921"
             ]
            ],
            "type": "contour"
           }
          ],
          "contourcarpet": [
           {
            "colorbar": {
             "outlinewidth": 0,
             "ticks": ""
            },
            "type": "contourcarpet"
           }
          ],
          "heatmap": [
           {
            "colorbar": {
             "outlinewidth": 0,
             "ticks": ""
            },
            "colorscale": [
             [
              0,
              "#0d0887"
             ],
             [
              0.1111111111111111,
              "#46039f"
             ],
             [
              0.2222222222222222,
              "#7201a8"
             ],
             [
              0.3333333333333333,
              "#9c179e"
             ],
             [
              0.4444444444444444,
              "#bd3786"
             ],
             [
              0.5555555555555556,
              "#d8576b"
             ],
             [
              0.6666666666666666,
              "#ed7953"
             ],
             [
              0.7777777777777778,
              "#fb9f3a"
             ],
             [
              0.8888888888888888,
              "#fdca26"
             ],
             [
              1,
              "#f0f921"
             ]
            ],
            "type": "heatmap"
           }
          ],
          "heatmapgl": [
           {
            "colorbar": {
             "outlinewidth": 0,
             "ticks": ""
            },
            "colorscale": [
             [
              0,
              "#0d0887"
             ],
             [
              0.1111111111111111,
              "#46039f"
             ],
             [
              0.2222222222222222,
              "#7201a8"
             ],
             [
              0.3333333333333333,
              "#9c179e"
             ],
             [
              0.4444444444444444,
              "#bd3786"
             ],
             [
              0.5555555555555556,
              "#d8576b"
             ],
             [
              0.6666666666666666,
              "#ed7953"
             ],
             [
              0.7777777777777778,
              "#fb9f3a"
             ],
             [
              0.8888888888888888,
              "#fdca26"
             ],
             [
              1,
              "#f0f921"
             ]
            ],
            "type": "heatmapgl"
           }
          ],
          "histogram": [
           {
            "marker": {
             "pattern": {
              "fillmode": "overlay",
              "size": 10,
              "solidity": 0.2
             }
            },
            "type": "histogram"
           }
          ],
          "histogram2d": [
           {
            "colorbar": {
             "outlinewidth": 0,
             "ticks": ""
            },
            "colorscale": [
             [
              0,
              "#0d0887"
             ],
             [
              0.1111111111111111,
              "#46039f"
             ],
             [
              0.2222222222222222,
              "#7201a8"
             ],
             [
              0.3333333333333333,
              "#9c179e"
             ],
             [
              0.4444444444444444,
              "#bd3786"
             ],
             [
              0.5555555555555556,
              "#d8576b"
             ],
             [
              0.6666666666666666,
              "#ed7953"
             ],
             [
              0.7777777777777778,
              "#fb9f3a"
             ],
             [
              0.8888888888888888,
              "#fdca26"
             ],
             [
              1,
              "#f0f921"
             ]
            ],
            "type": "histogram2d"
           }
          ],
          "histogram2dcontour": [
           {
            "colorbar": {
             "outlinewidth": 0,
             "ticks": ""
            },
            "colorscale": [
             [
              0,
              "#0d0887"
             ],
             [
              0.1111111111111111,
              "#46039f"
             ],
             [
              0.2222222222222222,
              "#7201a8"
             ],
             [
              0.3333333333333333,
              "#9c179e"
             ],
             [
              0.4444444444444444,
              "#bd3786"
             ],
             [
              0.5555555555555556,
              "#d8576b"
             ],
             [
              0.6666666666666666,
              "#ed7953"
             ],
             [
              0.7777777777777778,
              "#fb9f3a"
             ],
             [
              0.8888888888888888,
              "#fdca26"
             ],
             [
              1,
              "#f0f921"
             ]
            ],
            "type": "histogram2dcontour"
           }
          ],
          "mesh3d": [
           {
            "colorbar": {
             "outlinewidth": 0,
             "ticks": ""
            },
            "type": "mesh3d"
           }
          ],
          "parcoords": [
           {
            "line": {
             "colorbar": {
              "outlinewidth": 0,
              "ticks": ""
             }
            },
            "type": "parcoords"
           }
          ],
          "pie": [
           {
            "automargin": true,
            "type": "pie"
           }
          ],
          "scatter": [
           {
            "marker": {
             "colorbar": {
              "outlinewidth": 0,
              "ticks": ""
             }
            },
            "type": "scatter"
           }
          ],
          "scatter3d": [
           {
            "line": {
             "colorbar": {
              "outlinewidth": 0,
              "ticks": ""
             }
            },
            "marker": {
             "colorbar": {
              "outlinewidth": 0,
              "ticks": ""
             }
            },
            "type": "scatter3d"
           }
          ],
          "scattercarpet": [
           {
            "marker": {
             "colorbar": {
              "outlinewidth": 0,
              "ticks": ""
             }
            },
            "type": "scattercarpet"
           }
          ],
          "scattergeo": [
           {
            "marker": {
             "colorbar": {
              "outlinewidth": 0,
              "ticks": ""
             }
            },
            "type": "scattergeo"
           }
          ],
          "scattergl": [
           {
            "marker": {
             "colorbar": {
              "outlinewidth": 0,
              "ticks": ""
             }
            },
            "type": "scattergl"
           }
          ],
          "scattermapbox": [
           {
            "marker": {
             "colorbar": {
              "outlinewidth": 0,
              "ticks": ""
             }
            },
            "type": "scattermapbox"
           }
          ],
          "scatterpolar": [
           {
            "marker": {
             "colorbar": {
              "outlinewidth": 0,
              "ticks": ""
             }
            },
            "type": "scatterpolar"
           }
          ],
          "scatterpolargl": [
           {
            "marker": {
             "colorbar": {
              "outlinewidth": 0,
              "ticks": ""
             }
            },
            "type": "scatterpolargl"
           }
          ],
          "scatterternary": [
           {
            "marker": {
             "colorbar": {
              "outlinewidth": 0,
              "ticks": ""
             }
            },
            "type": "scatterternary"
           }
          ],
          "surface": [
           {
            "colorbar": {
             "outlinewidth": 0,
             "ticks": ""
            },
            "colorscale": [
             [
              0,
              "#0d0887"
             ],
             [
              0.1111111111111111,
              "#46039f"
             ],
             [
              0.2222222222222222,
              "#7201a8"
             ],
             [
              0.3333333333333333,
              "#9c179e"
             ],
             [
              0.4444444444444444,
              "#bd3786"
             ],
             [
              0.5555555555555556,
              "#d8576b"
             ],
             [
              0.6666666666666666,
              "#ed7953"
             ],
             [
              0.7777777777777778,
              "#fb9f3a"
             ],
             [
              0.8888888888888888,
              "#fdca26"
             ],
             [
              1,
              "#f0f921"
             ]
            ],
            "type": "surface"
           }
          ],
          "table": [
           {
            "cells": {
             "fill": {
              "color": "#EBF0F8"
             },
             "line": {
              "color": "white"
             }
            },
            "header": {
             "fill": {
              "color": "#C8D4E3"
             },
             "line": {
              "color": "white"
             }
            },
            "type": "table"
           }
          ]
         },
         "layout": {
          "annotationdefaults": {
           "arrowcolor": "#2a3f5f",
           "arrowhead": 0,
           "arrowwidth": 1
          },
          "autotypenumbers": "strict",
          "coloraxis": {
           "colorbar": {
            "outlinewidth": 0,
            "ticks": ""
           }
          },
          "colorscale": {
           "diverging": [
            [
             0,
             "#8e0152"
            ],
            [
             0.1,
             "#c51b7d"
            ],
            [
             0.2,
             "#de77ae"
            ],
            [
             0.3,
             "#f1b6da"
            ],
            [
             0.4,
             "#fde0ef"
            ],
            [
             0.5,
             "#f7f7f7"
            ],
            [
             0.6,
             "#e6f5d0"
            ],
            [
             0.7,
             "#b8e186"
            ],
            [
             0.8,
             "#7fbc41"
            ],
            [
             0.9,
             "#4d9221"
            ],
            [
             1,
             "#276419"
            ]
           ],
           "sequential": [
            [
             0,
             "#0d0887"
            ],
            [
             0.1111111111111111,
             "#46039f"
            ],
            [
             0.2222222222222222,
             "#7201a8"
            ],
            [
             0.3333333333333333,
             "#9c179e"
            ],
            [
             0.4444444444444444,
             "#bd3786"
            ],
            [
             0.5555555555555556,
             "#d8576b"
            ],
            [
             0.6666666666666666,
             "#ed7953"
            ],
            [
             0.7777777777777778,
             "#fb9f3a"
            ],
            [
             0.8888888888888888,
             "#fdca26"
            ],
            [
             1,
             "#f0f921"
            ]
           ],
           "sequentialminus": [
            [
             0,
             "#0d0887"
            ],
            [
             0.1111111111111111,
             "#46039f"
            ],
            [
             0.2222222222222222,
             "#7201a8"
            ],
            [
             0.3333333333333333,
             "#9c179e"
            ],
            [
             0.4444444444444444,
             "#bd3786"
            ],
            [
             0.5555555555555556,
             "#d8576b"
            ],
            [
             0.6666666666666666,
             "#ed7953"
            ],
            [
             0.7777777777777778,
             "#fb9f3a"
            ],
            [
             0.8888888888888888,
             "#fdca26"
            ],
            [
             1,
             "#f0f921"
            ]
           ]
          },
          "colorway": [
           "#636efa",
           "#EF553B",
           "#00cc96",
           "#ab63fa",
           "#FFA15A",
           "#19d3f3",
           "#FF6692",
           "#B6E880",
           "#FF97FF",
           "#FECB52"
          ],
          "font": {
           "color": "#2a3f5f"
          },
          "geo": {
           "bgcolor": "white",
           "lakecolor": "white",
           "landcolor": "#E5ECF6",
           "showlakes": true,
           "showland": true,
           "subunitcolor": "white"
          },
          "hoverlabel": {
           "align": "left"
          },
          "hovermode": "closest",
          "mapbox": {
           "style": "light"
          },
          "paper_bgcolor": "white",
          "plot_bgcolor": "#E5ECF6",
          "polar": {
           "angularaxis": {
            "gridcolor": "white",
            "linecolor": "white",
            "ticks": ""
           },
           "bgcolor": "#E5ECF6",
           "radialaxis": {
            "gridcolor": "white",
            "linecolor": "white",
            "ticks": ""
           }
          },
          "scene": {
           "xaxis": {
            "backgroundcolor": "#E5ECF6",
            "gridcolor": "white",
            "gridwidth": 2,
            "linecolor": "white",
            "showbackground": true,
            "ticks": "",
            "zerolinecolor": "white"
           },
           "yaxis": {
            "backgroundcolor": "#E5ECF6",
            "gridcolor": "white",
            "gridwidth": 2,
            "linecolor": "white",
            "showbackground": true,
            "ticks": "",
            "zerolinecolor": "white"
           },
           "zaxis": {
            "backgroundcolor": "#E5ECF6",
            "gridcolor": "white",
            "gridwidth": 2,
            "linecolor": "white",
            "showbackground": true,
            "ticks": "",
            "zerolinecolor": "white"
           }
          },
          "shapedefaults": {
           "line": {
            "color": "#2a3f5f"
           }
          },
          "ternary": {
           "aaxis": {
            "gridcolor": "white",
            "linecolor": "white",
            "ticks": ""
           },
           "baxis": {
            "gridcolor": "white",
            "linecolor": "white",
            "ticks": ""
           },
           "bgcolor": "#E5ECF6",
           "caxis": {
            "gridcolor": "white",
            "linecolor": "white",
            "ticks": ""
           }
          },
          "title": {
           "x": 0.05
          },
          "xaxis": {
           "automargin": true,
           "gridcolor": "white",
           "linecolor": "white",
           "ticks": "",
           "title": {
            "standoff": 15
           },
           "zerolinecolor": "white",
           "zerolinewidth": 2
          },
          "yaxis": {
           "automargin": true,
           "gridcolor": "white",
           "linecolor": "white",
           "ticks": "",
           "title": {
            "standoff": 15
           },
           "zerolinecolor": "white",
           "zerolinewidth": 2
          }
         }
        },
        "title": {
         "text": "Sobreviventes por Sexo"
        },
        "uniformtext": {
         "minsize": 8,
         "mode": "hide"
        },
        "xaxis": {
         "anchor": "y",
         "domain": [
          0,
          1
         ],
         "title": {
          "text": ""
         }
        },
        "yaxis": {
         "anchor": "x",
         "domain": [
          0,
          1
         ],
         "title": {
          "text": ""
         }
        }
       }
      },
      "text/html": [
       "<div>                            <div id=\"fdb774bd-d468-41b4-9c72-21338bee7326\" class=\"plotly-graph-div\" style=\"height:525px; width:100%;\"></div>            <script type=\"text/javascript\">                require([\"plotly\"], function(Plotly) {                    window.PLOTLYENV=window.PLOTLYENV || {};                                    if (document.getElementById(\"fdb774bd-d468-41b4-9c72-21338bee7326\")) {                    Plotly.newPlot(                        \"fdb774bd-d468-41b4-9c72-21338bee7326\",                        [{\"alignmentgroup\":\"True\",\"hovertemplate\":\"=%{text}<extra></extra>\",\"legendgroup\":\"female\",\"marker\":{\"color\":\"#333F44\",\"pattern\":{\"shape\":\"\"}},\"name\":\"female\",\"offsetgroup\":\"female\",\"orientation\":\"v\",\"showlegend\":true,\"text\":[81.0,233.0],\"textposition\":\"outside\",\"texttemplate\":\"%{text:.4s}\",\"type\":\"bar\",\"x\":[\"Morreu\",\"Viveu\"],\"xaxis\":\"x\",\"y\":[81,233],\"yaxis\":\"y\"},{\"alignmentgroup\":\"True\",\"hovertemplate\":\"=%{text}<extra></extra>\",\"legendgroup\":\"male\",\"marker\":{\"color\":\"#37AA9C\",\"pattern\":{\"shape\":\"\"}},\"name\":\"male\",\"offsetgroup\":\"male\",\"orientation\":\"v\",\"showlegend\":true,\"text\":[468.0,109.0],\"textposition\":\"outside\",\"texttemplate\":\"%{text:.4s}\",\"type\":\"bar\",\"x\":[\"Morreu\",\"Viveu\"],\"xaxis\":\"x\",\"y\":[468,109],\"yaxis\":\"y\"}],                        {\"barmode\":\"group\",\"legend\":{\"title\":{\"text\":\"\"},\"tracegroupgap\":0},\"template\":{\"data\":{\"bar\":[{\"error_x\":{\"color\":\"#2a3f5f\"},\"error_y\":{\"color\":\"#2a3f5f\"},\"marker\":{\"line\":{\"color\":\"#E5ECF6\",\"width\":0.5},\"pattern\":{\"fillmode\":\"overlay\",\"size\":10,\"solidity\":0.2}},\"type\":\"bar\"}],\"barpolar\":[{\"marker\":{\"line\":{\"color\":\"#E5ECF6\",\"width\":0.5},\"pattern\":{\"fillmode\":\"overlay\",\"size\":10,\"solidity\":0.2}},\"type\":\"barpolar\"}],\"carpet\":[{\"aaxis\":{\"endlinecolor\":\"#2a3f5f\",\"gridcolor\":\"white\",\"linecolor\":\"white\",\"minorgridcolor\":\"white\",\"startlinecolor\":\"#2a3f5f\"},\"baxis\":{\"endlinecolor\":\"#2a3f5f\",\"gridcolor\":\"white\",\"linecolor\":\"white\",\"minorgridcolor\":\"white\",\"startlinecolor\":\"#2a3f5f\"},\"type\":\"carpet\"}],\"choropleth\":[{\"colorbar\":{\"outlinewidth\":0,\"ticks\":\"\"},\"type\":\"choropleth\"}],\"contour\":[{\"colorbar\":{\"outlinewidth\":0,\"ticks\":\"\"},\"colorscale\":[[0.0,\"#0d0887\"],[0.1111111111111111,\"#46039f\"],[0.2222222222222222,\"#7201a8\"],[0.3333333333333333,\"#9c179e\"],[0.4444444444444444,\"#bd3786\"],[0.5555555555555556,\"#d8576b\"],[0.6666666666666666,\"#ed7953\"],[0.7777777777777778,\"#fb9f3a\"],[0.8888888888888888,\"#fdca26\"],[1.0,\"#f0f921\"]],\"type\":\"contour\"}],\"contourcarpet\":[{\"colorbar\":{\"outlinewidth\":0,\"ticks\":\"\"},\"type\":\"contourcarpet\"}],\"heatmap\":[{\"colorbar\":{\"outlinewidth\":0,\"ticks\":\"\"},\"colorscale\":[[0.0,\"#0d0887\"],[0.1111111111111111,\"#46039f\"],[0.2222222222222222,\"#7201a8\"],[0.3333333333333333,\"#9c179e\"],[0.4444444444444444,\"#bd3786\"],[0.5555555555555556,\"#d8576b\"],[0.6666666666666666,\"#ed7953\"],[0.7777777777777778,\"#fb9f3a\"],[0.8888888888888888,\"#fdca26\"],[1.0,\"#f0f921\"]],\"type\":\"heatmap\"}],\"heatmapgl\":[{\"colorbar\":{\"outlinewidth\":0,\"ticks\":\"\"},\"colorscale\":[[0.0,\"#0d0887\"],[0.1111111111111111,\"#46039f\"],[0.2222222222222222,\"#7201a8\"],[0.3333333333333333,\"#9c179e\"],[0.4444444444444444,\"#bd3786\"],[0.5555555555555556,\"#d8576b\"],[0.6666666666666666,\"#ed7953\"],[0.7777777777777778,\"#fb9f3a\"],[0.8888888888888888,\"#fdca26\"],[1.0,\"#f0f921\"]],\"type\":\"heatmapgl\"}],\"histogram\":[{\"marker\":{\"pattern\":{\"fillmode\":\"overlay\",\"size\":10,\"solidity\":0.2}},\"type\":\"histogram\"}],\"histogram2d\":[{\"colorbar\":{\"outlinewidth\":0,\"ticks\":\"\"},\"colorscale\":[[0.0,\"#0d0887\"],[0.1111111111111111,\"#46039f\"],[0.2222222222222222,\"#7201a8\"],[0.3333333333333333,\"#9c179e\"],[0.4444444444444444,\"#bd3786\"],[0.5555555555555556,\"#d8576b\"],[0.6666666666666666,\"#ed7953\"],[0.7777777777777778,\"#fb9f3a\"],[0.8888888888888888,\"#fdca26\"],[1.0,\"#f0f921\"]],\"type\":\"histogram2d\"}],\"histogram2dcontour\":[{\"colorbar\":{\"outlinewidth\":0,\"ticks\":\"\"},\"colorscale\":[[0.0,\"#0d0887\"],[0.1111111111111111,\"#46039f\"],[0.2222222222222222,\"#7201a8\"],[0.3333333333333333,\"#9c179e\"],[0.4444444444444444,\"#bd3786\"],[0.5555555555555556,\"#d8576b\"],[0.6666666666666666,\"#ed7953\"],[0.7777777777777778,\"#fb9f3a\"],[0.8888888888888888,\"#fdca26\"],[1.0,\"#f0f921\"]],\"type\":\"histogram2dcontour\"}],\"mesh3d\":[{\"colorbar\":{\"outlinewidth\":0,\"ticks\":\"\"},\"type\":\"mesh3d\"}],\"parcoords\":[{\"line\":{\"colorbar\":{\"outlinewidth\":0,\"ticks\":\"\"}},\"type\":\"parcoords\"}],\"pie\":[{\"automargin\":true,\"type\":\"pie\"}],\"scatter\":[{\"marker\":{\"colorbar\":{\"outlinewidth\":0,\"ticks\":\"\"}},\"type\":\"scatter\"}],\"scatter3d\":[{\"line\":{\"colorbar\":{\"outlinewidth\":0,\"ticks\":\"\"}},\"marker\":{\"colorbar\":{\"outlinewidth\":0,\"ticks\":\"\"}},\"type\":\"scatter3d\"}],\"scattercarpet\":[{\"marker\":{\"colorbar\":{\"outlinewidth\":0,\"ticks\":\"\"}},\"type\":\"scattercarpet\"}],\"scattergeo\":[{\"marker\":{\"colorbar\":{\"outlinewidth\":0,\"ticks\":\"\"}},\"type\":\"scattergeo\"}],\"scattergl\":[{\"marker\":{\"colorbar\":{\"outlinewidth\":0,\"ticks\":\"\"}},\"type\":\"scattergl\"}],\"scattermapbox\":[{\"marker\":{\"colorbar\":{\"outlinewidth\":0,\"ticks\":\"\"}},\"type\":\"scattermapbox\"}],\"scatterpolar\":[{\"marker\":{\"colorbar\":{\"outlinewidth\":0,\"ticks\":\"\"}},\"type\":\"scatterpolar\"}],\"scatterpolargl\":[{\"marker\":{\"colorbar\":{\"outlinewidth\":0,\"ticks\":\"\"}},\"type\":\"scatterpolargl\"}],\"scatterternary\":[{\"marker\":{\"colorbar\":{\"outlinewidth\":0,\"ticks\":\"\"}},\"type\":\"scatterternary\"}],\"surface\":[{\"colorbar\":{\"outlinewidth\":0,\"ticks\":\"\"},\"colorscale\":[[0.0,\"#0d0887\"],[0.1111111111111111,\"#46039f\"],[0.2222222222222222,\"#7201a8\"],[0.3333333333333333,\"#9c179e\"],[0.4444444444444444,\"#bd3786\"],[0.5555555555555556,\"#d8576b\"],[0.6666666666666666,\"#ed7953\"],[0.7777777777777778,\"#fb9f3a\"],[0.8888888888888888,\"#fdca26\"],[1.0,\"#f0f921\"]],\"type\":\"surface\"}],\"table\":[{\"cells\":{\"fill\":{\"color\":\"#EBF0F8\"},\"line\":{\"color\":\"white\"}},\"header\":{\"fill\":{\"color\":\"#C8D4E3\"},\"line\":{\"color\":\"white\"}},\"type\":\"table\"}]},\"layout\":{\"annotationdefaults\":{\"arrowcolor\":\"#2a3f5f\",\"arrowhead\":0,\"arrowwidth\":1},\"autotypenumbers\":\"strict\",\"coloraxis\":{\"colorbar\":{\"outlinewidth\":0,\"ticks\":\"\"}},\"colorscale\":{\"diverging\":[[0,\"#8e0152\"],[0.1,\"#c51b7d\"],[0.2,\"#de77ae\"],[0.3,\"#f1b6da\"],[0.4,\"#fde0ef\"],[0.5,\"#f7f7f7\"],[0.6,\"#e6f5d0\"],[0.7,\"#b8e186\"],[0.8,\"#7fbc41\"],[0.9,\"#4d9221\"],[1,\"#276419\"]],\"sequential\":[[0.0,\"#0d0887\"],[0.1111111111111111,\"#46039f\"],[0.2222222222222222,\"#7201a8\"],[0.3333333333333333,\"#9c179e\"],[0.4444444444444444,\"#bd3786\"],[0.5555555555555556,\"#d8576b\"],[0.6666666666666666,\"#ed7953\"],[0.7777777777777778,\"#fb9f3a\"],[0.8888888888888888,\"#fdca26\"],[1.0,\"#f0f921\"]],\"sequentialminus\":[[0.0,\"#0d0887\"],[0.1111111111111111,\"#46039f\"],[0.2222222222222222,\"#7201a8\"],[0.3333333333333333,\"#9c179e\"],[0.4444444444444444,\"#bd3786\"],[0.5555555555555556,\"#d8576b\"],[0.6666666666666666,\"#ed7953\"],[0.7777777777777778,\"#fb9f3a\"],[0.8888888888888888,\"#fdca26\"],[1.0,\"#f0f921\"]]},\"colorway\":[\"#636efa\",\"#EF553B\",\"#00cc96\",\"#ab63fa\",\"#FFA15A\",\"#19d3f3\",\"#FF6692\",\"#B6E880\",\"#FF97FF\",\"#FECB52\"],\"font\":{\"color\":\"#2a3f5f\"},\"geo\":{\"bgcolor\":\"white\",\"lakecolor\":\"white\",\"landcolor\":\"#E5ECF6\",\"showlakes\":true,\"showland\":true,\"subunitcolor\":\"white\"},\"hoverlabel\":{\"align\":\"left\"},\"hovermode\":\"closest\",\"mapbox\":{\"style\":\"light\"},\"paper_bgcolor\":\"white\",\"plot_bgcolor\":\"#E5ECF6\",\"polar\":{\"angularaxis\":{\"gridcolor\":\"white\",\"linecolor\":\"white\",\"ticks\":\"\"},\"bgcolor\":\"#E5ECF6\",\"radialaxis\":{\"gridcolor\":\"white\",\"linecolor\":\"white\",\"ticks\":\"\"}},\"scene\":{\"xaxis\":{\"backgroundcolor\":\"#E5ECF6\",\"gridcolor\":\"white\",\"gridwidth\":2,\"linecolor\":\"white\",\"showbackground\":true,\"ticks\":\"\",\"zerolinecolor\":\"white\"},\"yaxis\":{\"backgroundcolor\":\"#E5ECF6\",\"gridcolor\":\"white\",\"gridwidth\":2,\"linecolor\":\"white\",\"showbackground\":true,\"ticks\":\"\",\"zerolinecolor\":\"white\"},\"zaxis\":{\"backgroundcolor\":\"#E5ECF6\",\"gridcolor\":\"white\",\"gridwidth\":2,\"linecolor\":\"white\",\"showbackground\":true,\"ticks\":\"\",\"zerolinecolor\":\"white\"}},\"shapedefaults\":{\"line\":{\"color\":\"#2a3f5f\"}},\"ternary\":{\"aaxis\":{\"gridcolor\":\"white\",\"linecolor\":\"white\",\"ticks\":\"\"},\"baxis\":{\"gridcolor\":\"white\",\"linecolor\":\"white\",\"ticks\":\"\"},\"bgcolor\":\"#E5ECF6\",\"caxis\":{\"gridcolor\":\"white\",\"linecolor\":\"white\",\"ticks\":\"\"}},\"title\":{\"x\":0.05},\"xaxis\":{\"automargin\":true,\"gridcolor\":\"white\",\"linecolor\":\"white\",\"ticks\":\"\",\"title\":{\"standoff\":15},\"zerolinecolor\":\"white\",\"zerolinewidth\":2},\"yaxis\":{\"automargin\":true,\"gridcolor\":\"white\",\"linecolor\":\"white\",\"ticks\":\"\",\"title\":{\"standoff\":15},\"zerolinecolor\":\"white\",\"zerolinewidth\":2}}},\"title\":{\"text\":\"Sobreviventes por Sexo\"},\"uniformtext\":{\"minsize\":8,\"mode\":\"hide\"},\"xaxis\":{\"anchor\":\"y\",\"domain\":[0.0,1.0],\"title\":{\"text\":\"\"}},\"yaxis\":{\"anchor\":\"x\",\"domain\":[0.0,1.0],\"title\":{\"text\":\"\"}}},                        {\"responsive\": true}                    ).then(function(){\n",
       "                            \n",
       "var gd = document.getElementById('fdb774bd-d468-41b4-9c72-21338bee7326');\n",
       "var x = new MutationObserver(function (mutations, observer) {{\n",
       "        var display = window.getComputedStyle(gd).display;\n",
       "        if (!display || display === 'none') {{\n",
       "            console.log([gd, 'removed!']);\n",
       "            Plotly.purge(gd);\n",
       "            observer.disconnect();\n",
       "        }}\n",
       "}});\n",
       "\n",
       "// Listen for the removal of the full notebook cells\n",
       "var notebookContainer = gd.closest('#notebook-container');\n",
       "if (notebookContainer) {{\n",
       "    x.observe(notebookContainer, {childList: true});\n",
       "}}\n",
       "\n",
       "// Listen for the clearing of the current output cell\n",
       "var outputEl = gd.closest('.output');\n",
       "if (outputEl) {{\n",
       "    x.observe(outputEl, {childList: true});\n",
       "}}\n",
       "\n",
       "                        })                };                });            </script>        </div>"
      ]
     },
     "metadata": {},
     "output_type": "display_data"
    }
   ],
   "source": [
    "sex_survived = train.groupby(['Survived','Sex'],as_index=False).agg({'PassengerId':'count'})\n",
    "sex_survived['Survived_label'] = sex_survived.Survived.map(lambda x: 'Morreu' if x==0 else 'Viveu')\n",
    "fig = px.bar(sex_survived,\n",
    "             text='PassengerId',\n",
    "             x='Survived_label', y='PassengerId',\n",
    "             color='Sex',barmode='group',\n",
    "             title='Sobreviventes por Sexo',\n",
    "             labels={'Survived_label':'','PassengerId':'','Sex':''},\n",
    "             color_discrete_sequence=colors\n",
    "             )\n",
    "fig.update_traces(texttemplate='%{text:.4s}', textposition='outside')\n",
    "fig.update_layout(uniformtext_minsize=8, uniformtext_mode='hide')\n",
    "fig.show()"
   ]
  },
  {
   "cell_type": "code",
   "execution_count": 105,
   "id": "b99e7f78",
   "metadata": {},
   "outputs": [
    {
     "data": {
      "application/vnd.plotly.v1+json": {
       "config": {
        "plotlyServerURL": "https://plot.ly"
       },
       "data": [
        {
         "alignmentgroup": "True",
         "hovertemplate": "=%{text}<extra></extra>",
         "legendgroup": "1ª Classe",
         "marker": {
          "color": "#333F44",
          "pattern": {
           "shape": ""
          }
         },
         "name": "1ª Classe",
         "offsetgroup": "1ª Classe",
         "orientation": "v",
         "showlegend": true,
         "text": [
          80,
          136
         ],
         "textposition": "outside",
         "texttemplate": "%{text:.4s}",
         "type": "bar",
         "x": [
          "Morreu",
          "Viveu"
         ],
         "xaxis": "x",
         "y": [
          80,
          136
         ],
         "yaxis": "y"
        },
        {
         "alignmentgroup": "True",
         "hovertemplate": "=%{text}<extra></extra>",
         "legendgroup": "2ª Classe",
         "marker": {
          "color": "#37AA9C",
          "pattern": {
           "shape": ""
          }
         },
         "name": "2ª Classe",
         "offsetgroup": "2ª Classe",
         "orientation": "v",
         "showlegend": true,
         "text": [
          97,
          87
         ],
         "textposition": "outside",
         "texttemplate": "%{text:.4s}",
         "type": "bar",
         "x": [
          "Morreu",
          "Viveu"
         ],
         "xaxis": "x",
         "y": [
          97,
          87
         ],
         "yaxis": "y"
        },
        {
         "alignmentgroup": "True",
         "hovertemplate": "=%{text}<extra></extra>",
         "legendgroup": "3ª Classe",
         "marker": {
          "color": "#94F3E4",
          "pattern": {
           "shape": ""
          }
         },
         "name": "3ª Classe",
         "offsetgroup": "3ª Classe",
         "orientation": "v",
         "showlegend": true,
         "text": [
          372,
          119
         ],
         "textposition": "outside",
         "texttemplate": "%{text:.4s}",
         "type": "bar",
         "x": [
          "Morreu",
          "Viveu"
         ],
         "xaxis": "x",
         "y": [
          372,
          119
         ],
         "yaxis": "y"
        }
       ],
       "layout": {
        "barmode": "group",
        "legend": {
         "title": {
          "text": ""
         },
         "tracegroupgap": 0
        },
        "template": {
         "data": {
          "bar": [
           {
            "error_x": {
             "color": "#2a3f5f"
            },
            "error_y": {
             "color": "#2a3f5f"
            },
            "marker": {
             "line": {
              "color": "#E5ECF6",
              "width": 0.5
             },
             "pattern": {
              "fillmode": "overlay",
              "size": 10,
              "solidity": 0.2
             }
            },
            "type": "bar"
           }
          ],
          "barpolar": [
           {
            "marker": {
             "line": {
              "color": "#E5ECF6",
              "width": 0.5
             },
             "pattern": {
              "fillmode": "overlay",
              "size": 10,
              "solidity": 0.2
             }
            },
            "type": "barpolar"
           }
          ],
          "carpet": [
           {
            "aaxis": {
             "endlinecolor": "#2a3f5f",
             "gridcolor": "white",
             "linecolor": "white",
             "minorgridcolor": "white",
             "startlinecolor": "#2a3f5f"
            },
            "baxis": {
             "endlinecolor": "#2a3f5f",
             "gridcolor": "white",
             "linecolor": "white",
             "minorgridcolor": "white",
             "startlinecolor": "#2a3f5f"
            },
            "type": "carpet"
           }
          ],
          "choropleth": [
           {
            "colorbar": {
             "outlinewidth": 0,
             "ticks": ""
            },
            "type": "choropleth"
           }
          ],
          "contour": [
           {
            "colorbar": {
             "outlinewidth": 0,
             "ticks": ""
            },
            "colorscale": [
             [
              0,
              "#0d0887"
             ],
             [
              0.1111111111111111,
              "#46039f"
             ],
             [
              0.2222222222222222,
              "#7201a8"
             ],
             [
              0.3333333333333333,
              "#9c179e"
             ],
             [
              0.4444444444444444,
              "#bd3786"
             ],
             [
              0.5555555555555556,
              "#d8576b"
             ],
             [
              0.6666666666666666,
              "#ed7953"
             ],
             [
              0.7777777777777778,
              "#fb9f3a"
             ],
             [
              0.8888888888888888,
              "#fdca26"
             ],
             [
              1,
              "#f0f921"
             ]
            ],
            "type": "contour"
           }
          ],
          "contourcarpet": [
           {
            "colorbar": {
             "outlinewidth": 0,
             "ticks": ""
            },
            "type": "contourcarpet"
           }
          ],
          "heatmap": [
           {
            "colorbar": {
             "outlinewidth": 0,
             "ticks": ""
            },
            "colorscale": [
             [
              0,
              "#0d0887"
             ],
             [
              0.1111111111111111,
              "#46039f"
             ],
             [
              0.2222222222222222,
              "#7201a8"
             ],
             [
              0.3333333333333333,
              "#9c179e"
             ],
             [
              0.4444444444444444,
              "#bd3786"
             ],
             [
              0.5555555555555556,
              "#d8576b"
             ],
             [
              0.6666666666666666,
              "#ed7953"
             ],
             [
              0.7777777777777778,
              "#fb9f3a"
             ],
             [
              0.8888888888888888,
              "#fdca26"
             ],
             [
              1,
              "#f0f921"
             ]
            ],
            "type": "heatmap"
           }
          ],
          "heatmapgl": [
           {
            "colorbar": {
             "outlinewidth": 0,
             "ticks": ""
            },
            "colorscale": [
             [
              0,
              "#0d0887"
             ],
             [
              0.1111111111111111,
              "#46039f"
             ],
             [
              0.2222222222222222,
              "#7201a8"
             ],
             [
              0.3333333333333333,
              "#9c179e"
             ],
             [
              0.4444444444444444,
              "#bd3786"
             ],
             [
              0.5555555555555556,
              "#d8576b"
             ],
             [
              0.6666666666666666,
              "#ed7953"
             ],
             [
              0.7777777777777778,
              "#fb9f3a"
             ],
             [
              0.8888888888888888,
              "#fdca26"
             ],
             [
              1,
              "#f0f921"
             ]
            ],
            "type": "heatmapgl"
           }
          ],
          "histogram": [
           {
            "marker": {
             "pattern": {
              "fillmode": "overlay",
              "size": 10,
              "solidity": 0.2
             }
            },
            "type": "histogram"
           }
          ],
          "histogram2d": [
           {
            "colorbar": {
             "outlinewidth": 0,
             "ticks": ""
            },
            "colorscale": [
             [
              0,
              "#0d0887"
             ],
             [
              0.1111111111111111,
              "#46039f"
             ],
             [
              0.2222222222222222,
              "#7201a8"
             ],
             [
              0.3333333333333333,
              "#9c179e"
             ],
             [
              0.4444444444444444,
              "#bd3786"
             ],
             [
              0.5555555555555556,
              "#d8576b"
             ],
             [
              0.6666666666666666,
              "#ed7953"
             ],
             [
              0.7777777777777778,
              "#fb9f3a"
             ],
             [
              0.8888888888888888,
              "#fdca26"
             ],
             [
              1,
              "#f0f921"
             ]
            ],
            "type": "histogram2d"
           }
          ],
          "histogram2dcontour": [
           {
            "colorbar": {
             "outlinewidth": 0,
             "ticks": ""
            },
            "colorscale": [
             [
              0,
              "#0d0887"
             ],
             [
              0.1111111111111111,
              "#46039f"
             ],
             [
              0.2222222222222222,
              "#7201a8"
             ],
             [
              0.3333333333333333,
              "#9c179e"
             ],
             [
              0.4444444444444444,
              "#bd3786"
             ],
             [
              0.5555555555555556,
              "#d8576b"
             ],
             [
              0.6666666666666666,
              "#ed7953"
             ],
             [
              0.7777777777777778,
              "#fb9f3a"
             ],
             [
              0.8888888888888888,
              "#fdca26"
             ],
             [
              1,
              "#f0f921"
             ]
            ],
            "type": "histogram2dcontour"
           }
          ],
          "mesh3d": [
           {
            "colorbar": {
             "outlinewidth": 0,
             "ticks": ""
            },
            "type": "mesh3d"
           }
          ],
          "parcoords": [
           {
            "line": {
             "colorbar": {
              "outlinewidth": 0,
              "ticks": ""
             }
            },
            "type": "parcoords"
           }
          ],
          "pie": [
           {
            "automargin": true,
            "type": "pie"
           }
          ],
          "scatter": [
           {
            "marker": {
             "colorbar": {
              "outlinewidth": 0,
              "ticks": ""
             }
            },
            "type": "scatter"
           }
          ],
          "scatter3d": [
           {
            "line": {
             "colorbar": {
              "outlinewidth": 0,
              "ticks": ""
             }
            },
            "marker": {
             "colorbar": {
              "outlinewidth": 0,
              "ticks": ""
             }
            },
            "type": "scatter3d"
           }
          ],
          "scattercarpet": [
           {
            "marker": {
             "colorbar": {
              "outlinewidth": 0,
              "ticks": ""
             }
            },
            "type": "scattercarpet"
           }
          ],
          "scattergeo": [
           {
            "marker": {
             "colorbar": {
              "outlinewidth": 0,
              "ticks": ""
             }
            },
            "type": "scattergeo"
           }
          ],
          "scattergl": [
           {
            "marker": {
             "colorbar": {
              "outlinewidth": 0,
              "ticks": ""
             }
            },
            "type": "scattergl"
           }
          ],
          "scattermapbox": [
           {
            "marker": {
             "colorbar": {
              "outlinewidth": 0,
              "ticks": ""
             }
            },
            "type": "scattermapbox"
           }
          ],
          "scatterpolar": [
           {
            "marker": {
             "colorbar": {
              "outlinewidth": 0,
              "ticks": ""
             }
            },
            "type": "scatterpolar"
           }
          ],
          "scatterpolargl": [
           {
            "marker": {
             "colorbar": {
              "outlinewidth": 0,
              "ticks": ""
             }
            },
            "type": "scatterpolargl"
           }
          ],
          "scatterternary": [
           {
            "marker": {
             "colorbar": {
              "outlinewidth": 0,
              "ticks": ""
             }
            },
            "type": "scatterternary"
           }
          ],
          "surface": [
           {
            "colorbar": {
             "outlinewidth": 0,
             "ticks": ""
            },
            "colorscale": [
             [
              0,
              "#0d0887"
             ],
             [
              0.1111111111111111,
              "#46039f"
             ],
             [
              0.2222222222222222,
              "#7201a8"
             ],
             [
              0.3333333333333333,
              "#9c179e"
             ],
             [
              0.4444444444444444,
              "#bd3786"
             ],
             [
              0.5555555555555556,
              "#d8576b"
             ],
             [
              0.6666666666666666,
              "#ed7953"
             ],
             [
              0.7777777777777778,
              "#fb9f3a"
             ],
             [
              0.8888888888888888,
              "#fdca26"
             ],
             [
              1,
              "#f0f921"
             ]
            ],
            "type": "surface"
           }
          ],
          "table": [
           {
            "cells": {
             "fill": {
              "color": "#EBF0F8"
             },
             "line": {
              "color": "white"
             }
            },
            "header": {
             "fill": {
              "color": "#C8D4E3"
             },
             "line": {
              "color": "white"
             }
            },
            "type": "table"
           }
          ]
         },
         "layout": {
          "annotationdefaults": {
           "arrowcolor": "#2a3f5f",
           "arrowhead": 0,
           "arrowwidth": 1
          },
          "autotypenumbers": "strict",
          "coloraxis": {
           "colorbar": {
            "outlinewidth": 0,
            "ticks": ""
           }
          },
          "colorscale": {
           "diverging": [
            [
             0,
             "#8e0152"
            ],
            [
             0.1,
             "#c51b7d"
            ],
            [
             0.2,
             "#de77ae"
            ],
            [
             0.3,
             "#f1b6da"
            ],
            [
             0.4,
             "#fde0ef"
            ],
            [
             0.5,
             "#f7f7f7"
            ],
            [
             0.6,
             "#e6f5d0"
            ],
            [
             0.7,
             "#b8e186"
            ],
            [
             0.8,
             "#7fbc41"
            ],
            [
             0.9,
             "#4d9221"
            ],
            [
             1,
             "#276419"
            ]
           ],
           "sequential": [
            [
             0,
             "#0d0887"
            ],
            [
             0.1111111111111111,
             "#46039f"
            ],
            [
             0.2222222222222222,
             "#7201a8"
            ],
            [
             0.3333333333333333,
             "#9c179e"
            ],
            [
             0.4444444444444444,
             "#bd3786"
            ],
            [
             0.5555555555555556,
             "#d8576b"
            ],
            [
             0.6666666666666666,
             "#ed7953"
            ],
            [
             0.7777777777777778,
             "#fb9f3a"
            ],
            [
             0.8888888888888888,
             "#fdca26"
            ],
            [
             1,
             "#f0f921"
            ]
           ],
           "sequentialminus": [
            [
             0,
             "#0d0887"
            ],
            [
             0.1111111111111111,
             "#46039f"
            ],
            [
             0.2222222222222222,
             "#7201a8"
            ],
            [
             0.3333333333333333,
             "#9c179e"
            ],
            [
             0.4444444444444444,
             "#bd3786"
            ],
            [
             0.5555555555555556,
             "#d8576b"
            ],
            [
             0.6666666666666666,
             "#ed7953"
            ],
            [
             0.7777777777777778,
             "#fb9f3a"
            ],
            [
             0.8888888888888888,
             "#fdca26"
            ],
            [
             1,
             "#f0f921"
            ]
           ]
          },
          "colorway": [
           "#636efa",
           "#EF553B",
           "#00cc96",
           "#ab63fa",
           "#FFA15A",
           "#19d3f3",
           "#FF6692",
           "#B6E880",
           "#FF97FF",
           "#FECB52"
          ],
          "font": {
           "color": "#2a3f5f"
          },
          "geo": {
           "bgcolor": "white",
           "lakecolor": "white",
           "landcolor": "#E5ECF6",
           "showlakes": true,
           "showland": true,
           "subunitcolor": "white"
          },
          "hoverlabel": {
           "align": "left"
          },
          "hovermode": "closest",
          "mapbox": {
           "style": "light"
          },
          "paper_bgcolor": "white",
          "plot_bgcolor": "#E5ECF6",
          "polar": {
           "angularaxis": {
            "gridcolor": "white",
            "linecolor": "white",
            "ticks": ""
           },
           "bgcolor": "#E5ECF6",
           "radialaxis": {
            "gridcolor": "white",
            "linecolor": "white",
            "ticks": ""
           }
          },
          "scene": {
           "xaxis": {
            "backgroundcolor": "#E5ECF6",
            "gridcolor": "white",
            "gridwidth": 2,
            "linecolor": "white",
            "showbackground": true,
            "ticks": "",
            "zerolinecolor": "white"
           },
           "yaxis": {
            "backgroundcolor": "#E5ECF6",
            "gridcolor": "white",
            "gridwidth": 2,
            "linecolor": "white",
            "showbackground": true,
            "ticks": "",
            "zerolinecolor": "white"
           },
           "zaxis": {
            "backgroundcolor": "#E5ECF6",
            "gridcolor": "white",
            "gridwidth": 2,
            "linecolor": "white",
            "showbackground": true,
            "ticks": "",
            "zerolinecolor": "white"
           }
          },
          "shapedefaults": {
           "line": {
            "color": "#2a3f5f"
           }
          },
          "ternary": {
           "aaxis": {
            "gridcolor": "white",
            "linecolor": "white",
            "ticks": ""
           },
           "baxis": {
            "gridcolor": "white",
            "linecolor": "white",
            "ticks": ""
           },
           "bgcolor": "#E5ECF6",
           "caxis": {
            "gridcolor": "white",
            "linecolor": "white",
            "ticks": ""
           }
          },
          "title": {
           "x": 0.05
          },
          "xaxis": {
           "automargin": true,
           "gridcolor": "white",
           "linecolor": "white",
           "ticks": "",
           "title": {
            "standoff": 15
           },
           "zerolinecolor": "white",
           "zerolinewidth": 2
          },
          "yaxis": {
           "automargin": true,
           "gridcolor": "white",
           "linecolor": "white",
           "ticks": "",
           "title": {
            "standoff": 15
           },
           "zerolinecolor": "white",
           "zerolinewidth": 2
          }
         }
        },
        "title": {
         "text": "Sobreviventes por Classe"
        },
        "uniformtext": {
         "minsize": 8,
         "mode": "hide"
        },
        "xaxis": {
         "anchor": "y",
         "domain": [
          0,
          1
         ],
         "title": {
          "text": ""
         }
        },
        "yaxis": {
         "anchor": "x",
         "domain": [
          0,
          1
         ],
         "title": {
          "text": ""
         }
        }
       }
      },
      "text/html": [
       "<div>                            <div id=\"7eaf5b68-0160-4ec0-872d-43fae9a94f93\" class=\"plotly-graph-div\" style=\"height:525px; width:100%;\"></div>            <script type=\"text/javascript\">                require([\"plotly\"], function(Plotly) {                    window.PLOTLYENV=window.PLOTLYENV || {};                                    if (document.getElementById(\"7eaf5b68-0160-4ec0-872d-43fae9a94f93\")) {                    Plotly.newPlot(                        \"7eaf5b68-0160-4ec0-872d-43fae9a94f93\",                        [{\"alignmentgroup\":\"True\",\"hovertemplate\":\"=%{text}<extra></extra>\",\"legendgroup\":\"1\\u00aa Classe\",\"marker\":{\"color\":\"#333F44\",\"pattern\":{\"shape\":\"\"}},\"name\":\"1\\u00aa Classe\",\"offsetgroup\":\"1\\u00aa Classe\",\"orientation\":\"v\",\"showlegend\":true,\"text\":[80.0,136.0],\"textposition\":\"outside\",\"texttemplate\":\"%{text:.4s}\",\"type\":\"bar\",\"x\":[\"Morreu\",\"Viveu\"],\"xaxis\":\"x\",\"y\":[80,136],\"yaxis\":\"y\"},{\"alignmentgroup\":\"True\",\"hovertemplate\":\"=%{text}<extra></extra>\",\"legendgroup\":\"2\\u00aa Classe\",\"marker\":{\"color\":\"#37AA9C\",\"pattern\":{\"shape\":\"\"}},\"name\":\"2\\u00aa Classe\",\"offsetgroup\":\"2\\u00aa Classe\",\"orientation\":\"v\",\"showlegend\":true,\"text\":[97.0,87.0],\"textposition\":\"outside\",\"texttemplate\":\"%{text:.4s}\",\"type\":\"bar\",\"x\":[\"Morreu\",\"Viveu\"],\"xaxis\":\"x\",\"y\":[97,87],\"yaxis\":\"y\"},{\"alignmentgroup\":\"True\",\"hovertemplate\":\"=%{text}<extra></extra>\",\"legendgroup\":\"3\\u00aa Classe\",\"marker\":{\"color\":\"#94F3E4\",\"pattern\":{\"shape\":\"\"}},\"name\":\"3\\u00aa Classe\",\"offsetgroup\":\"3\\u00aa Classe\",\"orientation\":\"v\",\"showlegend\":true,\"text\":[372.0,119.0],\"textposition\":\"outside\",\"texttemplate\":\"%{text:.4s}\",\"type\":\"bar\",\"x\":[\"Morreu\",\"Viveu\"],\"xaxis\":\"x\",\"y\":[372,119],\"yaxis\":\"y\"}],                        {\"barmode\":\"group\",\"legend\":{\"title\":{\"text\":\"\"},\"tracegroupgap\":0},\"template\":{\"data\":{\"bar\":[{\"error_x\":{\"color\":\"#2a3f5f\"},\"error_y\":{\"color\":\"#2a3f5f\"},\"marker\":{\"line\":{\"color\":\"#E5ECF6\",\"width\":0.5},\"pattern\":{\"fillmode\":\"overlay\",\"size\":10,\"solidity\":0.2}},\"type\":\"bar\"}],\"barpolar\":[{\"marker\":{\"line\":{\"color\":\"#E5ECF6\",\"width\":0.5},\"pattern\":{\"fillmode\":\"overlay\",\"size\":10,\"solidity\":0.2}},\"type\":\"barpolar\"}],\"carpet\":[{\"aaxis\":{\"endlinecolor\":\"#2a3f5f\",\"gridcolor\":\"white\",\"linecolor\":\"white\",\"minorgridcolor\":\"white\",\"startlinecolor\":\"#2a3f5f\"},\"baxis\":{\"endlinecolor\":\"#2a3f5f\",\"gridcolor\":\"white\",\"linecolor\":\"white\",\"minorgridcolor\":\"white\",\"startlinecolor\":\"#2a3f5f\"},\"type\":\"carpet\"}],\"choropleth\":[{\"colorbar\":{\"outlinewidth\":0,\"ticks\":\"\"},\"type\":\"choropleth\"}],\"contour\":[{\"colorbar\":{\"outlinewidth\":0,\"ticks\":\"\"},\"colorscale\":[[0.0,\"#0d0887\"],[0.1111111111111111,\"#46039f\"],[0.2222222222222222,\"#7201a8\"],[0.3333333333333333,\"#9c179e\"],[0.4444444444444444,\"#bd3786\"],[0.5555555555555556,\"#d8576b\"],[0.6666666666666666,\"#ed7953\"],[0.7777777777777778,\"#fb9f3a\"],[0.8888888888888888,\"#fdca26\"],[1.0,\"#f0f921\"]],\"type\":\"contour\"}],\"contourcarpet\":[{\"colorbar\":{\"outlinewidth\":0,\"ticks\":\"\"},\"type\":\"contourcarpet\"}],\"heatmap\":[{\"colorbar\":{\"outlinewidth\":0,\"ticks\":\"\"},\"colorscale\":[[0.0,\"#0d0887\"],[0.1111111111111111,\"#46039f\"],[0.2222222222222222,\"#7201a8\"],[0.3333333333333333,\"#9c179e\"],[0.4444444444444444,\"#bd3786\"],[0.5555555555555556,\"#d8576b\"],[0.6666666666666666,\"#ed7953\"],[0.7777777777777778,\"#fb9f3a\"],[0.8888888888888888,\"#fdca26\"],[1.0,\"#f0f921\"]],\"type\":\"heatmap\"}],\"heatmapgl\":[{\"colorbar\":{\"outlinewidth\":0,\"ticks\":\"\"},\"colorscale\":[[0.0,\"#0d0887\"],[0.1111111111111111,\"#46039f\"],[0.2222222222222222,\"#7201a8\"],[0.3333333333333333,\"#9c179e\"],[0.4444444444444444,\"#bd3786\"],[0.5555555555555556,\"#d8576b\"],[0.6666666666666666,\"#ed7953\"],[0.7777777777777778,\"#fb9f3a\"],[0.8888888888888888,\"#fdca26\"],[1.0,\"#f0f921\"]],\"type\":\"heatmapgl\"}],\"histogram\":[{\"marker\":{\"pattern\":{\"fillmode\":\"overlay\",\"size\":10,\"solidity\":0.2}},\"type\":\"histogram\"}],\"histogram2d\":[{\"colorbar\":{\"outlinewidth\":0,\"ticks\":\"\"},\"colorscale\":[[0.0,\"#0d0887\"],[0.1111111111111111,\"#46039f\"],[0.2222222222222222,\"#7201a8\"],[0.3333333333333333,\"#9c179e\"],[0.4444444444444444,\"#bd3786\"],[0.5555555555555556,\"#d8576b\"],[0.6666666666666666,\"#ed7953\"],[0.7777777777777778,\"#fb9f3a\"],[0.8888888888888888,\"#fdca26\"],[1.0,\"#f0f921\"]],\"type\":\"histogram2d\"}],\"histogram2dcontour\":[{\"colorbar\":{\"outlinewidth\":0,\"ticks\":\"\"},\"colorscale\":[[0.0,\"#0d0887\"],[0.1111111111111111,\"#46039f\"],[0.2222222222222222,\"#7201a8\"],[0.3333333333333333,\"#9c179e\"],[0.4444444444444444,\"#bd3786\"],[0.5555555555555556,\"#d8576b\"],[0.6666666666666666,\"#ed7953\"],[0.7777777777777778,\"#fb9f3a\"],[0.8888888888888888,\"#fdca26\"],[1.0,\"#f0f921\"]],\"type\":\"histogram2dcontour\"}],\"mesh3d\":[{\"colorbar\":{\"outlinewidth\":0,\"ticks\":\"\"},\"type\":\"mesh3d\"}],\"parcoords\":[{\"line\":{\"colorbar\":{\"outlinewidth\":0,\"ticks\":\"\"}},\"type\":\"parcoords\"}],\"pie\":[{\"automargin\":true,\"type\":\"pie\"}],\"scatter\":[{\"marker\":{\"colorbar\":{\"outlinewidth\":0,\"ticks\":\"\"}},\"type\":\"scatter\"}],\"scatter3d\":[{\"line\":{\"colorbar\":{\"outlinewidth\":0,\"ticks\":\"\"}},\"marker\":{\"colorbar\":{\"outlinewidth\":0,\"ticks\":\"\"}},\"type\":\"scatter3d\"}],\"scattercarpet\":[{\"marker\":{\"colorbar\":{\"outlinewidth\":0,\"ticks\":\"\"}},\"type\":\"scattercarpet\"}],\"scattergeo\":[{\"marker\":{\"colorbar\":{\"outlinewidth\":0,\"ticks\":\"\"}},\"type\":\"scattergeo\"}],\"scattergl\":[{\"marker\":{\"colorbar\":{\"outlinewidth\":0,\"ticks\":\"\"}},\"type\":\"scattergl\"}],\"scattermapbox\":[{\"marker\":{\"colorbar\":{\"outlinewidth\":0,\"ticks\":\"\"}},\"type\":\"scattermapbox\"}],\"scatterpolar\":[{\"marker\":{\"colorbar\":{\"outlinewidth\":0,\"ticks\":\"\"}},\"type\":\"scatterpolar\"}],\"scatterpolargl\":[{\"marker\":{\"colorbar\":{\"outlinewidth\":0,\"ticks\":\"\"}},\"type\":\"scatterpolargl\"}],\"scatterternary\":[{\"marker\":{\"colorbar\":{\"outlinewidth\":0,\"ticks\":\"\"}},\"type\":\"scatterternary\"}],\"surface\":[{\"colorbar\":{\"outlinewidth\":0,\"ticks\":\"\"},\"colorscale\":[[0.0,\"#0d0887\"],[0.1111111111111111,\"#46039f\"],[0.2222222222222222,\"#7201a8\"],[0.3333333333333333,\"#9c179e\"],[0.4444444444444444,\"#bd3786\"],[0.5555555555555556,\"#d8576b\"],[0.6666666666666666,\"#ed7953\"],[0.7777777777777778,\"#fb9f3a\"],[0.8888888888888888,\"#fdca26\"],[1.0,\"#f0f921\"]],\"type\":\"surface\"}],\"table\":[{\"cells\":{\"fill\":{\"color\":\"#EBF0F8\"},\"line\":{\"color\":\"white\"}},\"header\":{\"fill\":{\"color\":\"#C8D4E3\"},\"line\":{\"color\":\"white\"}},\"type\":\"table\"}]},\"layout\":{\"annotationdefaults\":{\"arrowcolor\":\"#2a3f5f\",\"arrowhead\":0,\"arrowwidth\":1},\"autotypenumbers\":\"strict\",\"coloraxis\":{\"colorbar\":{\"outlinewidth\":0,\"ticks\":\"\"}},\"colorscale\":{\"diverging\":[[0,\"#8e0152\"],[0.1,\"#c51b7d\"],[0.2,\"#de77ae\"],[0.3,\"#f1b6da\"],[0.4,\"#fde0ef\"],[0.5,\"#f7f7f7\"],[0.6,\"#e6f5d0\"],[0.7,\"#b8e186\"],[0.8,\"#7fbc41\"],[0.9,\"#4d9221\"],[1,\"#276419\"]],\"sequential\":[[0.0,\"#0d0887\"],[0.1111111111111111,\"#46039f\"],[0.2222222222222222,\"#7201a8\"],[0.3333333333333333,\"#9c179e\"],[0.4444444444444444,\"#bd3786\"],[0.5555555555555556,\"#d8576b\"],[0.6666666666666666,\"#ed7953\"],[0.7777777777777778,\"#fb9f3a\"],[0.8888888888888888,\"#fdca26\"],[1.0,\"#f0f921\"]],\"sequentialminus\":[[0.0,\"#0d0887\"],[0.1111111111111111,\"#46039f\"],[0.2222222222222222,\"#7201a8\"],[0.3333333333333333,\"#9c179e\"],[0.4444444444444444,\"#bd3786\"],[0.5555555555555556,\"#d8576b\"],[0.6666666666666666,\"#ed7953\"],[0.7777777777777778,\"#fb9f3a\"],[0.8888888888888888,\"#fdca26\"],[1.0,\"#f0f921\"]]},\"colorway\":[\"#636efa\",\"#EF553B\",\"#00cc96\",\"#ab63fa\",\"#FFA15A\",\"#19d3f3\",\"#FF6692\",\"#B6E880\",\"#FF97FF\",\"#FECB52\"],\"font\":{\"color\":\"#2a3f5f\"},\"geo\":{\"bgcolor\":\"white\",\"lakecolor\":\"white\",\"landcolor\":\"#E5ECF6\",\"showlakes\":true,\"showland\":true,\"subunitcolor\":\"white\"},\"hoverlabel\":{\"align\":\"left\"},\"hovermode\":\"closest\",\"mapbox\":{\"style\":\"light\"},\"paper_bgcolor\":\"white\",\"plot_bgcolor\":\"#E5ECF6\",\"polar\":{\"angularaxis\":{\"gridcolor\":\"white\",\"linecolor\":\"white\",\"ticks\":\"\"},\"bgcolor\":\"#E5ECF6\",\"radialaxis\":{\"gridcolor\":\"white\",\"linecolor\":\"white\",\"ticks\":\"\"}},\"scene\":{\"xaxis\":{\"backgroundcolor\":\"#E5ECF6\",\"gridcolor\":\"white\",\"gridwidth\":2,\"linecolor\":\"white\",\"showbackground\":true,\"ticks\":\"\",\"zerolinecolor\":\"white\"},\"yaxis\":{\"backgroundcolor\":\"#E5ECF6\",\"gridcolor\":\"white\",\"gridwidth\":2,\"linecolor\":\"white\",\"showbackground\":true,\"ticks\":\"\",\"zerolinecolor\":\"white\"},\"zaxis\":{\"backgroundcolor\":\"#E5ECF6\",\"gridcolor\":\"white\",\"gridwidth\":2,\"linecolor\":\"white\",\"showbackground\":true,\"ticks\":\"\",\"zerolinecolor\":\"white\"}},\"shapedefaults\":{\"line\":{\"color\":\"#2a3f5f\"}},\"ternary\":{\"aaxis\":{\"gridcolor\":\"white\",\"linecolor\":\"white\",\"ticks\":\"\"},\"baxis\":{\"gridcolor\":\"white\",\"linecolor\":\"white\",\"ticks\":\"\"},\"bgcolor\":\"#E5ECF6\",\"caxis\":{\"gridcolor\":\"white\",\"linecolor\":\"white\",\"ticks\":\"\"}},\"title\":{\"x\":0.05},\"xaxis\":{\"automargin\":true,\"gridcolor\":\"white\",\"linecolor\":\"white\",\"ticks\":\"\",\"title\":{\"standoff\":15},\"zerolinecolor\":\"white\",\"zerolinewidth\":2},\"yaxis\":{\"automargin\":true,\"gridcolor\":\"white\",\"linecolor\":\"white\",\"ticks\":\"\",\"title\":{\"standoff\":15},\"zerolinecolor\":\"white\",\"zerolinewidth\":2}}},\"title\":{\"text\":\"Sobreviventes por Classe\"},\"uniformtext\":{\"minsize\":8,\"mode\":\"hide\"},\"xaxis\":{\"anchor\":\"y\",\"domain\":[0.0,1.0],\"title\":{\"text\":\"\"}},\"yaxis\":{\"anchor\":\"x\",\"domain\":[0.0,1.0],\"title\":{\"text\":\"\"}}},                        {\"responsive\": true}                    ).then(function(){\n",
       "                            \n",
       "var gd = document.getElementById('7eaf5b68-0160-4ec0-872d-43fae9a94f93');\n",
       "var x = new MutationObserver(function (mutations, observer) {{\n",
       "        var display = window.getComputedStyle(gd).display;\n",
       "        if (!display || display === 'none') {{\n",
       "            console.log([gd, 'removed!']);\n",
       "            Plotly.purge(gd);\n",
       "            observer.disconnect();\n",
       "        }}\n",
       "}});\n",
       "\n",
       "// Listen for the removal of the full notebook cells\n",
       "var notebookContainer = gd.closest('#notebook-container');\n",
       "if (notebookContainer) {{\n",
       "    x.observe(notebookContainer, {childList: true});\n",
       "}}\n",
       "\n",
       "// Listen for the clearing of the current output cell\n",
       "var outputEl = gd.closest('.output');\n",
       "if (outputEl) {{\n",
       "    x.observe(outputEl, {childList: true});\n",
       "}}\n",
       "\n",
       "                        })                };                });            </script>        </div>"
      ]
     },
     "metadata": {},
     "output_type": "display_data"
    }
   ],
   "source": [
    "sex_survived = train.groupby(['Survived','Pclass'],as_index=False).agg({'PassengerId':'count'})\n",
    "sex_survived['Survived_label'] = sex_survived.Survived.map(lambda x: 'Morreu' if x==0 else 'Viveu')\n",
    "sex_survived['Class'] = sex_survived.Pclass.map(lambda x: '1ª Classe' if x==1 else '2ª Classe' if x==2 else '3ª Classe' )\n",
    "fig = px.bar(sex_survived,\n",
    "             text='PassengerId',\n",
    "             x='Survived_label',\n",
    "             y='PassengerId',\n",
    "             color='Class',\n",
    "             barmode='group',\n",
    "             title='Sobreviventes por Classe',\n",
    "             labels={'Survived_label':'','PassengerId':'','Class':''},\n",
    "             color_discrete_sequence=colors\n",
    "             )\n",
    "fig.update_traces(texttemplate='%{text:.4s}', textposition='outside')\n",
    "fig.update_layout(uniformtext_minsize=8, uniformtext_mode='hide')\n",
    "fig.show()"
   ]
  },
  {
   "cell_type": "code",
   "execution_count": 107,
   "id": "f2e1964a",
   "metadata": {},
   "outputs": [
    {
     "data": {
      "application/vnd.plotly.v1+json": {
       "config": {
        "plotlyServerURL": "https://plot.ly"
       },
       "data": [
        {
         "alignmentgroup": "True",
         "hovertemplate": "=%{text}<extra></extra>",
         "legendgroup": "Cherbourg",
         "marker": {
          "color": "#333F44",
          "pattern": {
           "shape": ""
          }
         },
         "name": "Cherbourg",
         "offsetgroup": "Cherbourg",
         "orientation": "v",
         "showlegend": true,
         "text": [
          75,
          93
         ],
         "textposition": "outside",
         "texttemplate": "%{text:.4s}",
         "type": "bar",
         "x": [
          "Morreu",
          "Viveu"
         ],
         "xaxis": "x",
         "y": [
          75,
          93
         ],
         "yaxis": "y"
        },
        {
         "alignmentgroup": "True",
         "hovertemplate": "=%{text}<extra></extra>",
         "legendgroup": "Queenstown",
         "marker": {
          "color": "#37AA9C",
          "pattern": {
           "shape": ""
          }
         },
         "name": "Queenstown",
         "offsetgroup": "Queenstown",
         "orientation": "v",
         "showlegend": true,
         "text": [
          47,
          30
         ],
         "textposition": "outside",
         "texttemplate": "%{text:.4s}",
         "type": "bar",
         "x": [
          "Morreu",
          "Viveu"
         ],
         "xaxis": "x",
         "y": [
          47,
          30
         ],
         "yaxis": "y"
        },
        {
         "alignmentgroup": "True",
         "hovertemplate": "=%{text}<extra></extra>",
         "legendgroup": "Southampton",
         "marker": {
          "color": "#94F3E4",
          "pattern": {
           "shape": ""
          }
         },
         "name": "Southampton",
         "offsetgroup": "Southampton",
         "orientation": "v",
         "showlegend": true,
         "text": [
          427,
          217
         ],
         "textposition": "outside",
         "texttemplate": "%{text:.4s}",
         "type": "bar",
         "x": [
          "Morreu",
          "Viveu"
         ],
         "xaxis": "x",
         "y": [
          427,
          217
         ],
         "yaxis": "y"
        }
       ],
       "layout": {
        "barmode": "group",
        "legend": {
         "title": {
          "text": ""
         },
         "tracegroupgap": 0
        },
        "template": {
         "data": {
          "bar": [
           {
            "error_x": {
             "color": "#2a3f5f"
            },
            "error_y": {
             "color": "#2a3f5f"
            },
            "marker": {
             "line": {
              "color": "#E5ECF6",
              "width": 0.5
             },
             "pattern": {
              "fillmode": "overlay",
              "size": 10,
              "solidity": 0.2
             }
            },
            "type": "bar"
           }
          ],
          "barpolar": [
           {
            "marker": {
             "line": {
              "color": "#E5ECF6",
              "width": 0.5
             },
             "pattern": {
              "fillmode": "overlay",
              "size": 10,
              "solidity": 0.2
             }
            },
            "type": "barpolar"
           }
          ],
          "carpet": [
           {
            "aaxis": {
             "endlinecolor": "#2a3f5f",
             "gridcolor": "white",
             "linecolor": "white",
             "minorgridcolor": "white",
             "startlinecolor": "#2a3f5f"
            },
            "baxis": {
             "endlinecolor": "#2a3f5f",
             "gridcolor": "white",
             "linecolor": "white",
             "minorgridcolor": "white",
             "startlinecolor": "#2a3f5f"
            },
            "type": "carpet"
           }
          ],
          "choropleth": [
           {
            "colorbar": {
             "outlinewidth": 0,
             "ticks": ""
            },
            "type": "choropleth"
           }
          ],
          "contour": [
           {
            "colorbar": {
             "outlinewidth": 0,
             "ticks": ""
            },
            "colorscale": [
             [
              0,
              "#0d0887"
             ],
             [
              0.1111111111111111,
              "#46039f"
             ],
             [
              0.2222222222222222,
              "#7201a8"
             ],
             [
              0.3333333333333333,
              "#9c179e"
             ],
             [
              0.4444444444444444,
              "#bd3786"
             ],
             [
              0.5555555555555556,
              "#d8576b"
             ],
             [
              0.6666666666666666,
              "#ed7953"
             ],
             [
              0.7777777777777778,
              "#fb9f3a"
             ],
             [
              0.8888888888888888,
              "#fdca26"
             ],
             [
              1,
              "#f0f921"
             ]
            ],
            "type": "contour"
           }
          ],
          "contourcarpet": [
           {
            "colorbar": {
             "outlinewidth": 0,
             "ticks": ""
            },
            "type": "contourcarpet"
           }
          ],
          "heatmap": [
           {
            "colorbar": {
             "outlinewidth": 0,
             "ticks": ""
            },
            "colorscale": [
             [
              0,
              "#0d0887"
             ],
             [
              0.1111111111111111,
              "#46039f"
             ],
             [
              0.2222222222222222,
              "#7201a8"
             ],
             [
              0.3333333333333333,
              "#9c179e"
             ],
             [
              0.4444444444444444,
              "#bd3786"
             ],
             [
              0.5555555555555556,
              "#d8576b"
             ],
             [
              0.6666666666666666,
              "#ed7953"
             ],
             [
              0.7777777777777778,
              "#fb9f3a"
             ],
             [
              0.8888888888888888,
              "#fdca26"
             ],
             [
              1,
              "#f0f921"
             ]
            ],
            "type": "heatmap"
           }
          ],
          "heatmapgl": [
           {
            "colorbar": {
             "outlinewidth": 0,
             "ticks": ""
            },
            "colorscale": [
             [
              0,
              "#0d0887"
             ],
             [
              0.1111111111111111,
              "#46039f"
             ],
             [
              0.2222222222222222,
              "#7201a8"
             ],
             [
              0.3333333333333333,
              "#9c179e"
             ],
             [
              0.4444444444444444,
              "#bd3786"
             ],
             [
              0.5555555555555556,
              "#d8576b"
             ],
             [
              0.6666666666666666,
              "#ed7953"
             ],
             [
              0.7777777777777778,
              "#fb9f3a"
             ],
             [
              0.8888888888888888,
              "#fdca26"
             ],
             [
              1,
              "#f0f921"
             ]
            ],
            "type": "heatmapgl"
           }
          ],
          "histogram": [
           {
            "marker": {
             "pattern": {
              "fillmode": "overlay",
              "size": 10,
              "solidity": 0.2
             }
            },
            "type": "histogram"
           }
          ],
          "histogram2d": [
           {
            "colorbar": {
             "outlinewidth": 0,
             "ticks": ""
            },
            "colorscale": [
             [
              0,
              "#0d0887"
             ],
             [
              0.1111111111111111,
              "#46039f"
             ],
             [
              0.2222222222222222,
              "#7201a8"
             ],
             [
              0.3333333333333333,
              "#9c179e"
             ],
             [
              0.4444444444444444,
              "#bd3786"
             ],
             [
              0.5555555555555556,
              "#d8576b"
             ],
             [
              0.6666666666666666,
              "#ed7953"
             ],
             [
              0.7777777777777778,
              "#fb9f3a"
             ],
             [
              0.8888888888888888,
              "#fdca26"
             ],
             [
              1,
              "#f0f921"
             ]
            ],
            "type": "histogram2d"
           }
          ],
          "histogram2dcontour": [
           {
            "colorbar": {
             "outlinewidth": 0,
             "ticks": ""
            },
            "colorscale": [
             [
              0,
              "#0d0887"
             ],
             [
              0.1111111111111111,
              "#46039f"
             ],
             [
              0.2222222222222222,
              "#7201a8"
             ],
             [
              0.3333333333333333,
              "#9c179e"
             ],
             [
              0.4444444444444444,
              "#bd3786"
             ],
             [
              0.5555555555555556,
              "#d8576b"
             ],
             [
              0.6666666666666666,
              "#ed7953"
             ],
             [
              0.7777777777777778,
              "#fb9f3a"
             ],
             [
              0.8888888888888888,
              "#fdca26"
             ],
             [
              1,
              "#f0f921"
             ]
            ],
            "type": "histogram2dcontour"
           }
          ],
          "mesh3d": [
           {
            "colorbar": {
             "outlinewidth": 0,
             "ticks": ""
            },
            "type": "mesh3d"
           }
          ],
          "parcoords": [
           {
            "line": {
             "colorbar": {
              "outlinewidth": 0,
              "ticks": ""
             }
            },
            "type": "parcoords"
           }
          ],
          "pie": [
           {
            "automargin": true,
            "type": "pie"
           }
          ],
          "scatter": [
           {
            "marker": {
             "colorbar": {
              "outlinewidth": 0,
              "ticks": ""
             }
            },
            "type": "scatter"
           }
          ],
          "scatter3d": [
           {
            "line": {
             "colorbar": {
              "outlinewidth": 0,
              "ticks": ""
             }
            },
            "marker": {
             "colorbar": {
              "outlinewidth": 0,
              "ticks": ""
             }
            },
            "type": "scatter3d"
           }
          ],
          "scattercarpet": [
           {
            "marker": {
             "colorbar": {
              "outlinewidth": 0,
              "ticks": ""
             }
            },
            "type": "scattercarpet"
           }
          ],
          "scattergeo": [
           {
            "marker": {
             "colorbar": {
              "outlinewidth": 0,
              "ticks": ""
             }
            },
            "type": "scattergeo"
           }
          ],
          "scattergl": [
           {
            "marker": {
             "colorbar": {
              "outlinewidth": 0,
              "ticks": ""
             }
            },
            "type": "scattergl"
           }
          ],
          "scattermapbox": [
           {
            "marker": {
             "colorbar": {
              "outlinewidth": 0,
              "ticks": ""
             }
            },
            "type": "scattermapbox"
           }
          ],
          "scatterpolar": [
           {
            "marker": {
             "colorbar": {
              "outlinewidth": 0,
              "ticks": ""
             }
            },
            "type": "scatterpolar"
           }
          ],
          "scatterpolargl": [
           {
            "marker": {
             "colorbar": {
              "outlinewidth": 0,
              "ticks": ""
             }
            },
            "type": "scatterpolargl"
           }
          ],
          "scatterternary": [
           {
            "marker": {
             "colorbar": {
              "outlinewidth": 0,
              "ticks": ""
             }
            },
            "type": "scatterternary"
           }
          ],
          "surface": [
           {
            "colorbar": {
             "outlinewidth": 0,
             "ticks": ""
            },
            "colorscale": [
             [
              0,
              "#0d0887"
             ],
             [
              0.1111111111111111,
              "#46039f"
             ],
             [
              0.2222222222222222,
              "#7201a8"
             ],
             [
              0.3333333333333333,
              "#9c179e"
             ],
             [
              0.4444444444444444,
              "#bd3786"
             ],
             [
              0.5555555555555556,
              "#d8576b"
             ],
             [
              0.6666666666666666,
              "#ed7953"
             ],
             [
              0.7777777777777778,
              "#fb9f3a"
             ],
             [
              0.8888888888888888,
              "#fdca26"
             ],
             [
              1,
              "#f0f921"
             ]
            ],
            "type": "surface"
           }
          ],
          "table": [
           {
            "cells": {
             "fill": {
              "color": "#EBF0F8"
             },
             "line": {
              "color": "white"
             }
            },
            "header": {
             "fill": {
              "color": "#C8D4E3"
             },
             "line": {
              "color": "white"
             }
            },
            "type": "table"
           }
          ]
         },
         "layout": {
          "annotationdefaults": {
           "arrowcolor": "#2a3f5f",
           "arrowhead": 0,
           "arrowwidth": 1
          },
          "autotypenumbers": "strict",
          "coloraxis": {
           "colorbar": {
            "outlinewidth": 0,
            "ticks": ""
           }
          },
          "colorscale": {
           "diverging": [
            [
             0,
             "#8e0152"
            ],
            [
             0.1,
             "#c51b7d"
            ],
            [
             0.2,
             "#de77ae"
            ],
            [
             0.3,
             "#f1b6da"
            ],
            [
             0.4,
             "#fde0ef"
            ],
            [
             0.5,
             "#f7f7f7"
            ],
            [
             0.6,
             "#e6f5d0"
            ],
            [
             0.7,
             "#b8e186"
            ],
            [
             0.8,
             "#7fbc41"
            ],
            [
             0.9,
             "#4d9221"
            ],
            [
             1,
             "#276419"
            ]
           ],
           "sequential": [
            [
             0,
             "#0d0887"
            ],
            [
             0.1111111111111111,
             "#46039f"
            ],
            [
             0.2222222222222222,
             "#7201a8"
            ],
            [
             0.3333333333333333,
             "#9c179e"
            ],
            [
             0.4444444444444444,
             "#bd3786"
            ],
            [
             0.5555555555555556,
             "#d8576b"
            ],
            [
             0.6666666666666666,
             "#ed7953"
            ],
            [
             0.7777777777777778,
             "#fb9f3a"
            ],
            [
             0.8888888888888888,
             "#fdca26"
            ],
            [
             1,
             "#f0f921"
            ]
           ],
           "sequentialminus": [
            [
             0,
             "#0d0887"
            ],
            [
             0.1111111111111111,
             "#46039f"
            ],
            [
             0.2222222222222222,
             "#7201a8"
            ],
            [
             0.3333333333333333,
             "#9c179e"
            ],
            [
             0.4444444444444444,
             "#bd3786"
            ],
            [
             0.5555555555555556,
             "#d8576b"
            ],
            [
             0.6666666666666666,
             "#ed7953"
            ],
            [
             0.7777777777777778,
             "#fb9f3a"
            ],
            [
             0.8888888888888888,
             "#fdca26"
            ],
            [
             1,
             "#f0f921"
            ]
           ]
          },
          "colorway": [
           "#636efa",
           "#EF553B",
           "#00cc96",
           "#ab63fa",
           "#FFA15A",
           "#19d3f3",
           "#FF6692",
           "#B6E880",
           "#FF97FF",
           "#FECB52"
          ],
          "font": {
           "color": "#2a3f5f"
          },
          "geo": {
           "bgcolor": "white",
           "lakecolor": "white",
           "landcolor": "#E5ECF6",
           "showlakes": true,
           "showland": true,
           "subunitcolor": "white"
          },
          "hoverlabel": {
           "align": "left"
          },
          "hovermode": "closest",
          "mapbox": {
           "style": "light"
          },
          "paper_bgcolor": "white",
          "plot_bgcolor": "#E5ECF6",
          "polar": {
           "angularaxis": {
            "gridcolor": "white",
            "linecolor": "white",
            "ticks": ""
           },
           "bgcolor": "#E5ECF6",
           "radialaxis": {
            "gridcolor": "white",
            "linecolor": "white",
            "ticks": ""
           }
          },
          "scene": {
           "xaxis": {
            "backgroundcolor": "#E5ECF6",
            "gridcolor": "white",
            "gridwidth": 2,
            "linecolor": "white",
            "showbackground": true,
            "ticks": "",
            "zerolinecolor": "white"
           },
           "yaxis": {
            "backgroundcolor": "#E5ECF6",
            "gridcolor": "white",
            "gridwidth": 2,
            "linecolor": "white",
            "showbackground": true,
            "ticks": "",
            "zerolinecolor": "white"
           },
           "zaxis": {
            "backgroundcolor": "#E5ECF6",
            "gridcolor": "white",
            "gridwidth": 2,
            "linecolor": "white",
            "showbackground": true,
            "ticks": "",
            "zerolinecolor": "white"
           }
          },
          "shapedefaults": {
           "line": {
            "color": "#2a3f5f"
           }
          },
          "ternary": {
           "aaxis": {
            "gridcolor": "white",
            "linecolor": "white",
            "ticks": ""
           },
           "baxis": {
            "gridcolor": "white",
            "linecolor": "white",
            "ticks": ""
           },
           "bgcolor": "#E5ECF6",
           "caxis": {
            "gridcolor": "white",
            "linecolor": "white",
            "ticks": ""
           }
          },
          "title": {
           "x": 0.05
          },
          "xaxis": {
           "automargin": true,
           "gridcolor": "white",
           "linecolor": "white",
           "ticks": "",
           "title": {
            "standoff": 15
           },
           "zerolinecolor": "white",
           "zerolinewidth": 2
          },
          "yaxis": {
           "automargin": true,
           "gridcolor": "white",
           "linecolor": "white",
           "ticks": "",
           "title": {
            "standoff": 15
           },
           "zerolinecolor": "white",
           "zerolinewidth": 2
          }
         }
        },
        "title": {
         "text": "Sobreviventes por Local de Embarque"
        },
        "uniformtext": {
         "minsize": 8,
         "mode": "hide"
        },
        "xaxis": {
         "anchor": "y",
         "domain": [
          0,
          1
         ],
         "title": {
          "text": ""
         }
        },
        "yaxis": {
         "anchor": "x",
         "domain": [
          0,
          1
         ],
         "title": {
          "text": ""
         }
        }
       }
      },
      "text/html": [
       "<div>                            <div id=\"759d740f-a034-499a-8e6e-03d1d7a9c9c1\" class=\"plotly-graph-div\" style=\"height:525px; width:100%;\"></div>            <script type=\"text/javascript\">                require([\"plotly\"], function(Plotly) {                    window.PLOTLYENV=window.PLOTLYENV || {};                                    if (document.getElementById(\"759d740f-a034-499a-8e6e-03d1d7a9c9c1\")) {                    Plotly.newPlot(                        \"759d740f-a034-499a-8e6e-03d1d7a9c9c1\",                        [{\"alignmentgroup\":\"True\",\"hovertemplate\":\"=%{text}<extra></extra>\",\"legendgroup\":\"Cherbourg\",\"marker\":{\"color\":\"#333F44\",\"pattern\":{\"shape\":\"\"}},\"name\":\"Cherbourg\",\"offsetgroup\":\"Cherbourg\",\"orientation\":\"v\",\"showlegend\":true,\"text\":[75.0,93.0],\"textposition\":\"outside\",\"texttemplate\":\"%{text:.4s}\",\"type\":\"bar\",\"x\":[\"Morreu\",\"Viveu\"],\"xaxis\":\"x\",\"y\":[75,93],\"yaxis\":\"y\"},{\"alignmentgroup\":\"True\",\"hovertemplate\":\"=%{text}<extra></extra>\",\"legendgroup\":\"Queenstown\",\"marker\":{\"color\":\"#37AA9C\",\"pattern\":{\"shape\":\"\"}},\"name\":\"Queenstown\",\"offsetgroup\":\"Queenstown\",\"orientation\":\"v\",\"showlegend\":true,\"text\":[47.0,30.0],\"textposition\":\"outside\",\"texttemplate\":\"%{text:.4s}\",\"type\":\"bar\",\"x\":[\"Morreu\",\"Viveu\"],\"xaxis\":\"x\",\"y\":[47,30],\"yaxis\":\"y\"},{\"alignmentgroup\":\"True\",\"hovertemplate\":\"=%{text}<extra></extra>\",\"legendgroup\":\"Southampton\",\"marker\":{\"color\":\"#94F3E4\",\"pattern\":{\"shape\":\"\"}},\"name\":\"Southampton\",\"offsetgroup\":\"Southampton\",\"orientation\":\"v\",\"showlegend\":true,\"text\":[427.0,217.0],\"textposition\":\"outside\",\"texttemplate\":\"%{text:.4s}\",\"type\":\"bar\",\"x\":[\"Morreu\",\"Viveu\"],\"xaxis\":\"x\",\"y\":[427,217],\"yaxis\":\"y\"}],                        {\"barmode\":\"group\",\"legend\":{\"title\":{\"text\":\"\"},\"tracegroupgap\":0},\"template\":{\"data\":{\"bar\":[{\"error_x\":{\"color\":\"#2a3f5f\"},\"error_y\":{\"color\":\"#2a3f5f\"},\"marker\":{\"line\":{\"color\":\"#E5ECF6\",\"width\":0.5},\"pattern\":{\"fillmode\":\"overlay\",\"size\":10,\"solidity\":0.2}},\"type\":\"bar\"}],\"barpolar\":[{\"marker\":{\"line\":{\"color\":\"#E5ECF6\",\"width\":0.5},\"pattern\":{\"fillmode\":\"overlay\",\"size\":10,\"solidity\":0.2}},\"type\":\"barpolar\"}],\"carpet\":[{\"aaxis\":{\"endlinecolor\":\"#2a3f5f\",\"gridcolor\":\"white\",\"linecolor\":\"white\",\"minorgridcolor\":\"white\",\"startlinecolor\":\"#2a3f5f\"},\"baxis\":{\"endlinecolor\":\"#2a3f5f\",\"gridcolor\":\"white\",\"linecolor\":\"white\",\"minorgridcolor\":\"white\",\"startlinecolor\":\"#2a3f5f\"},\"type\":\"carpet\"}],\"choropleth\":[{\"colorbar\":{\"outlinewidth\":0,\"ticks\":\"\"},\"type\":\"choropleth\"}],\"contour\":[{\"colorbar\":{\"outlinewidth\":0,\"ticks\":\"\"},\"colorscale\":[[0.0,\"#0d0887\"],[0.1111111111111111,\"#46039f\"],[0.2222222222222222,\"#7201a8\"],[0.3333333333333333,\"#9c179e\"],[0.4444444444444444,\"#bd3786\"],[0.5555555555555556,\"#d8576b\"],[0.6666666666666666,\"#ed7953\"],[0.7777777777777778,\"#fb9f3a\"],[0.8888888888888888,\"#fdca26\"],[1.0,\"#f0f921\"]],\"type\":\"contour\"}],\"contourcarpet\":[{\"colorbar\":{\"outlinewidth\":0,\"ticks\":\"\"},\"type\":\"contourcarpet\"}],\"heatmap\":[{\"colorbar\":{\"outlinewidth\":0,\"ticks\":\"\"},\"colorscale\":[[0.0,\"#0d0887\"],[0.1111111111111111,\"#46039f\"],[0.2222222222222222,\"#7201a8\"],[0.3333333333333333,\"#9c179e\"],[0.4444444444444444,\"#bd3786\"],[0.5555555555555556,\"#d8576b\"],[0.6666666666666666,\"#ed7953\"],[0.7777777777777778,\"#fb9f3a\"],[0.8888888888888888,\"#fdca26\"],[1.0,\"#f0f921\"]],\"type\":\"heatmap\"}],\"heatmapgl\":[{\"colorbar\":{\"outlinewidth\":0,\"ticks\":\"\"},\"colorscale\":[[0.0,\"#0d0887\"],[0.1111111111111111,\"#46039f\"],[0.2222222222222222,\"#7201a8\"],[0.3333333333333333,\"#9c179e\"],[0.4444444444444444,\"#bd3786\"],[0.5555555555555556,\"#d8576b\"],[0.6666666666666666,\"#ed7953\"],[0.7777777777777778,\"#fb9f3a\"],[0.8888888888888888,\"#fdca26\"],[1.0,\"#f0f921\"]],\"type\":\"heatmapgl\"}],\"histogram\":[{\"marker\":{\"pattern\":{\"fillmode\":\"overlay\",\"size\":10,\"solidity\":0.2}},\"type\":\"histogram\"}],\"histogram2d\":[{\"colorbar\":{\"outlinewidth\":0,\"ticks\":\"\"},\"colorscale\":[[0.0,\"#0d0887\"],[0.1111111111111111,\"#46039f\"],[0.2222222222222222,\"#7201a8\"],[0.3333333333333333,\"#9c179e\"],[0.4444444444444444,\"#bd3786\"],[0.5555555555555556,\"#d8576b\"],[0.6666666666666666,\"#ed7953\"],[0.7777777777777778,\"#fb9f3a\"],[0.8888888888888888,\"#fdca26\"],[1.0,\"#f0f921\"]],\"type\":\"histogram2d\"}],\"histogram2dcontour\":[{\"colorbar\":{\"outlinewidth\":0,\"ticks\":\"\"},\"colorscale\":[[0.0,\"#0d0887\"],[0.1111111111111111,\"#46039f\"],[0.2222222222222222,\"#7201a8\"],[0.3333333333333333,\"#9c179e\"],[0.4444444444444444,\"#bd3786\"],[0.5555555555555556,\"#d8576b\"],[0.6666666666666666,\"#ed7953\"],[0.7777777777777778,\"#fb9f3a\"],[0.8888888888888888,\"#fdca26\"],[1.0,\"#f0f921\"]],\"type\":\"histogram2dcontour\"}],\"mesh3d\":[{\"colorbar\":{\"outlinewidth\":0,\"ticks\":\"\"},\"type\":\"mesh3d\"}],\"parcoords\":[{\"line\":{\"colorbar\":{\"outlinewidth\":0,\"ticks\":\"\"}},\"type\":\"parcoords\"}],\"pie\":[{\"automargin\":true,\"type\":\"pie\"}],\"scatter\":[{\"marker\":{\"colorbar\":{\"outlinewidth\":0,\"ticks\":\"\"}},\"type\":\"scatter\"}],\"scatter3d\":[{\"line\":{\"colorbar\":{\"outlinewidth\":0,\"ticks\":\"\"}},\"marker\":{\"colorbar\":{\"outlinewidth\":0,\"ticks\":\"\"}},\"type\":\"scatter3d\"}],\"scattercarpet\":[{\"marker\":{\"colorbar\":{\"outlinewidth\":0,\"ticks\":\"\"}},\"type\":\"scattercarpet\"}],\"scattergeo\":[{\"marker\":{\"colorbar\":{\"outlinewidth\":0,\"ticks\":\"\"}},\"type\":\"scattergeo\"}],\"scattergl\":[{\"marker\":{\"colorbar\":{\"outlinewidth\":0,\"ticks\":\"\"}},\"type\":\"scattergl\"}],\"scattermapbox\":[{\"marker\":{\"colorbar\":{\"outlinewidth\":0,\"ticks\":\"\"}},\"type\":\"scattermapbox\"}],\"scatterpolar\":[{\"marker\":{\"colorbar\":{\"outlinewidth\":0,\"ticks\":\"\"}},\"type\":\"scatterpolar\"}],\"scatterpolargl\":[{\"marker\":{\"colorbar\":{\"outlinewidth\":0,\"ticks\":\"\"}},\"type\":\"scatterpolargl\"}],\"scatterternary\":[{\"marker\":{\"colorbar\":{\"outlinewidth\":0,\"ticks\":\"\"}},\"type\":\"scatterternary\"}],\"surface\":[{\"colorbar\":{\"outlinewidth\":0,\"ticks\":\"\"},\"colorscale\":[[0.0,\"#0d0887\"],[0.1111111111111111,\"#46039f\"],[0.2222222222222222,\"#7201a8\"],[0.3333333333333333,\"#9c179e\"],[0.4444444444444444,\"#bd3786\"],[0.5555555555555556,\"#d8576b\"],[0.6666666666666666,\"#ed7953\"],[0.7777777777777778,\"#fb9f3a\"],[0.8888888888888888,\"#fdca26\"],[1.0,\"#f0f921\"]],\"type\":\"surface\"}],\"table\":[{\"cells\":{\"fill\":{\"color\":\"#EBF0F8\"},\"line\":{\"color\":\"white\"}},\"header\":{\"fill\":{\"color\":\"#C8D4E3\"},\"line\":{\"color\":\"white\"}},\"type\":\"table\"}]},\"layout\":{\"annotationdefaults\":{\"arrowcolor\":\"#2a3f5f\",\"arrowhead\":0,\"arrowwidth\":1},\"autotypenumbers\":\"strict\",\"coloraxis\":{\"colorbar\":{\"outlinewidth\":0,\"ticks\":\"\"}},\"colorscale\":{\"diverging\":[[0,\"#8e0152\"],[0.1,\"#c51b7d\"],[0.2,\"#de77ae\"],[0.3,\"#f1b6da\"],[0.4,\"#fde0ef\"],[0.5,\"#f7f7f7\"],[0.6,\"#e6f5d0\"],[0.7,\"#b8e186\"],[0.8,\"#7fbc41\"],[0.9,\"#4d9221\"],[1,\"#276419\"]],\"sequential\":[[0.0,\"#0d0887\"],[0.1111111111111111,\"#46039f\"],[0.2222222222222222,\"#7201a8\"],[0.3333333333333333,\"#9c179e\"],[0.4444444444444444,\"#bd3786\"],[0.5555555555555556,\"#d8576b\"],[0.6666666666666666,\"#ed7953\"],[0.7777777777777778,\"#fb9f3a\"],[0.8888888888888888,\"#fdca26\"],[1.0,\"#f0f921\"]],\"sequentialminus\":[[0.0,\"#0d0887\"],[0.1111111111111111,\"#46039f\"],[0.2222222222222222,\"#7201a8\"],[0.3333333333333333,\"#9c179e\"],[0.4444444444444444,\"#bd3786\"],[0.5555555555555556,\"#d8576b\"],[0.6666666666666666,\"#ed7953\"],[0.7777777777777778,\"#fb9f3a\"],[0.8888888888888888,\"#fdca26\"],[1.0,\"#f0f921\"]]},\"colorway\":[\"#636efa\",\"#EF553B\",\"#00cc96\",\"#ab63fa\",\"#FFA15A\",\"#19d3f3\",\"#FF6692\",\"#B6E880\",\"#FF97FF\",\"#FECB52\"],\"font\":{\"color\":\"#2a3f5f\"},\"geo\":{\"bgcolor\":\"white\",\"lakecolor\":\"white\",\"landcolor\":\"#E5ECF6\",\"showlakes\":true,\"showland\":true,\"subunitcolor\":\"white\"},\"hoverlabel\":{\"align\":\"left\"},\"hovermode\":\"closest\",\"mapbox\":{\"style\":\"light\"},\"paper_bgcolor\":\"white\",\"plot_bgcolor\":\"#E5ECF6\",\"polar\":{\"angularaxis\":{\"gridcolor\":\"white\",\"linecolor\":\"white\",\"ticks\":\"\"},\"bgcolor\":\"#E5ECF6\",\"radialaxis\":{\"gridcolor\":\"white\",\"linecolor\":\"white\",\"ticks\":\"\"}},\"scene\":{\"xaxis\":{\"backgroundcolor\":\"#E5ECF6\",\"gridcolor\":\"white\",\"gridwidth\":2,\"linecolor\":\"white\",\"showbackground\":true,\"ticks\":\"\",\"zerolinecolor\":\"white\"},\"yaxis\":{\"backgroundcolor\":\"#E5ECF6\",\"gridcolor\":\"white\",\"gridwidth\":2,\"linecolor\":\"white\",\"showbackground\":true,\"ticks\":\"\",\"zerolinecolor\":\"white\"},\"zaxis\":{\"backgroundcolor\":\"#E5ECF6\",\"gridcolor\":\"white\",\"gridwidth\":2,\"linecolor\":\"white\",\"showbackground\":true,\"ticks\":\"\",\"zerolinecolor\":\"white\"}},\"shapedefaults\":{\"line\":{\"color\":\"#2a3f5f\"}},\"ternary\":{\"aaxis\":{\"gridcolor\":\"white\",\"linecolor\":\"white\",\"ticks\":\"\"},\"baxis\":{\"gridcolor\":\"white\",\"linecolor\":\"white\",\"ticks\":\"\"},\"bgcolor\":\"#E5ECF6\",\"caxis\":{\"gridcolor\":\"white\",\"linecolor\":\"white\",\"ticks\":\"\"}},\"title\":{\"x\":0.05},\"xaxis\":{\"automargin\":true,\"gridcolor\":\"white\",\"linecolor\":\"white\",\"ticks\":\"\",\"title\":{\"standoff\":15},\"zerolinecolor\":\"white\",\"zerolinewidth\":2},\"yaxis\":{\"automargin\":true,\"gridcolor\":\"white\",\"linecolor\":\"white\",\"ticks\":\"\",\"title\":{\"standoff\":15},\"zerolinecolor\":\"white\",\"zerolinewidth\":2}}},\"title\":{\"text\":\"Sobreviventes por Local de Embarque\"},\"uniformtext\":{\"minsize\":8,\"mode\":\"hide\"},\"xaxis\":{\"anchor\":\"y\",\"domain\":[0.0,1.0],\"title\":{\"text\":\"\"}},\"yaxis\":{\"anchor\":\"x\",\"domain\":[0.0,1.0],\"title\":{\"text\":\"\"}}},                        {\"responsive\": true}                    ).then(function(){\n",
       "                            \n",
       "var gd = document.getElementById('759d740f-a034-499a-8e6e-03d1d7a9c9c1');\n",
       "var x = new MutationObserver(function (mutations, observer) {{\n",
       "        var display = window.getComputedStyle(gd).display;\n",
       "        if (!display || display === 'none') {{\n",
       "            console.log([gd, 'removed!']);\n",
       "            Plotly.purge(gd);\n",
       "            observer.disconnect();\n",
       "        }}\n",
       "}});\n",
       "\n",
       "// Listen for the removal of the full notebook cells\n",
       "var notebookContainer = gd.closest('#notebook-container');\n",
       "if (notebookContainer) {{\n",
       "    x.observe(notebookContainer, {childList: true});\n",
       "}}\n",
       "\n",
       "// Listen for the clearing of the current output cell\n",
       "var outputEl = gd.closest('.output');\n",
       "if (outputEl) {{\n",
       "    x.observe(outputEl, {childList: true});\n",
       "}}\n",
       "\n",
       "                        })                };                });            </script>        </div>"
      ]
     },
     "metadata": {},
     "output_type": "display_data"
    }
   ],
   "source": [
    "sex_survived = train.groupby(['Survived','Embarked'],as_index=False).agg({'PassengerId':'count'})\n",
    "sex_survived['Survived_label'] = sex_survived.Survived.map(lambda x: 'Morreu' if x==0 else 'Viveu')\n",
    "sex_survived['Embarked_name'] = sex_survived.Embarked.map(lambda x: 'Cherbourg' if x=='C' else 'Queenstown' if x=='Q' else 'Southampton')\n",
    "fig = px.bar(sex_survived,\n",
    "             text='PassengerId',\n",
    "             x='Survived_label',\n",
    "             y='PassengerId',\n",
    "             color='Embarked_name',\n",
    "             barmode='group',\n",
    "             title='Sobreviventes por Local de Embarque',\n",
    "             labels={'Survived_label':'','PassengerId':'','Embarked_name':''},\n",
    "             color_discrete_sequence=colors\n",
    "             )\n",
    "fig.update_traces(texttemplate='%{text:.4s}', textposition='outside')\n",
    "fig.update_layout(uniformtext_minsize=8, uniformtext_mode='hide')\n",
    "fig.show()"
   ]
  },
  {
   "cell_type": "code",
   "execution_count": 81,
   "id": "d5179000",
   "metadata": {},
   "outputs": [
    {
     "data": {
      "text/plain": [
       "male      0.647587\n",
       "female    0.352413\n",
       "Name: Sex, dtype: float64"
      ]
     },
     "execution_count": 81,
     "metadata": {},
     "output_type": "execute_result"
    }
   ],
   "source": [
    "train.Sex.value_counts(normalize=True)"
   ]
  },
  {
   "cell_type": "code",
   "execution_count": 94,
   "id": "08270f99",
   "metadata": {},
   "outputs": [
    {
     "data": {
      "text/plain": [
       "0    0.811092\n",
       "1    0.188908\n",
       "Name: Survived, dtype: float64"
      ]
     },
     "execution_count": 94,
     "metadata": {},
     "output_type": "execute_result"
    }
   ],
   "source": [
    "var = train[train.Sex=='male'].reset_index(drop=True)\n",
    "var.Survived.value_counts(normalize=True)"
   ]
  },
  {
   "cell_type": "code",
   "execution_count": 80,
   "id": "ed4e7012",
   "metadata": {},
   "outputs": [
    {
     "data": {
      "text/plain": [
       "1    0.742038\n",
       "0    0.257962\n",
       "Name: Survived, dtype: float64"
      ]
     },
     "execution_count": 80,
     "metadata": {},
     "output_type": "execute_result"
    }
   ],
   "source": [
    "var = train[train.Sex=='female'].reset_index(drop=True)\n",
    "var.Survived.value_counts(normalize=True)"
   ]
  },
  {
   "cell_type": "code",
   "execution_count": 102,
   "id": "ed0b4dff",
   "metadata": {},
   "outputs": [
    {
     "data": {
      "text/plain": [
       "1    136\n",
       "0     80\n",
       "Name: Survived, dtype: int64"
      ]
     },
     "execution_count": 102,
     "metadata": {},
     "output_type": "execute_result"
    }
   ],
   "source": [
    "var = train[train.Pclass==1].reset_index(drop=True)\n",
    "var.Survived.value_counts() # normalize=True"
   ]
  },
  {
   "cell_type": "code",
   "execution_count": 103,
   "id": "6ee093e0",
   "metadata": {},
   "outputs": [
    {
     "data": {
      "text/plain": [
       "0    97\n",
       "1    87\n",
       "Name: Survived, dtype: int64"
      ]
     },
     "execution_count": 103,
     "metadata": {},
     "output_type": "execute_result"
    }
   ],
   "source": [
    "var = train[train.Pclass==2].reset_index(drop=True)\n",
    "var.Survived.value_counts()"
   ]
  },
  {
   "cell_type": "code",
   "execution_count": 104,
   "id": "9840f166",
   "metadata": {},
   "outputs": [
    {
     "data": {
      "text/plain": [
       "0    372\n",
       "1    119\n",
       "Name: Survived, dtype: int64"
      ]
     },
     "execution_count": 104,
     "metadata": {},
     "output_type": "execute_result"
    }
   ],
   "source": [
    "var = train[train.Pclass==3].reset_index(drop=True)\n",
    "var.Survived.value_counts()"
   ]
  },
  {
   "cell_type": "code",
   "execution_count": 108,
   "id": "e732132a",
   "metadata": {},
   "outputs": [
    {
     "data": {
      "text/plain": [
       "1    0.62963\n",
       "0    0.37037\n",
       "Name: Survived, dtype: float64"
      ]
     },
     "execution_count": 108,
     "metadata": {},
     "output_type": "execute_result"
    }
   ],
   "source": [
    "var = train[train.Pclass==1].reset_index(drop=True)\n",
    "var.Survived.value_counts(normalize=True)"
   ]
  },
  {
   "cell_type": "code",
   "execution_count": 109,
   "id": "054fd57a",
   "metadata": {},
   "outputs": [
    {
     "data": {
      "text/plain": [
       "0    0.757637\n",
       "1    0.242363\n",
       "Name: Survived, dtype: float64"
      ]
     },
     "execution_count": 109,
     "metadata": {},
     "output_type": "execute_result"
    }
   ],
   "source": [
    "var = train[train.Pclass==3].reset_index(drop=True)\n",
    "var.Survived.value_counts(normalize=True)"
   ]
  },
  {
   "cell_type": "code",
   "execution_count": 171,
   "id": "df6f80c5",
   "metadata": {},
   "outputs": [
    {
     "data": {
      "application/vnd.plotly.v1+json": {
       "config": {
        "plotlyServerURL": "https://plot.ly"
       },
       "data": [
        {
         "autobinx": false,
         "histnorm": "probability density",
         "legendgroup": "Morreu",
         "marker": {
          "color": "#333F44"
         },
         "name": "Morreu",
         "opacity": 0.7,
         "type": "histogram",
         "x": [
          22,
          35,
          54,
          2,
          20,
          39,
          14,
          2,
          31,
          35,
          8,
          19,
          40,
          66,
          28,
          42,
          21,
          18,
          40,
          27,
          18,
          7,
          21,
          65,
          28.5,
          11,
          22,
          45,
          4,
          19,
          26,
          32,
          16,
          21,
          26,
          25,
          22,
          28,
          16,
          24,
          29,
          20,
          46,
          26,
          59,
          71,
          34,
          28,
          21,
          33,
          37,
          28,
          38,
          47,
          14.5,
          22,
          20,
          17,
          21,
          70.5,
          29,
          24,
          2,
          21,
          32.5,
          54,
          45,
          33,
          20,
          47,
          25,
          23,
          37,
          16,
          24,
          19,
          18,
          19,
          9,
          36.5,
          42,
          51,
          55.5,
          40.5,
          51,
          30,
          44,
          26,
          17,
          1,
          45,
          28,
          61,
          4,
          21,
          56,
          18,
          50,
          30,
          36,
          9,
          40,
          36,
          19,
          42,
          24,
          28,
          34,
          45.5,
          2,
          32,
          24,
          22,
          30,
          42,
          30,
          27,
          51,
          22,
          20.5,
          18,
          29,
          59,
          24,
          44,
          19,
          33,
          29,
          22,
          30,
          44,
          25,
          54,
          29,
          62,
          30,
          41,
          52,
          40,
          36,
          16,
          37,
          45,
          7,
          65,
          28,
          16,
          33,
          22,
          36,
          24,
          24,
          23.5,
          2,
          19,
          30,
          26,
          28,
          43,
          54,
          22,
          27,
          61,
          45.5,
          38,
          16,
          29,
          45,
          28,
          25,
          36,
          42,
          23,
          15,
          25,
          28,
          38,
          40,
          29,
          45,
          35,
          30,
          18,
          19,
          22,
          3,
          27,
          20,
          19,
          32,
          18,
          1,
          28,
          22,
          31,
          46,
          23,
          26,
          21,
          28,
          20,
          34,
          51,
          21,
          30,
          10,
          21,
          29,
          28,
          18,
          17,
          50,
          21,
          64,
          31,
          20,
          25,
          36,
          30,
          65,
          34,
          47,
          48,
          38,
          56,
          38,
          22,
          34,
          29,
          22,
          9,
          50,
          58,
          30,
          21,
          55,
          71,
          21,
          25,
          24,
          17,
          21,
          37,
          18,
          28,
          24,
          47,
          32,
          22,
          40.5,
          39,
          23,
          17,
          30,
          45,
          9,
          11,
          50,
          64,
          33,
          27,
          62,
          40,
          28,
          24,
          19,
          29,
          16,
          19,
          54,
          36,
          47,
          22,
          35,
          47,
          37,
          36,
          49,
          44,
          36,
          30,
          39,
          35,
          34,
          26,
          26,
          27,
          21,
          21,
          61,
          57,
          26,
          51,
          9,
          32,
          31,
          41,
          20,
          2,
          19,
          21,
          18,
          24,
          32,
          23,
          58,
          40,
          47,
          36,
          32,
          25,
          43,
          31,
          70,
          18,
          24.5,
          43,
          20,
          14,
          60,
          25,
          14,
          19,
          18,
          25,
          60,
          52,
          44,
          49,
          42,
          18,
          25,
          26,
          39,
          29,
          52,
          19,
          33,
          17,
          34,
          50,
          20,
          25,
          25,
          11,
          23,
          23,
          28.5,
          48,
          36,
          24,
          70,
          16,
          19,
          31,
          33,
          23,
          28,
          18,
          34,
          41,
          16,
          30.5,
          32,
          24,
          48,
          57,
          18,
          29,
          25,
          25,
          8,
          46,
          16,
          25,
          39,
          30,
          30,
          34,
          31,
          39,
          18,
          39,
          26,
          39,
          35,
          6,
          30.5,
          23,
          31,
          43,
          10,
          38,
          2,
          23,
          18,
          21,
          20,
          16,
          34.5,
          17,
          42,
          35,
          28,
          4,
          74,
          9,
          44,
          41,
          21,
          24,
          31,
          26,
          33,
          47,
          20,
          19,
          33,
          22,
          28,
          25,
          39,
          27,
          32
         ],
         "xaxis": "x",
         "xbins": {
          "end": 74,
          "size": 1,
          "start": 1
         },
         "yaxis": "y"
        },
        {
         "autobinx": false,
         "histnorm": "probability density",
         "legendgroup": "Viveu",
         "marker": {
          "color": "#37AA9C"
         },
         "name": "Viveu",
         "opacity": 0.7,
         "type": "histogram",
         "x": [
          38,
          26,
          35,
          27,
          14,
          4,
          58,
          55,
          34,
          15,
          28,
          38,
          14,
          3,
          19,
          49,
          29,
          21,
          5,
          38,
          29,
          17,
          32,
          0.83,
          30,
          29,
          17,
          33,
          23,
          23,
          34,
          21,
          32.5,
          12,
          24,
          29,
          19,
          22,
          24,
          27,
          22,
          16,
          40,
          9,
          1,
          1,
          4,
          45,
          32,
          19,
          3,
          44,
          58,
          18,
          26,
          16,
          40,
          35,
          31,
          27,
          32,
          16,
          38,
          19,
          35,
          5,
          8,
          24,
          37,
          29,
          30,
          35,
          50,
          3,
          25,
          58,
          35,
          25,
          41,
          63,
          35,
          19,
          30,
          42,
          22,
          26,
          19,
          50,
          0.92,
          17,
          30,
          24,
          18,
          26,
          24,
          31,
          40,
          30,
          22,
          36,
          36,
          31,
          16,
          41,
          45,
          2,
          24,
          24,
          40,
          3,
          22,
          60,
          24,
          25,
          22,
          42,
          1,
          35,
          36,
          17,
          36,
          21,
          23,
          24,
          28,
          39,
          3,
          33,
          44,
          34,
          18,
          28,
          19,
          32,
          28,
          42,
          14,
          24,
          45,
          28,
          4,
          13,
          34,
          5,
          52,
          49,
          29,
          50,
          48,
          0.75,
          33,
          23,
          2,
          63,
          25,
          35,
          9,
          54,
          16,
          33,
          26,
          29,
          36,
          54,
          34,
          36,
          30,
          44,
          50,
          2,
          7,
          30,
          22,
          36,
          32,
          19,
          8,
          17,
          22,
          22,
          48,
          39,
          36,
          32,
          62,
          53,
          36,
          34,
          39,
          32,
          25,
          39,
          18,
          60,
          52,
          49,
          24,
          35,
          27,
          22,
          40,
          24,
          4,
          42,
          20,
          21,
          80,
          32,
          28,
          24,
          0.75,
          48,
          56,
          23,
          18,
          50,
          20,
          40,
          31,
          18,
          36,
          27,
          15,
          31,
          4,
          18,
          35,
          45,
          42,
          22,
          24,
          48,
          38,
          27,
          6,
          27,
          30,
          29,
          35,
          21,
          31,
          30,
          4,
          6,
          48,
          0.67,
          33,
          20,
          36,
          51,
          54,
          5,
          43,
          13,
          17,
          18,
          1,
          49,
          31,
          31,
          11,
          0.42,
          27,
          33,
          52,
          27,
          27,
          1,
          62,
          15,
          0.83,
          39,
          32,
          30,
          16,
          18,
          45,
          51,
          24,
          48,
          42,
          27,
          4,
          47,
          28,
          15,
          56,
          25,
          19,
          26
         ],
         "xaxis": "x",
         "xbins": {
          "end": 80,
          "size": 1,
          "start": 0.42
         },
         "yaxis": "y"
        },
        {
         "legendgroup": "Morreu",
         "marker": {
          "color": "#333F44"
         },
         "mode": "lines",
         "name": "Morreu",
         "showlegend": false,
         "type": "scatter",
         "x": [
          1,
          1.146,
          1.292,
          1.438,
          1.584,
          1.73,
          1.876,
          2.0220000000000002,
          2.168,
          2.314,
          2.46,
          2.606,
          2.752,
          2.8979999999999997,
          3.044,
          3.19,
          3.336,
          3.482,
          3.628,
          3.774,
          3.92,
          4.066,
          4.212,
          4.3580000000000005,
          4.504,
          4.65,
          4.795999999999999,
          4.942,
          5.088,
          5.234,
          5.38,
          5.526,
          5.672,
          5.818,
          5.964,
          6.11,
          6.256,
          6.402,
          6.548,
          6.694,
          6.84,
          6.986,
          7.132,
          7.278,
          7.424,
          7.57,
          7.716,
          7.862,
          8.008,
          8.154,
          8.3,
          8.446,
          8.591999999999999,
          8.738,
          8.884,
          9.03,
          9.176,
          9.322,
          9.468,
          9.614,
          9.76,
          9.906,
          10.052,
          10.198,
          10.344,
          10.49,
          10.636,
          10.782,
          10.928,
          11.074,
          11.22,
          11.366,
          11.512,
          11.658,
          11.804,
          11.95,
          12.096,
          12.242,
          12.388,
          12.534,
          12.68,
          12.826,
          12.972,
          13.118,
          13.264,
          13.41,
          13.556,
          13.702,
          13.848,
          13.994,
          14.14,
          14.286,
          14.432,
          14.578,
          14.724,
          14.87,
          15.016,
          15.162,
          15.308,
          15.454,
          15.6,
          15.746,
          15.892,
          16.038,
          16.183999999999997,
          16.33,
          16.476,
          16.622,
          16.768,
          16.914,
          17.06,
          17.206,
          17.352,
          17.498,
          17.644,
          17.79,
          17.936,
          18.082,
          18.228,
          18.374,
          18.52,
          18.666,
          18.812,
          18.958,
          19.104,
          19.25,
          19.396,
          19.542,
          19.688,
          19.834,
          19.98,
          20.126,
          20.272,
          20.418,
          20.564,
          20.71,
          20.856,
          21.002,
          21.148,
          21.294,
          21.44,
          21.586,
          21.732,
          21.878,
          22.024,
          22.17,
          22.316,
          22.462,
          22.608,
          22.754,
          22.9,
          23.046,
          23.192,
          23.338,
          23.484,
          23.63,
          23.776,
          23.922,
          24.068,
          24.214,
          24.36,
          24.506,
          24.652,
          24.798,
          24.944,
          25.09,
          25.236,
          25.382,
          25.528,
          25.674,
          25.82,
          25.966,
          26.112,
          26.258,
          26.404,
          26.55,
          26.696,
          26.842,
          26.988,
          27.134,
          27.28,
          27.426,
          27.572,
          27.718,
          27.864,
          28.01,
          28.156,
          28.302,
          28.448,
          28.594,
          28.74,
          28.886,
          29.032,
          29.178,
          29.324,
          29.47,
          29.616,
          29.762,
          29.908,
          30.054,
          30.2,
          30.346,
          30.492,
          30.638,
          30.784,
          30.93,
          31.076,
          31.222,
          31.368,
          31.514,
          31.66,
          31.806,
          31.952,
          32.098,
          32.244,
          32.39,
          32.536,
          32.682,
          32.828,
          32.974000000000004,
          33.12,
          33.266,
          33.412,
          33.558,
          33.704,
          33.85,
          33.996,
          34.142,
          34.288,
          34.434,
          34.58,
          34.726,
          34.872,
          35.018,
          35.164,
          35.31,
          35.456,
          35.602,
          35.748,
          35.894,
          36.04,
          36.186,
          36.332,
          36.478,
          36.624,
          36.77,
          36.916,
          37.062,
          37.208,
          37.354,
          37.5,
          37.646,
          37.792,
          37.938,
          38.084,
          38.23,
          38.376,
          38.522,
          38.668,
          38.814,
          38.96,
          39.106,
          39.252,
          39.398,
          39.544,
          39.69,
          39.836,
          39.982,
          40.128,
          40.274,
          40.42,
          40.566,
          40.712,
          40.858,
          41.004,
          41.15,
          41.296,
          41.442,
          41.588,
          41.734,
          41.88,
          42.026,
          42.172,
          42.318,
          42.464,
          42.61,
          42.756,
          42.902,
          43.048,
          43.194,
          43.34,
          43.486,
          43.632,
          43.778,
          43.924,
          44.07,
          44.216,
          44.362,
          44.508,
          44.654,
          44.8,
          44.946,
          45.092,
          45.238,
          45.384,
          45.53,
          45.676,
          45.822,
          45.968,
          46.114,
          46.26,
          46.406,
          46.552,
          46.698,
          46.844,
          46.99,
          47.136,
          47.282,
          47.428,
          47.574,
          47.72,
          47.866,
          48.012,
          48.158,
          48.304,
          48.45,
          48.596,
          48.742,
          48.888,
          49.034,
          49.18,
          49.326,
          49.472,
          49.618,
          49.764,
          49.91,
          50.056,
          50.202,
          50.348,
          50.494,
          50.64,
          50.786,
          50.932,
          51.078,
          51.224,
          51.37,
          51.516,
          51.662,
          51.808,
          51.954,
          52.1,
          52.246,
          52.392,
          52.538,
          52.684,
          52.83,
          52.976,
          53.122,
          53.268,
          53.414,
          53.56,
          53.706,
          53.852,
          53.998,
          54.144,
          54.29,
          54.436,
          54.582,
          54.728,
          54.874,
          55.02,
          55.166,
          55.312,
          55.458,
          55.604,
          55.75,
          55.896,
          56.042,
          56.188,
          56.334,
          56.48,
          56.626,
          56.772,
          56.918,
          57.064,
          57.21,
          57.356,
          57.502,
          57.648,
          57.794,
          57.94,
          58.086,
          58.232,
          58.378,
          58.524,
          58.67,
          58.816,
          58.962,
          59.108,
          59.254,
          59.4,
          59.546,
          59.692,
          59.838,
          59.984,
          60.13,
          60.276,
          60.422,
          60.568,
          60.714,
          60.86,
          61.006,
          61.152,
          61.298,
          61.444,
          61.59,
          61.736,
          61.882,
          62.028,
          62.174,
          62.32,
          62.466,
          62.612,
          62.758,
          62.904,
          63.05,
          63.196,
          63.342,
          63.488,
          63.634,
          63.78,
          63.926,
          64.072,
          64.218,
          64.364,
          64.50999999999999,
          64.656,
          64.80199999999999,
          64.94800000000001,
          65.094,
          65.24,
          65.386,
          65.532,
          65.678,
          65.824,
          65.97,
          66.116,
          66.262,
          66.408,
          66.554,
          66.7,
          66.846,
          66.992,
          67.138,
          67.284,
          67.43,
          67.576,
          67.722,
          67.868,
          68.014,
          68.16,
          68.306,
          68.452,
          68.598,
          68.744,
          68.89,
          69.036,
          69.182,
          69.328,
          69.474,
          69.62,
          69.766,
          69.912,
          70.058,
          70.204,
          70.35,
          70.496,
          70.642,
          70.788,
          70.934,
          71.08,
          71.226,
          71.372,
          71.518,
          71.664,
          71.81,
          71.956,
          72.102,
          72.248,
          72.394,
          72.54,
          72.686,
          72.832,
          72.978,
          73.124,
          73.27,
          73.416,
          73.562,
          73.708,
          73.854
         ],
         "xaxis": "x",
         "y": [
          0.0033899880382460452,
          0.0034599508426999244,
          0.0035289105910497683,
          0.0035968100794365387,
          0.003663598078574043,
          0.0037292295834220664,
          0.0037936660312911544,
          0.003856875488139562,
          0.003918832803192679,
          0.003979519732381333,
          0.004038925031452729,
          0.004097044519949064,
          0.004153881117572317,
          0.004209444854750237,
          0.00426375285948791,
          0.004316829322822739,
          0.0043687054453979066,
          0.004419419367824431,
          0.004469016087613523,
          0.004517547365524938,
          0.004565071624194375,
          0.00461165384186936,
          0.004657365444001269,
          0.004702284195309632,
          0.00474649409475505,
          0.004790085275632401,
          0.0048331539127261305,
          0.004875802138161195,
          0.004918137967237375,
          0.004960275235158193,
          0.0050023335451620365,
          0.005044438228139001,
          0.005086720313378021,
          0.005129316509641439,
          0.005172369195314642,
          0.0052160264159348095,
          0.005260441886970174,
          0.0053057749993076705,
          0.005352190824519169,
          0.00539986011662023,
          0.005448959306717398,
          0.005499670486666542,
          0.005552181377639638,
          0.0056066852793269124,
          0.005663380995388764,
          0.0057224727307201,
          0.005784169956102844,
          0.005848687235900533,
          0.005916244014594022,
          0.005987064358169144,
          0.00606137664664481,
          0.006139413214372288,
          0.006221409935139561,
          0.006307605749576908,
          0.006398242132875738,
          0.006493562501397468,
          0.006593811557357922,
          0.006699234571418329,
          0.00681007660368933,
          0.006926581664353646,
          0.00704899181582605,
          0.007177546219091169,
          0.007312480127578316,
          0.007454023832643787,
          0.00760240156542269,
          0.0077578303604795415,
          0.007920518887319037,
          0.008090666256408481,
          0.008268460806906214,
          0.008454078883774795,
          0.008647683612381753,
          0.008849423679046753,
          0.009059432126275963,
          0.009277825171631887,
          0.009504701059311504,
          0.009740138953549585,
          0.009984197882923087,
          0.01023691574450547,
          0.010498308376610463,
          0.01076836870856862,
          0.011047065995605426,
          0.011334345146433616,
          0.011630126150642156,
          0.011934303612364786,
          0.012246746396042651,
          0.012567297389371151,
          0.012895773387741822,
          0.013231965103663536,
          0.013575637303784797,
          0.013926529075243242,
          0.014284354222150396,
          0.014648801792088507,
          0.015019536731556763,
          0.015396200668369588,
          0.015778412818083128,
          0.01616577101062074,
          0.016557852832388312,
          0.016954216878325115,
          0.017354404107534457,
          0.017757939295380967,
          0.018164332574245316,
          0.018573081054486018,
          0.018983670516586306,
          0.01939557716496045,
          0.01980826943346725,
          0.02022120983232343,
          0.02063385682584226,
          0.021045666730226724,
          0.02145609562054108,
          0.021864601235955364,
          0.02227064487241031,
          0.02267369325198676,
          0.023073220358471574,
          0.023468709228901204,
          0.02385965369122269,
          0.024245560038636614,
          0.024625948631680616,
          0.02500035541965741,
          0.025368333373620145,
          0.025729453823774666,
          0.02608330769485626,
          0.02642950663376923,
          0.026767684024536286,
          0.027097495886395286,
          0.027418621651677647,
          0.027730764820924826,
          0.028033653493511862,
          0.028327040772872573,
          0.028610705046226384,
          0.02888445013951266,
          0.029148105349013326,
          0.029401525351906124,
          0.029644589998718544,
          0.02987720399134733,
          0.03009929645097001,
          0.030310820380788618,
          0.03051175202912361,
          0.03070209015889652,
          0.03088185523002021,
          0.031051088501632736,
          0.031209851061485976,
          0.031358222790106416,
          0.031496301267606934,
          0.031624200631224675,
          0.03174205039180125,
          0.03184999421750847,
          0.03194818869314584,
          0.032036802063310964,
          0.03211601296765878,
          0.03218600917632758,
          0.03224698633342328,
          0.03229914671621436,
          0.03234269801740305,
          0.03237785215751188,
          0.03240482413404847,
          0.03242383091370488,
          0.032435090373398076,
          0.03243882029548189,
          0.032435237421953186,
          0.032424556571940995,
          0.032406989826216225,
          0.03238274578188933,
          0.03235202887987662,
          0.03231503880712862,
          0.03227196997501228,
          0.03222301107464438,
          0.03216834470937879,
          0.03210814710406395,
          0.032042587890116596,
          0.031971829964897884,
          0.031896029423342936,
          0.03181533555928495,
          0.031729890933428005,
          0.03163983150447417,
          0.031545286819492036,
          0.031446380259235025,
          0.03134322933378209,
          0.031235946023577568,
          0.031124637160700207,
          0.031009404844988743,
          0.030890346889501163,
          0.030767557289679167,
          0.030641126710542397,
          0.030511142986226605,
          0.030377691626238094,
          0.030240856322881742,
          0.03010071945447564,
          0.029957362579145285,
          0.029810866914231706,
          0.029661313796616882,
          0.029508785119585795,
          0.029353363742188363,
          0.029195133867444434,
          0.029034181386136386,
          0.02887059418336223,
          0.028704462405464187,
          0.028535878685405795,
          0.028364938325134998,
          0.02819173943393931,
          0.028016383022266698,
          0.027838973050945647,
          0.02765961643619066,
          0.027478423011209,
          0.027295505445648537,
          0.02711097912450819,
          0.02692496198850734,
          0.026737574338238698,
          0.026548938604733032,
          0.0263591790893316,
          0.02616842167598761,
          0.025976793519310162,
          0.025784422711811635,
          0.025591437933930247,
          0.02539796809046353,
          0.025204141937081936,
          0.025010087700573547,
          0.024815932696426107,
          0.024621802947262805,
          0.024427822805529083,
          0.02423411458367386,
          0.02404079819488703,
          0.023847990807247654,
          0.02365580651390357,
          0.023464356021654496,
          0.023273746360043153,
          0.023084080612776774,
          0.02289545767301753,
          0.022707972023780103,
          0.022521713544384044,
          0.02233676734361091,
          0.02215321361992769,
          0.02197112754885597,
          0.02179057919729541,
          0.021611633464353686,
          0.021434350047992164,
          0.02125878343657431,
          0.021084982924201155,
          0.020912992648534204,
          0.020742851649650066,
          0.020574593948332984,
          0.02040824864210313,
          0.02024384001718958,
          0.02008138767459854,
          0.019920906668387153,
          0.01976240765424335,
          0.019605897046479283,
          0.019451377181581842,
          0.01929884648651398,
          0.01914829965003583,
          0.018999727795404764,
          0.018853118652921195,
          0.01870845673090848,
          0.018565723483850143,
          0.018424897476550944,
          0.018285954543342364,
          0.018148867941512277,
          0.018013608498299086,
          0.017880144750958952,
          0.017748443079575814,
          0.01761846783244733,
          0.017490181444037828,
          0.017363544545639247,
          0.01723851606902475,
          0.017115053343513226,
          0.016993112186984488,
          0.016872646991493465,
          0.01675361080422864,
          0.01663595540463781,
          0.016519631378611357,
          0.016404588190658886,
          0.01629077425504787,
          0.016178137006886036,
          0.016066622974126584,
          0.015956177851455828,
          0.015846746576984972,
          0.015738273412618107,
          0.015630702028897995,
          0.015523975595053578,
          0.015418036874876495,
          0.015312828328949545,
          0.015208292223635221,
          0.015104370747108273,
          0.015001006132586633,
          0.01489814078878042,
          0.014795717437441222,
          0.014693679257755774,
          0.014591970037191607,
          0.014490534328267565,
          0.01438931761059386,
          0.01428826645740378,
          0.014187328705686512,
          0.014086453628925714,
          0.013985592111358651,
          0.013884696822590697,
          0.013783722391335403,
          0.013682625577001803,
          0.013581365437815672,
          0.013479903494144175,
          0.013378203885692615,
          0.01327623352125649,
          0.013173962219744715,
          0.013071362841236821,
          0.012968411406899832,
          0.012865087206668086,
          0.012761372893679164,
          0.012657254564561978,
          0.01255272182478675,
          0.012447767838407255,
          0.01234238936165816,
          0.012236586760003445,
          0.012130364008372658,
          0.012023728674463725,
          0.011916691885131855,
          0.011809268276026137,
          0.011701475924771616,
          0.011593336268128172,
          0.011484874003682186,
          0.011376116976747655,
          0.011267096053259488,
          0.011157844979543476,
          0.011048400229932979,
          0.010938800843279304,
          0.010829088249465213,
          0.010719306087081722,
          0.010609500013464626,
          0.010499717508312174,
          0.010390007672115259,
          0.010280421020631009,
          0.010171009276616017,
          0.010061825160011693,
          0.009952922177738141,
          0.009844354414207763,
          0.00973617632361741,
          0.00962844252501564,
          0.009521207601075408,
          0.0094145259014297,
          0.009308451351352042,
          0.009203037266484238,
          0.009098336174234525,
          0.00899439964238789,
          0.008891278115390977,
          0.00878902075869591,
          0.008687675311471927,
          0.008587287947921948,
          0.008487903147373348,
          0.008389563573249673,
          0.008292309960972381,
          0.008196181014789389,
          0.008101213313481974,
          0.008007441224860922,
          0.00791489682892951,
          0.007823609849562613,
          0.0077336075945297405,
          0.007644914903672647,
          0.007557554105037631,
          0.007471544978756065,
          0.007386904728464184,
          0.007303647960055911,
          0.007221786667566867,
          0.0071413302259964095,
          0.007062285390883937,
          0.0069846563044681865,
          0.0069084445082708175,
          0.00683364896195886,
          0.00676026606835438,
          0.006688289704472404,
          0.006617711258480024,
          0.006548519672480988,
          0.006480701491038324,
          0.006414240915355041,
          0.006349119863038154,
          0.006285318033372887,
          0.006222812978034592,
          0.006161580177163098,
          0.006101593120718031,
          0.0060428233950267154,
          0.005985240774424316,
          0.0059288133178735086,
          0.0058735074704347546,
          0.005819288169440231,
          0.005766118955204682,
          0.005713962086084239,
          0.005662778657670921,
          0.005612528725885095,
          0.00556317143370272,
          0.005514665141226609,
          0.005466967558783578,
          0.005420035882701626,
          0.005373826933392898,
          0.005328297295340909,
          0.005283403458562869,
          0.005239101961091711,
          0.005195349531996735,
          0.005152103234437755,
          0.0051093206082246856,
          0.0050669598113336715,
          0.0050249797598120455,
          0.0049833402654870275,
          0.004942002170879349,
          0.004900927480710967,
          0.0048600794893871105,
          0.004819422903827214,
          0.004778923961016726,
          0.004738550539652691,
          0.004698272265260659,
          0.004658060608168802,
          0.004617888973737794,
          0.0045777327842615595,
          0.004537569551975061,
          0.004497378942631012,
          0.004457142829137565,
          0.004416845334783807,
          0.004376472865620181,
          0.004336014131605044,
          0.004295460156178733,
          0.004254804273980478,
          0.004214042116483083,
          0.004173171585384023,
          0.00413219281366012,
          0.004091108114265384,
          0.004049921916528525,
          0.004008640690386485,
          0.003967272858673757,
          0.003925828697773157,
          0.0038843202270215983,
          0.003842761087353601,
          0.0038011664097555467,
          0.0037595526741930232,
          0.0037179375597627233,
          0.0036763397869072666,
          0.003634778952615266,
          0.0035932753596092173,
          0.0035518498405994305,
          0.003510523578751619,
          0.0034693179255785396,
          0.0034282542175211035,
          0.003387353592530297,
          0.003346636807997699,
          0.003306124061408043,
          0.0032658348151018302,
          0.003225787626538057,
          0.0031859999854372176,
          0.003146488159161083,
          0.003107267047649312,
          0.0030683500491827205,
          0.0030297489381792527,
          0.002991473756151908,
          0.002953532716867601,
          0.002915932126643856,
          0.00287867632060563,
          0.0028417676155998444,
          0.002805206280330045,
          0.002768990523130039,
          0.002733116497644575,
          0.002697578326528235,
          0.0026623681431128376,
          0.0026274761508300703,
          0.0025928907000117114,
          0.002558598381526654,
          0.002524584136553294,
          0.0024908313816304636,
          0.0024573221479807436,
          0.002424037233959382,
          0.00239095636935131,
          0.002358058390119753,
          0.0023253214221039373,
          0.002292723072072222,
          0.002260240624461115,
          0.0022278512420715784,
          0.002195532168952508,
          0.0021632609336774988,
          0.0021310155512159388,
          0.002098774721612461,
          0.002066518023720592,
          0.0020342261022859355,
          0.002001880846741228,
          0.001969465560159538,
          0.0019369651169110075,
          0.0019043661076826952,
          0.0018716569706477932,
          0.001838828107709345,
          0.0018058719848918585,
          0.0017727832161111247,
          0.0017395586297153517,
          0.00170619731735835,
          0.0016727006649351042,
          0.0016390723654808135,
          0.0016053184141030573,
          0.0015714470851827583,
          0.0015374688922400125,
          0.0015033965310146597,
          0.0014692448064569275,
          0.0014350305444588212,
          0.0014007724892814606,
          0.001366491187745452,
          0.0013322088613502627,
          0.0012979492675731993,
          0.0012637375516688074,
          0.0012296000903446018,
          0.0011955643287288628
         ],
         "yaxis": "y"
        },
        {
         "legendgroup": "Viveu",
         "marker": {
          "color": "#37AA9C"
         },
         "mode": "lines",
         "name": "Viveu",
         "showlegend": false,
         "type": "scatter",
         "x": [
          0.42,
          0.57916,
          0.73832,
          0.89748,
          1.05664,
          1.2158,
          1.37496,
          1.53412,
          1.69328,
          1.85244,
          2.0116,
          2.17076,
          2.32992,
          2.48908,
          2.64824,
          2.8074,
          2.96656,
          3.12572,
          3.2848800000000002,
          3.4440399999999998,
          3.6031999999999997,
          3.76236,
          3.92152,
          4.08068,
          4.23984,
          4.399,
          4.55816,
          4.71732,
          4.87648,
          5.03564,
          5.1948,
          5.35396,
          5.51312,
          5.67228,
          5.83144,
          5.9906,
          6.149760000000001,
          6.30892,
          6.46808,
          6.62724,
          6.7863999999999995,
          6.9455599999999995,
          7.10472,
          7.26388,
          7.42304,
          7.582199999999999,
          7.741359999999999,
          7.900519999999999,
          8.05968,
          8.21884,
          8.378,
          8.53716,
          8.69632,
          8.85548,
          9.01464,
          9.1738,
          9.33296,
          9.492119999999998,
          9.65128,
          9.81044,
          9.9696,
          10.12876,
          10.28792,
          10.44708,
          10.60624,
          10.7654,
          10.92456,
          11.08372,
          11.24288,
          11.40204,
          11.5612,
          11.720360000000001,
          11.879520000000001,
          12.03868,
          12.19784,
          12.357,
          12.51616,
          12.67532,
          12.83448,
          12.99364,
          13.1528,
          13.31196,
          13.471119999999999,
          13.630279999999999,
          13.78944,
          13.9486,
          14.10776,
          14.26692,
          14.42608,
          14.585239999999999,
          14.744399999999999,
          14.903559999999999,
          15.062719999999999,
          15.221879999999999,
          15.381039999999999,
          15.540199999999999,
          15.69936,
          15.85852,
          16.017680000000002,
          16.176840000000002,
          16.336000000000002,
          16.495160000000002,
          16.654320000000002,
          16.813480000000002,
          16.972640000000002,
          17.131800000000002,
          17.290960000000002,
          17.450120000000002,
          17.609280000000002,
          17.768440000000002,
          17.9276,
          18.08676,
          18.24592,
          18.405079999999998,
          18.564239999999998,
          18.723399999999998,
          18.88256,
          19.04172,
          19.20088,
          19.36004,
          19.5192,
          19.67836,
          19.83752,
          19.99668,
          20.15584,
          20.315,
          20.47416,
          20.63332,
          20.79248,
          20.95164,
          21.1108,
          21.26996,
          21.42912,
          21.58828,
          21.74744,
          21.9066,
          22.06576,
          22.22492,
          22.38408,
          22.54324,
          22.7024,
          22.861560000000004,
          23.020720000000004,
          23.179880000000004,
          23.339040000000004,
          23.498200000000004,
          23.65736,
          23.81652,
          23.97568,
          24.13484,
          24.294,
          24.45316,
          24.61232,
          24.77148,
          24.93064,
          25.0898,
          25.24896,
          25.40812,
          25.56728,
          25.72644,
          25.8856,
          26.04476,
          26.20392,
          26.36308,
          26.52224,
          26.6814,
          26.84056,
          26.999720000000003,
          27.158880000000003,
          27.318040000000003,
          27.477200000000003,
          27.636360000000003,
          27.795520000000003,
          27.954680000000003,
          28.113840000000003,
          28.273000000000003,
          28.432160000000003,
          28.591320000000003,
          28.75048,
          28.90964,
          29.0688,
          29.22796,
          29.38712,
          29.54628,
          29.70544,
          29.8646,
          30.02376,
          30.18292,
          30.34208,
          30.50124,
          30.6604,
          30.81956,
          30.978720000000003,
          31.137880000000003,
          31.297040000000003,
          31.456200000000003,
          31.615360000000003,
          31.774520000000003,
          31.933680000000003,
          32.09284,
          32.252,
          32.41116,
          32.57032,
          32.72948,
          32.88864,
          33.0478,
          33.20696,
          33.36612,
          33.52528,
          33.68444,
          33.8436,
          34.00276,
          34.16192,
          34.32108,
          34.48024,
          34.6394,
          34.79856,
          34.95772,
          35.11688,
          35.27604,
          35.4352,
          35.59436,
          35.75352,
          35.91268,
          36.07184,
          36.231,
          36.390159999999995,
          36.54932,
          36.708479999999994,
          36.86764,
          37.026799999999994,
          37.18596,
          37.34512,
          37.50428,
          37.66344,
          37.8226,
          37.98176,
          38.14092,
          38.30008,
          38.45924,
          38.6184,
          38.77756,
          38.93672,
          39.09588,
          39.25504,
          39.4142,
          39.57336,
          39.73252,
          39.89168,
          40.05084,
          40.21,
          40.36916,
          40.52832,
          40.68748,
          40.84664,
          41.0058,
          41.16496,
          41.32412000000001,
          41.48328,
          41.64244,
          41.8016,
          41.96076,
          42.11992,
          42.27908,
          42.43824,
          42.5974,
          42.75656,
          42.91572,
          43.07488,
          43.23404,
          43.3932,
          43.55236,
          43.71152,
          43.87068,
          44.02984,
          44.189,
          44.34816,
          44.50732,
          44.66648,
          44.82564,
          44.9848,
          45.14396,
          45.30312000000001,
          45.46228,
          45.62144000000001,
          45.7806,
          45.93976000000001,
          46.09892,
          46.25808000000001,
          46.41724,
          46.57640000000001,
          46.73556,
          46.89472,
          47.05388,
          47.21304,
          47.3722,
          47.53136,
          47.69052,
          47.84968,
          48.00884,
          48.168,
          48.32716,
          48.48632,
          48.64548,
          48.80464,
          48.9638,
          49.12296,
          49.28212,
          49.44128,
          49.600440000000006,
          49.7596,
          49.918760000000006,
          50.07792,
          50.237080000000006,
          50.39624,
          50.555400000000006,
          50.71456,
          50.873720000000006,
          51.03288,
          51.192040000000006,
          51.3512,
          51.510360000000006,
          51.66952,
          51.82868,
          51.98784,
          52.147,
          52.30616,
          52.46532,
          52.62448,
          52.78364,
          52.9428,
          53.10196,
          53.26112,
          53.42028,
          53.579440000000005,
          53.7386,
          53.897760000000005,
          54.05692,
          54.216080000000005,
          54.37524,
          54.534400000000005,
          54.69356,
          54.852720000000005,
          55.01188,
          55.171040000000005,
          55.3302,
          55.489360000000005,
          55.64852,
          55.807680000000005,
          55.96684,
          56.126000000000005,
          56.28516,
          56.444320000000005,
          56.60348,
          56.762640000000005,
          56.9218,
          57.08096,
          57.24012,
          57.39928,
          57.558440000000004,
          57.7176,
          57.876760000000004,
          58.03592,
          58.195080000000004,
          58.35424,
          58.513400000000004,
          58.67256,
          58.831720000000004,
          58.99088,
          59.150040000000004,
          59.3092,
          59.468360000000004,
          59.62752,
          59.786680000000004,
          59.94584,
          60.105000000000004,
          60.26416,
          60.423320000000004,
          60.58248,
          60.741640000000004,
          60.9008,
          61.059960000000004,
          61.21912,
          61.378280000000004,
          61.537440000000004,
          61.696600000000004,
          61.855760000000004,
          62.01492,
          62.174080000000004,
          62.333239999999996,
          62.4924,
          62.651559999999996,
          62.81072,
          62.969879999999996,
          63.12904,
          63.288199999999996,
          63.44736,
          63.606519999999996,
          63.76568,
          63.924839999999996,
          64.084,
          64.24315999999999,
          64.40232,
          64.56148,
          64.72064,
          64.8798,
          65.03896,
          65.19812,
          65.35728,
          65.51644,
          65.6756,
          65.83476,
          65.99392,
          66.15308,
          66.31224,
          66.4714,
          66.63056,
          66.78972,
          66.94888,
          67.10803999999999,
          67.2672,
          67.42636,
          67.58552,
          67.74467999999999,
          67.90384,
          68.063,
          68.22216,
          68.38131999999999,
          68.54048,
          68.69964,
          68.8588,
          69.01795999999999,
          69.17712,
          69.33628,
          69.49544,
          69.65459999999999,
          69.81376,
          69.97292,
          70.13208,
          70.29124,
          70.4504,
          70.60956,
          70.76872,
          70.92788,
          71.08704,
          71.2462,
          71.40536,
          71.56452,
          71.72368,
          71.88284,
          72.042,
          72.20116,
          72.36031999999999,
          72.51948,
          72.67864,
          72.8378,
          72.99695999999999,
          73.15612,
          73.31528,
          73.47444,
          73.63359999999999,
          73.79276,
          73.95192,
          74.11108,
          74.27024,
          74.4294,
          74.58856,
          74.74772,
          74.90688,
          75.06604,
          75.2252,
          75.38436,
          75.54352,
          75.70268,
          75.86184,
          76.021,
          76.18016,
          76.33932,
          76.49848,
          76.65764,
          76.8168,
          76.97596,
          77.13512,
          77.29428,
          77.45344,
          77.61259999999999,
          77.77176,
          77.93092,
          78.09008,
          78.24924,
          78.4084,
          78.56756,
          78.72672,
          78.88588,
          79.04504,
          79.2042,
          79.36336,
          79.52252,
          79.68168,
          79.84084
         ],
         "xaxis": "x",
         "y": [
          0.008504001179034087,
          0.008643991951137799,
          0.00877897770114799,
          0.008908723749436834,
          0.009033011771394773,
          0.009151640954827725,
          0.009264429091418301,
          0.009371213595668214,
          0.009471852445136123,
          0.009566225036225713,
          0.009654232950259505,
          0.009735800625091131,
          0.00981087592805687,
          0.009879430626644184,
          0.009941460753853907,
          0.00999698686584994,
          0.010046054190121018,
          0.0100887326630179,
          0.010125116856171722,
          0.010155325791939864,
          0.010179502648660847,
          0.010197814357123377,
          0.010210451090263556,
          0.010217625648694044,
          0.01021957274523472,
          0.01021654819215426,
          0.010208827995341094,
          0.010196707360098372,
          0.010180499613698367,
          0.0101605350502341,
          0.010137159703669149,
          0.010110734055308579,
          0.010081631682193259,
          0.010050237853156922,
          0.010016948079478968,
          0.009982166627215952,
          0.009946304998402778,
          0.009909780388379856,
          0.009873014126526646,
          0.009836430107665954,
          0.00980045322134944,
          0.009765507786142765,
          0.009732015995903034,
          0.009700396384880102,
          0.009671062318284093,
          0.009644420514739835,
          0.009620869606803003,
          0.009600798745440996,
          0.009584586254087446,
          0.009572598337565782,
          0.009565187850843877,
          0.009562693132235341,
          0.009565436905299853,
          0.009573725253321546,
          0.009587846669861316,
          0.009608071188486143,
          0.009634649594381388,
          0.009667812720148381,
          0.00970777082768412,
          0.009754713077632192,
          0.009808807087486226,
          0.00987019857902074,
          0.009939011115320091,
          0.010015345927276133,
          0.010099281829030212,
          0.010190875221446084,
          0.010290160182319135,
          0.01039714864165533,
          0.010511830639990376,
          0.010634174667368719,
          0.0107641280802638,
          0.010901617593395852,
          0.011046549843094826,
          0.011198812018562446,
          0.011358272557112949,
          0.011524781899216428,
          0.011698173298932886,
          0.011878263685113423,
          0.012064854568552993,
          0.01225773299011642,
          0.012456672504717539,
          0.012661434195919745,
          0.012871767715841417,
          0.0130874123449933,
          0.013308098066648275,
          0.013533546650348047,
          0.013763472739185045,
          0.013997584935562545,
          0.014235586880231509,
          0.01447717831952954,
          0.014722056155901305,
          0.014969915476966992,
          0.015220450558616792,
          0.015473355837851015,
          0.015728326851349363,
          0.015985061136043043,
          0.01624325908827332,
          0.016502624778449305,
          0.01676286671846456,
          0.017023698579491868,
          0.017284839858146692,
          0.017546016489389096,
          0.017806961404918043,
          0.018067415036197167,
          0.01832712576163582,
          0.018585850297827625,
          0.018843354035120285,
          0.019099411318148657,
          0.019353805672310542,
          0.01960632997748916,
          0.019856786590636274,
          0.02010498741911445,
          0.020350753946954882,
          0.020593917216423382,
          0.020834317767488578,
          0.021071805537962826,
          0.021306239727228254,
          0.02153748862657364,
          0.02176542941924608,
          0.021989947953370455,
          0.022210938490906454,
          0.0224283034357978,
          0.02264195304442679,
          0.022851805121414225,
          0.02305778470370895,
          0.023259823735789276,
          0.02345786073865522,
          0.023651840475129787,
          0.02384171361380741,
          0.024027436393796852,
          0.02420897029220266,
          0.0243862816960807,
          0.02455934158038619,
          0.024728125193219697,
          0.024892611749460048,
          0.025052784133664022,
          0.025208628612909418,
          0.025360134560064,
          0.02550729418778183,
          0.025650102293360257,
          0.025788556014437573,
          0.025922654595378344,
          0.0260523991640737,
          0.02617779251878846,
          0.026298838924607538,
          0.02641554391897667,
          0.026527914125794163,
          0.026635957077492087,
          0.026739681044544807,
          0.026839094871862246,
          0.02693420782155918,
          0.027025029421642106,
          0.027111569320221643,
          0.02719383714492895,
          0.027271842367308046,
          0.02734559417204247,
          0.027415101330979533,
          0.02748037208201628,
          0.027541414013016782,
          0.027598233951034272,
          0.027650837857213513,
          0.0276992307278452,
          0.02774341650213317,
          0.02778339797731962,
          0.027819176731880568,
          0.027850753057568584,
          0.027878125901123204,
          0.02790129281650597,
          0.027920249928533956,
          0.027934991908790396,
          0.027945511964679617,
          0.027951801842466123,
          0.027953851845092876,
          0.027951650865519262,
          0.027945186436242726,
          0.02793444479558254,
          0.02791941097120393,
          0.027900068881247908,
          0.02787640145330899,
          0.027848390761369492,
          0.027816018180659017,
          0.02777926456025925,
          0.02773811041312203,
          0.0276925361230122,
          0.02764252216773113,
          0.027588049357817834,
          0.027529099089771327,
          0.027465653612685402,
          0.027397696307042658,
          0.027325211974274573,
          0.02724818713556531,
          0.02716661033825658,
          0.027080472468102513,
          0.026989767065527005,
          0.026894490643955125,
          0.026794643008220893,
          0.02669022757100318,
          0.02658125166520497,
          0.02646772685017169,
          0.026349669209643094,
          0.02622709963934648,
          0.026100044122170627,
          0.025968533988910674,
          0.025832606162635635,
          0.025692303384813358,
          0.025547674421423507,
          0.025398774247397442,
          0.025245664207850453,
          0.025088412154704563,
          0.024927092557448717,
          0.02476178658693896,
          0.02459258217130509,
          0.02441957402320156,
          0.024242863637817115,
          0.024062559261236172,
          0.023878775828926294,
          0.023691634874308642,
          0.02350126440754683,
          0.023307798764867244,
          0.02311137842889611,
          0.0229121498206646,
          0.022710265064092225,
          0.02250588172390876,
          0.02229916251811533,
          0.02209027500621402,
          0.021879391254554806,
          0.02166668748025129,
          0.02145234367521122,
          0.021236543211906257,
          0.0210194724325703,
          0.02080132022356832,
          0.020582277576715758,
          0.02036253713935572,
          0.02014229275501153,
          0.01992173899643532,
          0.01970107069286284,
          0.019480482453264055,
          0.019260168187348544,
          0.019040320626049045,
          0.018821130843158382,
          0.018602787779747373,
          0.01838547777293238,
          0.018169384090505513,
          0.01795468647287621,
          0.01774156068371221,
          0.017530178070605074,
          0.017320705137023905,
          0.01711330312676116,
          0.01690812762201783,
          0.01670532815622138,
          0.016505047842620496,
          0.016307423019654377,
          0.016112582914053902,
          0.01592064932259423,
          0.015731736313386487,
          0.015545949947566782,
          0.01536338802221604,
          0.015184139835321077,
          0.015008285973567292,
          0.014835898123734533,
          0.014667038908447231,
          0.014501761747012412,
          0.014340110742055415,
          0.014182120592639465,
          0.01402781653452672,
          0.013877214308202778,
          0.013730320155247049,
          0.013587130843582946,
          0.013447633722084799,
          0.013311806804953077,
          0.01317961888619335,
          0.013051029684448148,
          0.012925990018334228,
          0.012804442012329347,
          0.01268631933313344,
          0.01257154745630042,
          0.012460043962795533,
          0.012351718864985237,
          0.012246474961407188,
          0.012144208219503471,
          0.012044808185327488,
          0.011948158419058537,
          0.011854136954978984,
          0.011762616784386917,
          0.011673466359737523,
          0.011586550118128485,
          0.011501729022071186,
          0.011418861115324025,
          0.011337802091406439,
          0.011258405872266158,
          0.011180525194439453,
          0.011104012199926348,
          0.011028719028901792,
          0.010954498411301927,
          0.010881204254263002,
          0.010808692222350074,
          0.010736820307495717,
          0.01066544938557489,
          0.010594443756573348,
          0.010523671665362,
          0.010453005800169734,
          0.010382323765952453,
          0.010311508529984345,
          0.010240448837150284,
          0.010169039592592279,
          0.010097182209559305,
          0.010024784920524239,
          0.009951763049865375,
          0.00987803924665832,
          0.009803543676386648,
          0.009728214170653367,
          0.009651996334258077,
          0.009574843609293277,
          0.009496717296205978,
          0.009417586532064901,
          0.009337428226564502,
          0.009256226956586037,
          0.009173974820415378,
          0.009090671252990153,
          0.009006322803806968,
          0.008920942879366395,
          0.008834551452262054,
          0.00874717473923194,
          0.008658844850681897,
          0.008569599414361443,
          0.008479481176020527,
          0.008388537579999761,
          0.008296820332807719,
          0.008204384952813419,
          0.008111290309233408,
          0.008017598153617638,
          0.007923372647038752,
          0.007828679886165903,
          0.0077335874313557585,
          0.0076381638398232065,
          0.007542478206861466,
          0.007446599717968279,
          0.007350597214602221,
          0.007254538776143348,
          0.007158491320465758,
          0.007062520225349219,
          0.006966688972763788,
          0.006871058817856985,
          0.0067756884842609085,
          0.0066806338871157125,
          0.006585947884982156,
          0.006491680061586608,
          0.006397876538112909,
          0.006304579816525676,
          0.006211828654183126,
          0.006119657969772654,
          0.00602809878038533,
          0.005937178169332457,
          0.005846919284104581,
          0.005757341363677687,
          0.005668459794187865,
          0.005580286191821988,
          0.005492828511611626,
          0.005406091180669085,
          0.005320075254270573,
          0.005234778593071021,
          0.0051501960596295965,
          0.005066319732334536,
          0.004983139134739827,
          0.004900641478266483,
          0.004818811916175532,
          0.004737633806690376,
          0.004657088983130781,
          0.004577158028921061,
          0.004497820555348776,
          0.004419055479978993,
          0.0043408413036707845,
          0.004263156384197563,
          0.004185979204540192,
          0.0041092886340009195,
          0.004033064180375987,
          0.003957286231525695,
          0.0038819362847898383,
          0.0038069971628153657,
          0.0037324532144887715,
          0.0036582904997988067,
          0.0035844969575932195,
          0.0035110625553369,
          0.0034379794201253302,
          0.0033652419503571573,
          0.003292846907620568,
          0.003220793488500039,
          0.0031490833761610216,
          0.0030777207717197354,
          0.003006712405551896,
          0.002936067528837485,
          0.0028657978857771047,
          0.00279591766704792,
          0.002726443445193855,
          0.0026573940927628326,
          0.002588790684114797,
          0.00252065638192514,
          0.0024530163095003886,
          0.0023858974101038455,
          0.0023193282945600437,
          0.0022533390784656784,
          0.0021879612103830755,
          0.002123227292427853,
          0.002059170894686964,
          0.001995826364915234,
          0.0019332286349592563,
          0.0018714130253460472,
          0.0018104150494514337,
          0.0017502702186295111,
          0.0016910138496405791,
          0.0016326808756609895,
          0.0015753056620951861,
          0.0015189218283385027,
          0.0014635620765600056,
          0.0014092580284883539,
          0.001356040071091645,
          0.001303937211945119,
          0.001252976944979673,
          0.0012031851272002046,
          0.0011545858668571432,
          0.0011072014234477442,
          0.0010610521198176014,
          0.0010161562665272005,
          0.0009725300985456088,
          0.0009301877242331114,
          0.0008891410864787435,
          0.0008493999357671368,
          0.0008109718148635994,
          0.0007738620547265051,
          0.0007380737811835053,
          0.000703607931842319,
          0.0006704632826493504,
          0.0006386364834593912,
          0.0006081221019384065,
          0.0005789126750880991,
          0.0005509987676565996,
          0.0005243690366832134,
          0.0004990103014173414,
          0.00047490761785168106,
          0.00045204435711775857,
          0.00043040228700690807,
          0.00040996165590192406,
          0.00039070127843303555,
          0.0003725986222060925,
          0.000355629894990223,
          0.00033977013179619894,
          0.000324993281324439,
          0.00031127229131244137,
          0.00029857919236466824,
          0.00028688517990275487,
          0.0002761606939296823,
          0.0002663754963575369,
          0.0002574987457039171,
          0.00024949906901632757,
          0.0002423446309363821,
          0.000236003199865664,
          0.00023044221124222266,
          0.00022562882798031275,
          0.0002215299981657658,
          0.00021811251013486262,
          0.0002153430450955313,
          0.00021318822747577783,
          0.0002116146732053877,
          0.00021058903615292832,
          0.00021007805295095044,
          0.00021004858644801952,
          0.0002104676680269185,
          0.0002113025390241951,
          0.00021252069147740515,
          0.00021408990841317982,
          0.0002159783038719673,
          0.00021815436284430712,
          0.00022058698126922898,
          0.000223245506218233,
          0.00022609977635883337,
          0.00022912016276026067,
          0.00023227761007120175,
          0.0002355436780658795,
          0.00023889058352088836,
          0.00024229124235152996,
          0.0002457193119034249,
          0.0002491492332634279,
          0.0002525562734238107,
          0.0002559165671057243,
          0.0002592071580225554,
          0.00026240603934127733,
          0.00026549219308062623,
          0.0002684456281691745,
          0.00027124741687436317,
          0.00027387972930545434,
          0.00027632586568933826,
          0.0002785702861182074,
          0.0002805986374723349,
          0.0002823977772295231,
          0.0002839557938851186,
          0.0002852620237227116,
          0.00028630706369549064,
          0.0002870827802015793,
          0.00028758231356312825,
          0.00028780007804827146
         ],
         "yaxis": "y"
        }
       ],
       "layout": {
        "barmode": "overlay",
        "hovermode": "closest",
        "legend": {
         "traceorder": "reversed"
        },
        "template": {
         "data": {
          "bar": [
           {
            "error_x": {
             "color": "#2a3f5f"
            },
            "error_y": {
             "color": "#2a3f5f"
            },
            "marker": {
             "line": {
              "color": "#E5ECF6",
              "width": 0.5
             },
             "pattern": {
              "fillmode": "overlay",
              "size": 10,
              "solidity": 0.2
             }
            },
            "type": "bar"
           }
          ],
          "barpolar": [
           {
            "marker": {
             "line": {
              "color": "#E5ECF6",
              "width": 0.5
             },
             "pattern": {
              "fillmode": "overlay",
              "size": 10,
              "solidity": 0.2
             }
            },
            "type": "barpolar"
           }
          ],
          "carpet": [
           {
            "aaxis": {
             "endlinecolor": "#2a3f5f",
             "gridcolor": "white",
             "linecolor": "white",
             "minorgridcolor": "white",
             "startlinecolor": "#2a3f5f"
            },
            "baxis": {
             "endlinecolor": "#2a3f5f",
             "gridcolor": "white",
             "linecolor": "white",
             "minorgridcolor": "white",
             "startlinecolor": "#2a3f5f"
            },
            "type": "carpet"
           }
          ],
          "choropleth": [
           {
            "colorbar": {
             "outlinewidth": 0,
             "ticks": ""
            },
            "type": "choropleth"
           }
          ],
          "contour": [
           {
            "colorbar": {
             "outlinewidth": 0,
             "ticks": ""
            },
            "colorscale": [
             [
              0,
              "#0d0887"
             ],
             [
              0.1111111111111111,
              "#46039f"
             ],
             [
              0.2222222222222222,
              "#7201a8"
             ],
             [
              0.3333333333333333,
              "#9c179e"
             ],
             [
              0.4444444444444444,
              "#bd3786"
             ],
             [
              0.5555555555555556,
              "#d8576b"
             ],
             [
              0.6666666666666666,
              "#ed7953"
             ],
             [
              0.7777777777777778,
              "#fb9f3a"
             ],
             [
              0.8888888888888888,
              "#fdca26"
             ],
             [
              1,
              "#f0f921"
             ]
            ],
            "type": "contour"
           }
          ],
          "contourcarpet": [
           {
            "colorbar": {
             "outlinewidth": 0,
             "ticks": ""
            },
            "type": "contourcarpet"
           }
          ],
          "heatmap": [
           {
            "colorbar": {
             "outlinewidth": 0,
             "ticks": ""
            },
            "colorscale": [
             [
              0,
              "#0d0887"
             ],
             [
              0.1111111111111111,
              "#46039f"
             ],
             [
              0.2222222222222222,
              "#7201a8"
             ],
             [
              0.3333333333333333,
              "#9c179e"
             ],
             [
              0.4444444444444444,
              "#bd3786"
             ],
             [
              0.5555555555555556,
              "#d8576b"
             ],
             [
              0.6666666666666666,
              "#ed7953"
             ],
             [
              0.7777777777777778,
              "#fb9f3a"
             ],
             [
              0.8888888888888888,
              "#fdca26"
             ],
             [
              1,
              "#f0f921"
             ]
            ],
            "type": "heatmap"
           }
          ],
          "heatmapgl": [
           {
            "colorbar": {
             "outlinewidth": 0,
             "ticks": ""
            },
            "colorscale": [
             [
              0,
              "#0d0887"
             ],
             [
              0.1111111111111111,
              "#46039f"
             ],
             [
              0.2222222222222222,
              "#7201a8"
             ],
             [
              0.3333333333333333,
              "#9c179e"
             ],
             [
              0.4444444444444444,
              "#bd3786"
             ],
             [
              0.5555555555555556,
              "#d8576b"
             ],
             [
              0.6666666666666666,
              "#ed7953"
             ],
             [
              0.7777777777777778,
              "#fb9f3a"
             ],
             [
              0.8888888888888888,
              "#fdca26"
             ],
             [
              1,
              "#f0f921"
             ]
            ],
            "type": "heatmapgl"
           }
          ],
          "histogram": [
           {
            "marker": {
             "pattern": {
              "fillmode": "overlay",
              "size": 10,
              "solidity": 0.2
             }
            },
            "type": "histogram"
           }
          ],
          "histogram2d": [
           {
            "colorbar": {
             "outlinewidth": 0,
             "ticks": ""
            },
            "colorscale": [
             [
              0,
              "#0d0887"
             ],
             [
              0.1111111111111111,
              "#46039f"
             ],
             [
              0.2222222222222222,
              "#7201a8"
             ],
             [
              0.3333333333333333,
              "#9c179e"
             ],
             [
              0.4444444444444444,
              "#bd3786"
             ],
             [
              0.5555555555555556,
              "#d8576b"
             ],
             [
              0.6666666666666666,
              "#ed7953"
             ],
             [
              0.7777777777777778,
              "#fb9f3a"
             ],
             [
              0.8888888888888888,
              "#fdca26"
             ],
             [
              1,
              "#f0f921"
             ]
            ],
            "type": "histogram2d"
           }
          ],
          "histogram2dcontour": [
           {
            "colorbar": {
             "outlinewidth": 0,
             "ticks": ""
            },
            "colorscale": [
             [
              0,
              "#0d0887"
             ],
             [
              0.1111111111111111,
              "#46039f"
             ],
             [
              0.2222222222222222,
              "#7201a8"
             ],
             [
              0.3333333333333333,
              "#9c179e"
             ],
             [
              0.4444444444444444,
              "#bd3786"
             ],
             [
              0.5555555555555556,
              "#d8576b"
             ],
             [
              0.6666666666666666,
              "#ed7953"
             ],
             [
              0.7777777777777778,
              "#fb9f3a"
             ],
             [
              0.8888888888888888,
              "#fdca26"
             ],
             [
              1,
              "#f0f921"
             ]
            ],
            "type": "histogram2dcontour"
           }
          ],
          "mesh3d": [
           {
            "colorbar": {
             "outlinewidth": 0,
             "ticks": ""
            },
            "type": "mesh3d"
           }
          ],
          "parcoords": [
           {
            "line": {
             "colorbar": {
              "outlinewidth": 0,
              "ticks": ""
             }
            },
            "type": "parcoords"
           }
          ],
          "pie": [
           {
            "automargin": true,
            "type": "pie"
           }
          ],
          "scatter": [
           {
            "marker": {
             "colorbar": {
              "outlinewidth": 0,
              "ticks": ""
             }
            },
            "type": "scatter"
           }
          ],
          "scatter3d": [
           {
            "line": {
             "colorbar": {
              "outlinewidth": 0,
              "ticks": ""
             }
            },
            "marker": {
             "colorbar": {
              "outlinewidth": 0,
              "ticks": ""
             }
            },
            "type": "scatter3d"
           }
          ],
          "scattercarpet": [
           {
            "marker": {
             "colorbar": {
              "outlinewidth": 0,
              "ticks": ""
             }
            },
            "type": "scattercarpet"
           }
          ],
          "scattergeo": [
           {
            "marker": {
             "colorbar": {
              "outlinewidth": 0,
              "ticks": ""
             }
            },
            "type": "scattergeo"
           }
          ],
          "scattergl": [
           {
            "marker": {
             "colorbar": {
              "outlinewidth": 0,
              "ticks": ""
             }
            },
            "type": "scattergl"
           }
          ],
          "scattermapbox": [
           {
            "marker": {
             "colorbar": {
              "outlinewidth": 0,
              "ticks": ""
             }
            },
            "type": "scattermapbox"
           }
          ],
          "scatterpolar": [
           {
            "marker": {
             "colorbar": {
              "outlinewidth": 0,
              "ticks": ""
             }
            },
            "type": "scatterpolar"
           }
          ],
          "scatterpolargl": [
           {
            "marker": {
             "colorbar": {
              "outlinewidth": 0,
              "ticks": ""
             }
            },
            "type": "scatterpolargl"
           }
          ],
          "scatterternary": [
           {
            "marker": {
             "colorbar": {
              "outlinewidth": 0,
              "ticks": ""
             }
            },
            "type": "scatterternary"
           }
          ],
          "surface": [
           {
            "colorbar": {
             "outlinewidth": 0,
             "ticks": ""
            },
            "colorscale": [
             [
              0,
              "#0d0887"
             ],
             [
              0.1111111111111111,
              "#46039f"
             ],
             [
              0.2222222222222222,
              "#7201a8"
             ],
             [
              0.3333333333333333,
              "#9c179e"
             ],
             [
              0.4444444444444444,
              "#bd3786"
             ],
             [
              0.5555555555555556,
              "#d8576b"
             ],
             [
              0.6666666666666666,
              "#ed7953"
             ],
             [
              0.7777777777777778,
              "#fb9f3a"
             ],
             [
              0.8888888888888888,
              "#fdca26"
             ],
             [
              1,
              "#f0f921"
             ]
            ],
            "type": "surface"
           }
          ],
          "table": [
           {
            "cells": {
             "fill": {
              "color": "#EBF0F8"
             },
             "line": {
              "color": "white"
             }
            },
            "header": {
             "fill": {
              "color": "#C8D4E3"
             },
             "line": {
              "color": "white"
             }
            },
            "type": "table"
           }
          ]
         },
         "layout": {
          "annotationdefaults": {
           "arrowcolor": "#2a3f5f",
           "arrowhead": 0,
           "arrowwidth": 1
          },
          "autotypenumbers": "strict",
          "coloraxis": {
           "colorbar": {
            "outlinewidth": 0,
            "ticks": ""
           }
          },
          "colorscale": {
           "diverging": [
            [
             0,
             "#8e0152"
            ],
            [
             0.1,
             "#c51b7d"
            ],
            [
             0.2,
             "#de77ae"
            ],
            [
             0.3,
             "#f1b6da"
            ],
            [
             0.4,
             "#fde0ef"
            ],
            [
             0.5,
             "#f7f7f7"
            ],
            [
             0.6,
             "#e6f5d0"
            ],
            [
             0.7,
             "#b8e186"
            ],
            [
             0.8,
             "#7fbc41"
            ],
            [
             0.9,
             "#4d9221"
            ],
            [
             1,
             "#276419"
            ]
           ],
           "sequential": [
            [
             0,
             "#0d0887"
            ],
            [
             0.1111111111111111,
             "#46039f"
            ],
            [
             0.2222222222222222,
             "#7201a8"
            ],
            [
             0.3333333333333333,
             "#9c179e"
            ],
            [
             0.4444444444444444,
             "#bd3786"
            ],
            [
             0.5555555555555556,
             "#d8576b"
            ],
            [
             0.6666666666666666,
             "#ed7953"
            ],
            [
             0.7777777777777778,
             "#fb9f3a"
            ],
            [
             0.8888888888888888,
             "#fdca26"
            ],
            [
             1,
             "#f0f921"
            ]
           ],
           "sequentialminus": [
            [
             0,
             "#0d0887"
            ],
            [
             0.1111111111111111,
             "#46039f"
            ],
            [
             0.2222222222222222,
             "#7201a8"
            ],
            [
             0.3333333333333333,
             "#9c179e"
            ],
            [
             0.4444444444444444,
             "#bd3786"
            ],
            [
             0.5555555555555556,
             "#d8576b"
            ],
            [
             0.6666666666666666,
             "#ed7953"
            ],
            [
             0.7777777777777778,
             "#fb9f3a"
            ],
            [
             0.8888888888888888,
             "#fdca26"
            ],
            [
             1,
             "#f0f921"
            ]
           ]
          },
          "colorway": [
           "#636efa",
           "#EF553B",
           "#00cc96",
           "#ab63fa",
           "#FFA15A",
           "#19d3f3",
           "#FF6692",
           "#B6E880",
           "#FF97FF",
           "#FECB52"
          ],
          "font": {
           "color": "#2a3f5f"
          },
          "geo": {
           "bgcolor": "white",
           "lakecolor": "white",
           "landcolor": "#E5ECF6",
           "showlakes": true,
           "showland": true,
           "subunitcolor": "white"
          },
          "hoverlabel": {
           "align": "left"
          },
          "hovermode": "closest",
          "mapbox": {
           "style": "light"
          },
          "paper_bgcolor": "white",
          "plot_bgcolor": "#E5ECF6",
          "polar": {
           "angularaxis": {
            "gridcolor": "white",
            "linecolor": "white",
            "ticks": ""
           },
           "bgcolor": "#E5ECF6",
           "radialaxis": {
            "gridcolor": "white",
            "linecolor": "white",
            "ticks": ""
           }
          },
          "scene": {
           "xaxis": {
            "backgroundcolor": "#E5ECF6",
            "gridcolor": "white",
            "gridwidth": 2,
            "linecolor": "white",
            "showbackground": true,
            "ticks": "",
            "zerolinecolor": "white"
           },
           "yaxis": {
            "backgroundcolor": "#E5ECF6",
            "gridcolor": "white",
            "gridwidth": 2,
            "linecolor": "white",
            "showbackground": true,
            "ticks": "",
            "zerolinecolor": "white"
           },
           "zaxis": {
            "backgroundcolor": "#E5ECF6",
            "gridcolor": "white",
            "gridwidth": 2,
            "linecolor": "white",
            "showbackground": true,
            "ticks": "",
            "zerolinecolor": "white"
           }
          },
          "shapedefaults": {
           "line": {
            "color": "#2a3f5f"
           }
          },
          "ternary": {
           "aaxis": {
            "gridcolor": "white",
            "linecolor": "white",
            "ticks": ""
           },
           "baxis": {
            "gridcolor": "white",
            "linecolor": "white",
            "ticks": ""
           },
           "bgcolor": "#E5ECF6",
           "caxis": {
            "gridcolor": "white",
            "linecolor": "white",
            "ticks": ""
           }
          },
          "title": {
           "x": 0.05
          },
          "xaxis": {
           "automargin": true,
           "gridcolor": "white",
           "linecolor": "white",
           "ticks": "",
           "title": {
            "standoff": 15
           },
           "zerolinecolor": "white",
           "zerolinewidth": 2
          },
          "yaxis": {
           "automargin": true,
           "gridcolor": "white",
           "linecolor": "white",
           "ticks": "",
           "title": {
            "standoff": 15
           },
           "zerolinecolor": "white",
           "zerolinewidth": 2
          }
         }
        },
        "title": {
         "text": "Survived por Age"
        },
        "xaxis": {
         "anchor": "y2",
         "domain": [
          0,
          1
         ],
         "zeroline": false
        },
        "yaxis": {
         "anchor": "free",
         "domain": [
          0,
          1
         ],
         "position": 0
        }
       }
      },
      "text/html": [
       "<div>                            <div id=\"f6d84b23-fd96-45dd-86d7-b2e9ec3cc621\" class=\"plotly-graph-div\" style=\"height:525px; width:100%;\"></div>            <script type=\"text/javascript\">                require([\"plotly\"], function(Plotly) {                    window.PLOTLYENV=window.PLOTLYENV || {};                                    if (document.getElementById(\"f6d84b23-fd96-45dd-86d7-b2e9ec3cc621\")) {                    Plotly.newPlot(                        \"f6d84b23-fd96-45dd-86d7-b2e9ec3cc621\",                        [{\"autobinx\":false,\"histnorm\":\"probability density\",\"legendgroup\":\"Morreu\",\"marker\":{\"color\":\"#333F44\"},\"name\":\"Morreu\",\"opacity\":0.7,\"type\":\"histogram\",\"x\":[22.0,35.0,54.0,2.0,20.0,39.0,14.0,2.0,31.0,35.0,8.0,19.0,40.0,66.0,28.0,42.0,21.0,18.0,40.0,27.0,18.0,7.0,21.0,65.0,28.5,11.0,22.0,45.0,4.0,19.0,26.0,32.0,16.0,21.0,26.0,25.0,22.0,28.0,16.0,24.0,29.0,20.0,46.0,26.0,59.0,71.0,34.0,28.0,21.0,33.0,37.0,28.0,38.0,47.0,14.5,22.0,20.0,17.0,21.0,70.5,29.0,24.0,2.0,21.0,32.5,54.0,45.0,33.0,20.0,47.0,25.0,23.0,37.0,16.0,24.0,19.0,18.0,19.0,9.0,36.5,42.0,51.0,55.5,40.5,51.0,30.0,44.0,26.0,17.0,1.0,45.0,28.0,61.0,4.0,21.0,56.0,18.0,50.0,30.0,36.0,9.0,40.0,36.0,19.0,42.0,24.0,28.0,34.0,45.5,2.0,32.0,24.0,22.0,30.0,42.0,30.0,27.0,51.0,22.0,20.5,18.0,29.0,59.0,24.0,44.0,19.0,33.0,29.0,22.0,30.0,44.0,25.0,54.0,29.0,62.0,30.0,41.0,52.0,40.0,36.0,16.0,37.0,45.0,7.0,65.0,28.0,16.0,33.0,22.0,36.0,24.0,24.0,23.5,2.0,19.0,30.0,26.0,28.0,43.0,54.0,22.0,27.0,61.0,45.5,38.0,16.0,29.0,45.0,28.0,25.0,36.0,42.0,23.0,15.0,25.0,28.0,38.0,40.0,29.0,45.0,35.0,30.0,18.0,19.0,22.0,3.0,27.0,20.0,19.0,32.0,18.0,1.0,28.0,22.0,31.0,46.0,23.0,26.0,21.0,28.0,20.0,34.0,51.0,21.0,30.0,10.0,21.0,29.0,28.0,18.0,17.0,50.0,21.0,64.0,31.0,20.0,25.0,36.0,30.0,65.0,34.0,47.0,48.0,38.0,56.0,38.0,22.0,34.0,29.0,22.0,9.0,50.0,58.0,30.0,21.0,55.0,71.0,21.0,25.0,24.0,17.0,21.0,37.0,18.0,28.0,24.0,47.0,32.0,22.0,40.5,39.0,23.0,17.0,30.0,45.0,9.0,11.0,50.0,64.0,33.0,27.0,62.0,40.0,28.0,24.0,19.0,29.0,16.0,19.0,54.0,36.0,47.0,22.0,35.0,47.0,37.0,36.0,49.0,44.0,36.0,30.0,39.0,35.0,34.0,26.0,26.0,27.0,21.0,21.0,61.0,57.0,26.0,51.0,9.0,32.0,31.0,41.0,20.0,2.0,19.0,21.0,18.0,24.0,32.0,23.0,58.0,40.0,47.0,36.0,32.0,25.0,43.0,31.0,70.0,18.0,24.5,43.0,20.0,14.0,60.0,25.0,14.0,19.0,18.0,25.0,60.0,52.0,44.0,49.0,42.0,18.0,25.0,26.0,39.0,29.0,52.0,19.0,33.0,17.0,34.0,50.0,20.0,25.0,25.0,11.0,23.0,23.0,28.5,48.0,36.0,24.0,70.0,16.0,19.0,31.0,33.0,23.0,28.0,18.0,34.0,41.0,16.0,30.5,32.0,24.0,48.0,57.0,18.0,29.0,25.0,25.0,8.0,46.0,16.0,25.0,39.0,30.0,30.0,34.0,31.0,39.0,18.0,39.0,26.0,39.0,35.0,6.0,30.5,23.0,31.0,43.0,10.0,38.0,2.0,23.0,18.0,21.0,20.0,16.0,34.5,17.0,42.0,35.0,28.0,4.0,74.0,9.0,44.0,41.0,21.0,24.0,31.0,26.0,33.0,47.0,20.0,19.0,33.0,22.0,28.0,25.0,39.0,27.0,32.0],\"xaxis\":\"x\",\"xbins\":{\"end\":74.0,\"size\":1.0,\"start\":1.0},\"yaxis\":\"y\"},{\"autobinx\":false,\"histnorm\":\"probability density\",\"legendgroup\":\"Viveu\",\"marker\":{\"color\":\"#37AA9C\"},\"name\":\"Viveu\",\"opacity\":0.7,\"type\":\"histogram\",\"x\":[38.0,26.0,35.0,27.0,14.0,4.0,58.0,55.0,34.0,15.0,28.0,38.0,14.0,3.0,19.0,49.0,29.0,21.0,5.0,38.0,29.0,17.0,32.0,0.83,30.0,29.0,17.0,33.0,23.0,23.0,34.0,21.0,32.5,12.0,24.0,29.0,19.0,22.0,24.0,27.0,22.0,16.0,40.0,9.0,1.0,1.0,4.0,45.0,32.0,19.0,3.0,44.0,58.0,18.0,26.0,16.0,40.0,35.0,31.0,27.0,32.0,16.0,38.0,19.0,35.0,5.0,8.0,24.0,37.0,29.0,30.0,35.0,50.0,3.0,25.0,58.0,35.0,25.0,41.0,63.0,35.0,19.0,30.0,42.0,22.0,26.0,19.0,50.0,0.92,17.0,30.0,24.0,18.0,26.0,24.0,31.0,40.0,30.0,22.0,36.0,36.0,31.0,16.0,41.0,45.0,2.0,24.0,24.0,40.0,3.0,22.0,60.0,24.0,25.0,22.0,42.0,1.0,35.0,36.0,17.0,36.0,21.0,23.0,24.0,28.0,39.0,3.0,33.0,44.0,34.0,18.0,28.0,19.0,32.0,28.0,42.0,14.0,24.0,45.0,28.0,4.0,13.0,34.0,5.0,52.0,49.0,29.0,50.0,48.0,0.75,33.0,23.0,2.0,63.0,25.0,35.0,9.0,54.0,16.0,33.0,26.0,29.0,36.0,54.0,34.0,36.0,30.0,44.0,50.0,2.0,7.0,30.0,22.0,36.0,32.0,19.0,8.0,17.0,22.0,22.0,48.0,39.0,36.0,32.0,62.0,53.0,36.0,34.0,39.0,32.0,25.0,39.0,18.0,60.0,52.0,49.0,24.0,35.0,27.0,22.0,40.0,24.0,4.0,42.0,20.0,21.0,80.0,32.0,28.0,24.0,0.75,48.0,56.0,23.0,18.0,50.0,20.0,40.0,31.0,18.0,36.0,27.0,15.0,31.0,4.0,18.0,35.0,45.0,42.0,22.0,24.0,48.0,38.0,27.0,6.0,27.0,30.0,29.0,35.0,21.0,31.0,30.0,4.0,6.0,48.0,0.67,33.0,20.0,36.0,51.0,54.0,5.0,43.0,13.0,17.0,18.0,1.0,49.0,31.0,31.0,11.0,0.42,27.0,33.0,52.0,27.0,27.0,1.0,62.0,15.0,0.83,39.0,32.0,30.0,16.0,18.0,45.0,51.0,24.0,48.0,42.0,27.0,4.0,47.0,28.0,15.0,56.0,25.0,19.0,26.0],\"xaxis\":\"x\",\"xbins\":{\"end\":80.0,\"size\":1.0,\"start\":0.42},\"yaxis\":\"y\"},{\"legendgroup\":\"Morreu\",\"marker\":{\"color\":\"#333F44\"},\"mode\":\"lines\",\"name\":\"Morreu\",\"showlegend\":false,\"type\":\"scatter\",\"x\":[1.0,1.146,1.292,1.438,1.584,1.73,1.876,2.0220000000000002,2.168,2.314,2.46,2.606,2.752,2.8979999999999997,3.044,3.19,3.336,3.482,3.628,3.774,3.92,4.066,4.212,4.3580000000000005,4.504,4.65,4.795999999999999,4.942,5.088,5.234,5.38,5.526,5.672,5.818,5.964,6.11,6.256,6.402,6.548,6.694,6.84,6.986,7.132,7.278,7.424,7.57,7.716,7.862,8.008,8.154,8.3,8.446,8.591999999999999,8.738,8.884,9.03,9.176,9.322,9.468,9.614,9.76,9.906,10.052,10.198,10.344,10.49,10.636,10.782,10.928,11.074,11.22,11.366,11.512,11.658,11.804,11.95,12.096,12.242,12.388,12.534,12.68,12.826,12.972,13.118,13.264,13.41,13.556,13.702,13.848,13.994,14.14,14.286,14.432,14.578,14.724,14.87,15.016,15.162,15.308,15.454,15.6,15.746,15.892,16.038,16.183999999999997,16.33,16.476,16.622,16.768,16.914,17.06,17.206,17.352,17.498,17.644,17.79,17.936,18.082,18.228,18.374,18.52,18.666,18.812,18.958,19.104,19.25,19.396,19.542,19.688,19.834,19.98,20.126,20.272,20.418,20.564,20.71,20.856,21.002,21.148,21.294,21.44,21.586,21.732,21.878,22.024,22.17,22.316,22.462,22.608,22.754,22.9,23.046,23.192,23.338,23.484,23.63,23.776,23.922,24.068,24.214,24.36,24.506,24.652,24.798,24.944,25.09,25.236,25.382,25.528,25.674,25.82,25.966,26.112,26.258,26.404,26.55,26.696,26.842,26.988,27.134,27.28,27.426,27.572,27.718,27.864,28.01,28.156,28.302,28.448,28.594,28.74,28.886,29.032,29.178,29.324,29.47,29.616,29.762,29.908,30.054,30.2,30.346,30.492,30.638,30.784,30.93,31.076,31.222,31.368,31.514,31.66,31.806,31.952,32.098,32.244,32.39,32.536,32.682,32.828,32.974000000000004,33.12,33.266,33.412,33.558,33.704,33.85,33.996,34.142,34.288,34.434,34.58,34.726,34.872,35.018,35.164,35.31,35.456,35.602,35.748,35.894,36.04,36.186,36.332,36.478,36.624,36.77,36.916,37.062,37.208,37.354,37.5,37.646,37.792,37.938,38.084,38.23,38.376,38.522,38.668,38.814,38.96,39.106,39.252,39.398,39.544,39.69,39.836,39.982,40.128,40.274,40.42,40.566,40.712,40.858,41.004,41.15,41.296,41.442,41.588,41.734,41.88,42.026,42.172,42.318,42.464,42.61,42.756,42.902,43.048,43.194,43.34,43.486,43.632,43.778,43.924,44.07,44.216,44.362,44.508,44.654,44.8,44.946,45.092,45.238,45.384,45.53,45.676,45.822,45.968,46.114,46.26,46.406,46.552,46.698,46.844,46.99,47.136,47.282,47.428,47.574,47.72,47.866,48.012,48.158,48.304,48.45,48.596,48.742,48.888,49.034,49.18,49.326,49.472,49.618,49.764,49.91,50.056,50.202,50.348,50.494,50.64,50.786,50.932,51.078,51.224,51.37,51.516,51.662,51.808,51.954,52.1,52.246,52.392,52.538,52.684,52.83,52.976,53.122,53.268,53.414,53.56,53.706,53.852,53.998,54.144,54.29,54.436,54.582,54.728,54.874,55.02,55.166,55.312,55.458,55.604,55.75,55.896,56.042,56.188,56.334,56.48,56.626,56.772,56.918,57.064,57.21,57.356,57.502,57.648,57.794,57.94,58.086,58.232,58.378,58.524,58.67,58.816,58.962,59.108,59.254,59.4,59.546,59.692,59.838,59.984,60.13,60.276,60.422,60.568,60.714,60.86,61.006,61.152,61.298,61.444,61.59,61.736,61.882,62.028,62.174,62.32,62.466,62.612,62.758,62.904,63.05,63.196,63.342,63.488,63.634,63.78,63.926,64.072,64.218,64.364,64.50999999999999,64.656,64.80199999999999,64.94800000000001,65.094,65.24,65.386,65.532,65.678,65.824,65.97,66.116,66.262,66.408,66.554,66.7,66.846,66.992,67.138,67.284,67.43,67.576,67.722,67.868,68.014,68.16,68.306,68.452,68.598,68.744,68.89,69.036,69.182,69.328,69.474,69.62,69.766,69.912,70.058,70.204,70.35,70.496,70.642,70.788,70.934,71.08,71.226,71.372,71.518,71.664,71.81,71.956,72.102,72.248,72.394,72.54,72.686,72.832,72.978,73.124,73.27,73.416,73.562,73.708,73.854],\"xaxis\":\"x\",\"y\":[0.0033899880382460452,0.0034599508426999244,0.0035289105910497683,0.0035968100794365387,0.003663598078574043,0.0037292295834220664,0.0037936660312911544,0.003856875488139562,0.003918832803192679,0.003979519732381333,0.004038925031452729,0.004097044519949064,0.004153881117572317,0.004209444854750237,0.00426375285948791,0.004316829322822739,0.0043687054453979066,0.004419419367824431,0.004469016087613523,0.004517547365524938,0.004565071624194375,0.00461165384186936,0.004657365444001269,0.004702284195309632,0.00474649409475505,0.004790085275632401,0.0048331539127261305,0.004875802138161195,0.004918137967237375,0.004960275235158193,0.0050023335451620365,0.005044438228139001,0.005086720313378021,0.005129316509641439,0.005172369195314642,0.0052160264159348095,0.005260441886970174,0.0053057749993076705,0.005352190824519169,0.00539986011662023,0.005448959306717398,0.005499670486666542,0.005552181377639638,0.0056066852793269124,0.005663380995388764,0.0057224727307201,0.005784169956102844,0.005848687235900533,0.005916244014594022,0.005987064358169144,0.00606137664664481,0.006139413214372288,0.006221409935139561,0.006307605749576908,0.006398242132875738,0.006493562501397468,0.006593811557357922,0.006699234571418329,0.00681007660368933,0.006926581664353646,0.00704899181582605,0.007177546219091169,0.007312480127578316,0.007454023832643787,0.00760240156542269,0.0077578303604795415,0.007920518887319037,0.008090666256408481,0.008268460806906214,0.008454078883774795,0.008647683612381753,0.008849423679046753,0.009059432126275963,0.009277825171631887,0.009504701059311504,0.009740138953549585,0.009984197882923087,0.01023691574450547,0.010498308376610463,0.01076836870856862,0.011047065995605426,0.011334345146433616,0.011630126150642156,0.011934303612364786,0.012246746396042651,0.012567297389371151,0.012895773387741822,0.013231965103663536,0.013575637303784797,0.013926529075243242,0.014284354222150396,0.014648801792088507,0.015019536731556763,0.015396200668369588,0.015778412818083128,0.01616577101062074,0.016557852832388312,0.016954216878325115,0.017354404107534457,0.017757939295380967,0.018164332574245316,0.018573081054486018,0.018983670516586306,0.01939557716496045,0.01980826943346725,0.02022120983232343,0.02063385682584226,0.021045666730226724,0.02145609562054108,0.021864601235955364,0.02227064487241031,0.02267369325198676,0.023073220358471574,0.023468709228901204,0.02385965369122269,0.024245560038636614,0.024625948631680616,0.02500035541965741,0.025368333373620145,0.025729453823774666,0.02608330769485626,0.02642950663376923,0.026767684024536286,0.027097495886395286,0.027418621651677647,0.027730764820924826,0.028033653493511862,0.028327040772872573,0.028610705046226384,0.02888445013951266,0.029148105349013326,0.029401525351906124,0.029644589998718544,0.02987720399134733,0.03009929645097001,0.030310820380788618,0.03051175202912361,0.03070209015889652,0.03088185523002021,0.031051088501632736,0.031209851061485976,0.031358222790106416,0.031496301267606934,0.031624200631224675,0.03174205039180125,0.03184999421750847,0.03194818869314584,0.032036802063310964,0.03211601296765878,0.03218600917632758,0.03224698633342328,0.03229914671621436,0.03234269801740305,0.03237785215751188,0.03240482413404847,0.03242383091370488,0.032435090373398076,0.03243882029548189,0.032435237421953186,0.032424556571940995,0.032406989826216225,0.03238274578188933,0.03235202887987662,0.03231503880712862,0.03227196997501228,0.03222301107464438,0.03216834470937879,0.03210814710406395,0.032042587890116596,0.031971829964897884,0.031896029423342936,0.03181533555928495,0.031729890933428005,0.03163983150447417,0.031545286819492036,0.031446380259235025,0.03134322933378209,0.031235946023577568,0.031124637160700207,0.031009404844988743,0.030890346889501163,0.030767557289679167,0.030641126710542397,0.030511142986226605,0.030377691626238094,0.030240856322881742,0.03010071945447564,0.029957362579145285,0.029810866914231706,0.029661313796616882,0.029508785119585795,0.029353363742188363,0.029195133867444434,0.029034181386136386,0.02887059418336223,0.028704462405464187,0.028535878685405795,0.028364938325134998,0.02819173943393931,0.028016383022266698,0.027838973050945647,0.02765961643619066,0.027478423011209,0.027295505445648537,0.02711097912450819,0.02692496198850734,0.026737574338238698,0.026548938604733032,0.0263591790893316,0.02616842167598761,0.025976793519310162,0.025784422711811635,0.025591437933930247,0.02539796809046353,0.025204141937081936,0.025010087700573547,0.024815932696426107,0.024621802947262805,0.024427822805529083,0.02423411458367386,0.02404079819488703,0.023847990807247654,0.02365580651390357,0.023464356021654496,0.023273746360043153,0.023084080612776774,0.02289545767301753,0.022707972023780103,0.022521713544384044,0.02233676734361091,0.02215321361992769,0.02197112754885597,0.02179057919729541,0.021611633464353686,0.021434350047992164,0.02125878343657431,0.021084982924201155,0.020912992648534204,0.020742851649650066,0.020574593948332984,0.02040824864210313,0.02024384001718958,0.02008138767459854,0.019920906668387153,0.01976240765424335,0.019605897046479283,0.019451377181581842,0.01929884648651398,0.01914829965003583,0.018999727795404764,0.018853118652921195,0.01870845673090848,0.018565723483850143,0.018424897476550944,0.018285954543342364,0.018148867941512277,0.018013608498299086,0.017880144750958952,0.017748443079575814,0.01761846783244733,0.017490181444037828,0.017363544545639247,0.01723851606902475,0.017115053343513226,0.016993112186984488,0.016872646991493465,0.01675361080422864,0.01663595540463781,0.016519631378611357,0.016404588190658886,0.01629077425504787,0.016178137006886036,0.016066622974126584,0.015956177851455828,0.015846746576984972,0.015738273412618107,0.015630702028897995,0.015523975595053578,0.015418036874876495,0.015312828328949545,0.015208292223635221,0.015104370747108273,0.015001006132586633,0.01489814078878042,0.014795717437441222,0.014693679257755774,0.014591970037191607,0.014490534328267565,0.01438931761059386,0.01428826645740378,0.014187328705686512,0.014086453628925714,0.013985592111358651,0.013884696822590697,0.013783722391335403,0.013682625577001803,0.013581365437815672,0.013479903494144175,0.013378203885692615,0.01327623352125649,0.013173962219744715,0.013071362841236821,0.012968411406899832,0.012865087206668086,0.012761372893679164,0.012657254564561978,0.01255272182478675,0.012447767838407255,0.01234238936165816,0.012236586760003445,0.012130364008372658,0.012023728674463725,0.011916691885131855,0.011809268276026137,0.011701475924771616,0.011593336268128172,0.011484874003682186,0.011376116976747655,0.011267096053259488,0.011157844979543476,0.011048400229932979,0.010938800843279304,0.010829088249465213,0.010719306087081722,0.010609500013464626,0.010499717508312174,0.010390007672115259,0.010280421020631009,0.010171009276616017,0.010061825160011693,0.009952922177738141,0.009844354414207763,0.00973617632361741,0.00962844252501564,0.009521207601075408,0.0094145259014297,0.009308451351352042,0.009203037266484238,0.009098336174234525,0.00899439964238789,0.008891278115390977,0.00878902075869591,0.008687675311471927,0.008587287947921948,0.008487903147373348,0.008389563573249673,0.008292309960972381,0.008196181014789389,0.008101213313481974,0.008007441224860922,0.00791489682892951,0.007823609849562613,0.0077336075945297405,0.007644914903672647,0.007557554105037631,0.007471544978756065,0.007386904728464184,0.007303647960055911,0.007221786667566867,0.0071413302259964095,0.007062285390883937,0.0069846563044681865,0.0069084445082708175,0.00683364896195886,0.00676026606835438,0.006688289704472404,0.006617711258480024,0.006548519672480988,0.006480701491038324,0.006414240915355041,0.006349119863038154,0.006285318033372887,0.006222812978034592,0.006161580177163098,0.006101593120718031,0.0060428233950267154,0.005985240774424316,0.0059288133178735086,0.0058735074704347546,0.005819288169440231,0.005766118955204682,0.005713962086084239,0.005662778657670921,0.005612528725885095,0.00556317143370272,0.005514665141226609,0.005466967558783578,0.005420035882701626,0.005373826933392898,0.005328297295340909,0.005283403458562869,0.005239101961091711,0.005195349531996735,0.005152103234437755,0.0051093206082246856,0.0050669598113336715,0.0050249797598120455,0.0049833402654870275,0.004942002170879349,0.004900927480710967,0.0048600794893871105,0.004819422903827214,0.004778923961016726,0.004738550539652691,0.004698272265260659,0.004658060608168802,0.004617888973737794,0.0045777327842615595,0.004537569551975061,0.004497378942631012,0.004457142829137565,0.004416845334783807,0.004376472865620181,0.004336014131605044,0.004295460156178733,0.004254804273980478,0.004214042116483083,0.004173171585384023,0.00413219281366012,0.004091108114265384,0.004049921916528525,0.004008640690386485,0.003967272858673757,0.003925828697773157,0.0038843202270215983,0.003842761087353601,0.0038011664097555467,0.0037595526741930232,0.0037179375597627233,0.0036763397869072666,0.003634778952615266,0.0035932753596092173,0.0035518498405994305,0.003510523578751619,0.0034693179255785396,0.0034282542175211035,0.003387353592530297,0.003346636807997699,0.003306124061408043,0.0032658348151018302,0.003225787626538057,0.0031859999854372176,0.003146488159161083,0.003107267047649312,0.0030683500491827205,0.0030297489381792527,0.002991473756151908,0.002953532716867601,0.002915932126643856,0.00287867632060563,0.0028417676155998444,0.002805206280330045,0.002768990523130039,0.002733116497644575,0.002697578326528235,0.0026623681431128376,0.0026274761508300703,0.0025928907000117114,0.002558598381526654,0.002524584136553294,0.0024908313816304636,0.0024573221479807436,0.002424037233959382,0.00239095636935131,0.002358058390119753,0.0023253214221039373,0.002292723072072222,0.002260240624461115,0.0022278512420715784,0.002195532168952508,0.0021632609336774988,0.0021310155512159388,0.002098774721612461,0.002066518023720592,0.0020342261022859355,0.002001880846741228,0.001969465560159538,0.0019369651169110075,0.0019043661076826952,0.0018716569706477932,0.001838828107709345,0.0018058719848918585,0.0017727832161111247,0.0017395586297153517,0.00170619731735835,0.0016727006649351042,0.0016390723654808135,0.0016053184141030573,0.0015714470851827583,0.0015374688922400125,0.0015033965310146597,0.0014692448064569275,0.0014350305444588212,0.0014007724892814606,0.001366491187745452,0.0013322088613502627,0.0012979492675731993,0.0012637375516688074,0.0012296000903446018,0.0011955643287288628],\"yaxis\":\"y\"},{\"legendgroup\":\"Viveu\",\"marker\":{\"color\":\"#37AA9C\"},\"mode\":\"lines\",\"name\":\"Viveu\",\"showlegend\":false,\"type\":\"scatter\",\"x\":[0.42,0.57916,0.73832,0.89748,1.05664,1.2158,1.37496,1.53412,1.69328,1.85244,2.0116,2.17076,2.32992,2.48908,2.64824,2.8074,2.96656,3.12572,3.2848800000000002,3.4440399999999998,3.6031999999999997,3.76236,3.92152,4.08068,4.23984,4.399,4.55816,4.71732,4.87648,5.03564,5.1948,5.35396,5.51312,5.67228,5.83144,5.9906,6.149760000000001,6.30892,6.46808,6.62724,6.7863999999999995,6.9455599999999995,7.10472,7.26388,7.42304,7.582199999999999,7.741359999999999,7.900519999999999,8.05968,8.21884,8.378,8.53716,8.69632,8.85548,9.01464,9.1738,9.33296,9.492119999999998,9.65128,9.81044,9.9696,10.12876,10.28792,10.44708,10.60624,10.7654,10.92456,11.08372,11.24288,11.40204,11.5612,11.720360000000001,11.879520000000001,12.03868,12.19784,12.357,12.51616,12.67532,12.83448,12.99364,13.1528,13.31196,13.471119999999999,13.630279999999999,13.78944,13.9486,14.10776,14.26692,14.42608,14.585239999999999,14.744399999999999,14.903559999999999,15.062719999999999,15.221879999999999,15.381039999999999,15.540199999999999,15.69936,15.85852,16.017680000000002,16.176840000000002,16.336000000000002,16.495160000000002,16.654320000000002,16.813480000000002,16.972640000000002,17.131800000000002,17.290960000000002,17.450120000000002,17.609280000000002,17.768440000000002,17.9276,18.08676,18.24592,18.405079999999998,18.564239999999998,18.723399999999998,18.88256,19.04172,19.20088,19.36004,19.5192,19.67836,19.83752,19.99668,20.15584,20.315,20.47416,20.63332,20.79248,20.95164,21.1108,21.26996,21.42912,21.58828,21.74744,21.9066,22.06576,22.22492,22.38408,22.54324,22.7024,22.861560000000004,23.020720000000004,23.179880000000004,23.339040000000004,23.498200000000004,23.65736,23.81652,23.97568,24.13484,24.294,24.45316,24.61232,24.77148,24.93064,25.0898,25.24896,25.40812,25.56728,25.72644,25.8856,26.04476,26.20392,26.36308,26.52224,26.6814,26.84056,26.999720000000003,27.158880000000003,27.318040000000003,27.477200000000003,27.636360000000003,27.795520000000003,27.954680000000003,28.113840000000003,28.273000000000003,28.432160000000003,28.591320000000003,28.75048,28.90964,29.0688,29.22796,29.38712,29.54628,29.70544,29.8646,30.02376,30.18292,30.34208,30.50124,30.6604,30.81956,30.978720000000003,31.137880000000003,31.297040000000003,31.456200000000003,31.615360000000003,31.774520000000003,31.933680000000003,32.09284,32.252,32.41116,32.57032,32.72948,32.88864,33.0478,33.20696,33.36612,33.52528,33.68444,33.8436,34.00276,34.16192,34.32108,34.48024,34.6394,34.79856,34.95772,35.11688,35.27604,35.4352,35.59436,35.75352,35.91268,36.07184,36.231,36.390159999999995,36.54932,36.708479999999994,36.86764,37.026799999999994,37.18596,37.34512,37.50428,37.66344,37.8226,37.98176,38.14092,38.30008,38.45924,38.6184,38.77756,38.93672,39.09588,39.25504,39.4142,39.57336,39.73252,39.89168,40.05084,40.21,40.36916,40.52832,40.68748,40.84664,41.0058,41.16496,41.32412000000001,41.48328,41.64244,41.8016,41.96076,42.11992,42.27908,42.43824,42.5974,42.75656,42.91572,43.07488,43.23404,43.3932,43.55236,43.71152,43.87068,44.02984,44.189,44.34816,44.50732,44.66648,44.82564,44.9848,45.14396,45.30312000000001,45.46228,45.62144000000001,45.7806,45.93976000000001,46.09892,46.25808000000001,46.41724,46.57640000000001,46.73556,46.89472,47.05388,47.21304,47.3722,47.53136,47.69052,47.84968,48.00884,48.168,48.32716,48.48632,48.64548,48.80464,48.9638,49.12296,49.28212,49.44128,49.600440000000006,49.7596,49.918760000000006,50.07792,50.237080000000006,50.39624,50.555400000000006,50.71456,50.873720000000006,51.03288,51.192040000000006,51.3512,51.510360000000006,51.66952,51.82868,51.98784,52.147,52.30616,52.46532,52.62448,52.78364,52.9428,53.10196,53.26112,53.42028,53.579440000000005,53.7386,53.897760000000005,54.05692,54.216080000000005,54.37524,54.534400000000005,54.69356,54.852720000000005,55.01188,55.171040000000005,55.3302,55.489360000000005,55.64852,55.807680000000005,55.96684,56.126000000000005,56.28516,56.444320000000005,56.60348,56.762640000000005,56.9218,57.08096,57.24012,57.39928,57.558440000000004,57.7176,57.876760000000004,58.03592,58.195080000000004,58.35424,58.513400000000004,58.67256,58.831720000000004,58.99088,59.150040000000004,59.3092,59.468360000000004,59.62752,59.786680000000004,59.94584,60.105000000000004,60.26416,60.423320000000004,60.58248,60.741640000000004,60.9008,61.059960000000004,61.21912,61.378280000000004,61.537440000000004,61.696600000000004,61.855760000000004,62.01492,62.174080000000004,62.333239999999996,62.4924,62.651559999999996,62.81072,62.969879999999996,63.12904,63.288199999999996,63.44736,63.606519999999996,63.76568,63.924839999999996,64.084,64.24315999999999,64.40232,64.56148,64.72064,64.8798,65.03896,65.19812,65.35728,65.51644,65.6756,65.83476,65.99392,66.15308,66.31224,66.4714,66.63056,66.78972,66.94888,67.10803999999999,67.2672,67.42636,67.58552,67.74467999999999,67.90384,68.063,68.22216,68.38131999999999,68.54048,68.69964,68.8588,69.01795999999999,69.17712,69.33628,69.49544,69.65459999999999,69.81376,69.97292,70.13208,70.29124,70.4504,70.60956,70.76872,70.92788,71.08704,71.2462,71.40536,71.56452,71.72368,71.88284,72.042,72.20116,72.36031999999999,72.51948,72.67864,72.8378,72.99695999999999,73.15612,73.31528,73.47444,73.63359999999999,73.79276,73.95192,74.11108,74.27024,74.4294,74.58856,74.74772,74.90688,75.06604,75.2252,75.38436,75.54352,75.70268,75.86184,76.021,76.18016,76.33932,76.49848,76.65764,76.8168,76.97596,77.13512,77.29428,77.45344,77.61259999999999,77.77176,77.93092,78.09008,78.24924,78.4084,78.56756,78.72672,78.88588,79.04504,79.2042,79.36336,79.52252,79.68168,79.84084],\"xaxis\":\"x\",\"y\":[0.008504001179034087,0.008643991951137799,0.00877897770114799,0.008908723749436834,0.009033011771394773,0.009151640954827725,0.009264429091418301,0.009371213595668214,0.009471852445136123,0.009566225036225713,0.009654232950259505,0.009735800625091131,0.00981087592805687,0.009879430626644184,0.009941460753853907,0.00999698686584994,0.010046054190121018,0.0100887326630179,0.010125116856171722,0.010155325791939864,0.010179502648660847,0.010197814357123377,0.010210451090263556,0.010217625648694044,0.01021957274523472,0.01021654819215426,0.010208827995341094,0.010196707360098372,0.010180499613698367,0.0101605350502341,0.010137159703669149,0.010110734055308579,0.010081631682193259,0.010050237853156922,0.010016948079478968,0.009982166627215952,0.009946304998402778,0.009909780388379856,0.009873014126526646,0.009836430107665954,0.00980045322134944,0.009765507786142765,0.009732015995903034,0.009700396384880102,0.009671062318284093,0.009644420514739835,0.009620869606803003,0.009600798745440996,0.009584586254087446,0.009572598337565782,0.009565187850843877,0.009562693132235341,0.009565436905299853,0.009573725253321546,0.009587846669861316,0.009608071188486143,0.009634649594381388,0.009667812720148381,0.00970777082768412,0.009754713077632192,0.009808807087486226,0.00987019857902074,0.009939011115320091,0.010015345927276133,0.010099281829030212,0.010190875221446084,0.010290160182319135,0.01039714864165533,0.010511830639990376,0.010634174667368719,0.0107641280802638,0.010901617593395852,0.011046549843094826,0.011198812018562446,0.011358272557112949,0.011524781899216428,0.011698173298932886,0.011878263685113423,0.012064854568552993,0.01225773299011642,0.012456672504717539,0.012661434195919745,0.012871767715841417,0.0130874123449933,0.013308098066648275,0.013533546650348047,0.013763472739185045,0.013997584935562545,0.014235586880231509,0.01447717831952954,0.014722056155901305,0.014969915476966992,0.015220450558616792,0.015473355837851015,0.015728326851349363,0.015985061136043043,0.01624325908827332,0.016502624778449305,0.01676286671846456,0.017023698579491868,0.017284839858146692,0.017546016489389096,0.017806961404918043,0.018067415036197167,0.01832712576163582,0.018585850297827625,0.018843354035120285,0.019099411318148657,0.019353805672310542,0.01960632997748916,0.019856786590636274,0.02010498741911445,0.020350753946954882,0.020593917216423382,0.020834317767488578,0.021071805537962826,0.021306239727228254,0.02153748862657364,0.02176542941924608,0.021989947953370455,0.022210938490906454,0.0224283034357978,0.02264195304442679,0.022851805121414225,0.02305778470370895,0.023259823735789276,0.02345786073865522,0.023651840475129787,0.02384171361380741,0.024027436393796852,0.02420897029220266,0.0243862816960807,0.02455934158038619,0.024728125193219697,0.024892611749460048,0.025052784133664022,0.025208628612909418,0.025360134560064,0.02550729418778183,0.025650102293360257,0.025788556014437573,0.025922654595378344,0.0260523991640737,0.02617779251878846,0.026298838924607538,0.02641554391897667,0.026527914125794163,0.026635957077492087,0.026739681044544807,0.026839094871862246,0.02693420782155918,0.027025029421642106,0.027111569320221643,0.02719383714492895,0.027271842367308046,0.02734559417204247,0.027415101330979533,0.02748037208201628,0.027541414013016782,0.027598233951034272,0.027650837857213513,0.0276992307278452,0.02774341650213317,0.02778339797731962,0.027819176731880568,0.027850753057568584,0.027878125901123204,0.02790129281650597,0.027920249928533956,0.027934991908790396,0.027945511964679617,0.027951801842466123,0.027953851845092876,0.027951650865519262,0.027945186436242726,0.02793444479558254,0.02791941097120393,0.027900068881247908,0.02787640145330899,0.027848390761369492,0.027816018180659017,0.02777926456025925,0.02773811041312203,0.0276925361230122,0.02764252216773113,0.027588049357817834,0.027529099089771327,0.027465653612685402,0.027397696307042658,0.027325211974274573,0.02724818713556531,0.02716661033825658,0.027080472468102513,0.026989767065527005,0.026894490643955125,0.026794643008220893,0.02669022757100318,0.02658125166520497,0.02646772685017169,0.026349669209643094,0.02622709963934648,0.026100044122170627,0.025968533988910674,0.025832606162635635,0.025692303384813358,0.025547674421423507,0.025398774247397442,0.025245664207850453,0.025088412154704563,0.024927092557448717,0.02476178658693896,0.02459258217130509,0.02441957402320156,0.024242863637817115,0.024062559261236172,0.023878775828926294,0.023691634874308642,0.02350126440754683,0.023307798764867244,0.02311137842889611,0.0229121498206646,0.022710265064092225,0.02250588172390876,0.02229916251811533,0.02209027500621402,0.021879391254554806,0.02166668748025129,0.02145234367521122,0.021236543211906257,0.0210194724325703,0.02080132022356832,0.020582277576715758,0.02036253713935572,0.02014229275501153,0.01992173899643532,0.01970107069286284,0.019480482453264055,0.019260168187348544,0.019040320626049045,0.018821130843158382,0.018602787779747373,0.01838547777293238,0.018169384090505513,0.01795468647287621,0.01774156068371221,0.017530178070605074,0.017320705137023905,0.01711330312676116,0.01690812762201783,0.01670532815622138,0.016505047842620496,0.016307423019654377,0.016112582914053902,0.01592064932259423,0.015731736313386487,0.015545949947566782,0.01536338802221604,0.015184139835321077,0.015008285973567292,0.014835898123734533,0.014667038908447231,0.014501761747012412,0.014340110742055415,0.014182120592639465,0.01402781653452672,0.013877214308202778,0.013730320155247049,0.013587130843582946,0.013447633722084799,0.013311806804953077,0.01317961888619335,0.013051029684448148,0.012925990018334228,0.012804442012329347,0.01268631933313344,0.01257154745630042,0.012460043962795533,0.012351718864985237,0.012246474961407188,0.012144208219503471,0.012044808185327488,0.011948158419058537,0.011854136954978984,0.011762616784386917,0.011673466359737523,0.011586550118128485,0.011501729022071186,0.011418861115324025,0.011337802091406439,0.011258405872266158,0.011180525194439453,0.011104012199926348,0.011028719028901792,0.010954498411301927,0.010881204254263002,0.010808692222350074,0.010736820307495717,0.01066544938557489,0.010594443756573348,0.010523671665362,0.010453005800169734,0.010382323765952453,0.010311508529984345,0.010240448837150284,0.010169039592592279,0.010097182209559305,0.010024784920524239,0.009951763049865375,0.00987803924665832,0.009803543676386648,0.009728214170653367,0.009651996334258077,0.009574843609293277,0.009496717296205978,0.009417586532064901,0.009337428226564502,0.009256226956586037,0.009173974820415378,0.009090671252990153,0.009006322803806968,0.008920942879366395,0.008834551452262054,0.00874717473923194,0.008658844850681897,0.008569599414361443,0.008479481176020527,0.008388537579999761,0.008296820332807719,0.008204384952813419,0.008111290309233408,0.008017598153617638,0.007923372647038752,0.007828679886165903,0.0077335874313557585,0.0076381638398232065,0.007542478206861466,0.007446599717968279,0.007350597214602221,0.007254538776143348,0.007158491320465758,0.007062520225349219,0.006966688972763788,0.006871058817856985,0.0067756884842609085,0.0066806338871157125,0.006585947884982156,0.006491680061586608,0.006397876538112909,0.006304579816525676,0.006211828654183126,0.006119657969772654,0.00602809878038533,0.005937178169332457,0.005846919284104581,0.005757341363677687,0.005668459794187865,0.005580286191821988,0.005492828511611626,0.005406091180669085,0.005320075254270573,0.005234778593071021,0.0051501960596295965,0.005066319732334536,0.004983139134739827,0.004900641478266483,0.004818811916175532,0.004737633806690376,0.004657088983130781,0.004577158028921061,0.004497820555348776,0.004419055479978993,0.0043408413036707845,0.004263156384197563,0.004185979204540192,0.0041092886340009195,0.004033064180375987,0.003957286231525695,0.0038819362847898383,0.0038069971628153657,0.0037324532144887715,0.0036582904997988067,0.0035844969575932195,0.0035110625553369,0.0034379794201253302,0.0033652419503571573,0.003292846907620568,0.003220793488500039,0.0031490833761610216,0.0030777207717197354,0.003006712405551896,0.002936067528837485,0.0028657978857771047,0.00279591766704792,0.002726443445193855,0.0026573940927628326,0.002588790684114797,0.00252065638192514,0.0024530163095003886,0.0023858974101038455,0.0023193282945600437,0.0022533390784656784,0.0021879612103830755,0.002123227292427853,0.002059170894686964,0.001995826364915234,0.0019332286349592563,0.0018714130253460472,0.0018104150494514337,0.0017502702186295111,0.0016910138496405791,0.0016326808756609895,0.0015753056620951861,0.0015189218283385027,0.0014635620765600056,0.0014092580284883539,0.001356040071091645,0.001303937211945119,0.001252976944979673,0.0012031851272002046,0.0011545858668571432,0.0011072014234477442,0.0010610521198176014,0.0010161562665272005,0.0009725300985456088,0.0009301877242331114,0.0008891410864787435,0.0008493999357671368,0.0008109718148635994,0.0007738620547265051,0.0007380737811835053,0.000703607931842319,0.0006704632826493504,0.0006386364834593912,0.0006081221019384065,0.0005789126750880991,0.0005509987676565996,0.0005243690366832134,0.0004990103014173414,0.00047490761785168106,0.00045204435711775857,0.00043040228700690807,0.00040996165590192406,0.00039070127843303555,0.0003725986222060925,0.000355629894990223,0.00033977013179619894,0.000324993281324439,0.00031127229131244137,0.00029857919236466824,0.00028688517990275487,0.0002761606939296823,0.0002663754963575369,0.0002574987457039171,0.00024949906901632757,0.0002423446309363821,0.000236003199865664,0.00023044221124222266,0.00022562882798031275,0.0002215299981657658,0.00021811251013486262,0.0002153430450955313,0.00021318822747577783,0.0002116146732053877,0.00021058903615292832,0.00021007805295095044,0.00021004858644801952,0.0002104676680269185,0.0002113025390241951,0.00021252069147740515,0.00021408990841317982,0.0002159783038719673,0.00021815436284430712,0.00022058698126922898,0.000223245506218233,0.00022609977635883337,0.00022912016276026067,0.00023227761007120175,0.0002355436780658795,0.00023889058352088836,0.00024229124235152996,0.0002457193119034249,0.0002491492332634279,0.0002525562734238107,0.0002559165671057243,0.0002592071580225554,0.00026240603934127733,0.00026549219308062623,0.0002684456281691745,0.00027124741687436317,0.00027387972930545434,0.00027632586568933826,0.0002785702861182074,0.0002805986374723349,0.0002823977772295231,0.0002839557938851186,0.0002852620237227116,0.00028630706369549064,0.0002870827802015793,0.00028758231356312825,0.00028780007804827146],\"yaxis\":\"y\"}],                        {\"barmode\":\"overlay\",\"hovermode\":\"closest\",\"legend\":{\"traceorder\":\"reversed\"},\"template\":{\"data\":{\"bar\":[{\"error_x\":{\"color\":\"#2a3f5f\"},\"error_y\":{\"color\":\"#2a3f5f\"},\"marker\":{\"line\":{\"color\":\"#E5ECF6\",\"width\":0.5},\"pattern\":{\"fillmode\":\"overlay\",\"size\":10,\"solidity\":0.2}},\"type\":\"bar\"}],\"barpolar\":[{\"marker\":{\"line\":{\"color\":\"#E5ECF6\",\"width\":0.5},\"pattern\":{\"fillmode\":\"overlay\",\"size\":10,\"solidity\":0.2}},\"type\":\"barpolar\"}],\"carpet\":[{\"aaxis\":{\"endlinecolor\":\"#2a3f5f\",\"gridcolor\":\"white\",\"linecolor\":\"white\",\"minorgridcolor\":\"white\",\"startlinecolor\":\"#2a3f5f\"},\"baxis\":{\"endlinecolor\":\"#2a3f5f\",\"gridcolor\":\"white\",\"linecolor\":\"white\",\"minorgridcolor\":\"white\",\"startlinecolor\":\"#2a3f5f\"},\"type\":\"carpet\"}],\"choropleth\":[{\"colorbar\":{\"outlinewidth\":0,\"ticks\":\"\"},\"type\":\"choropleth\"}],\"contour\":[{\"colorbar\":{\"outlinewidth\":0,\"ticks\":\"\"},\"colorscale\":[[0.0,\"#0d0887\"],[0.1111111111111111,\"#46039f\"],[0.2222222222222222,\"#7201a8\"],[0.3333333333333333,\"#9c179e\"],[0.4444444444444444,\"#bd3786\"],[0.5555555555555556,\"#d8576b\"],[0.6666666666666666,\"#ed7953\"],[0.7777777777777778,\"#fb9f3a\"],[0.8888888888888888,\"#fdca26\"],[1.0,\"#f0f921\"]],\"type\":\"contour\"}],\"contourcarpet\":[{\"colorbar\":{\"outlinewidth\":0,\"ticks\":\"\"},\"type\":\"contourcarpet\"}],\"heatmap\":[{\"colorbar\":{\"outlinewidth\":0,\"ticks\":\"\"},\"colorscale\":[[0.0,\"#0d0887\"],[0.1111111111111111,\"#46039f\"],[0.2222222222222222,\"#7201a8\"],[0.3333333333333333,\"#9c179e\"],[0.4444444444444444,\"#bd3786\"],[0.5555555555555556,\"#d8576b\"],[0.6666666666666666,\"#ed7953\"],[0.7777777777777778,\"#fb9f3a\"],[0.8888888888888888,\"#fdca26\"],[1.0,\"#f0f921\"]],\"type\":\"heatmap\"}],\"heatmapgl\":[{\"colorbar\":{\"outlinewidth\":0,\"ticks\":\"\"},\"colorscale\":[[0.0,\"#0d0887\"],[0.1111111111111111,\"#46039f\"],[0.2222222222222222,\"#7201a8\"],[0.3333333333333333,\"#9c179e\"],[0.4444444444444444,\"#bd3786\"],[0.5555555555555556,\"#d8576b\"],[0.6666666666666666,\"#ed7953\"],[0.7777777777777778,\"#fb9f3a\"],[0.8888888888888888,\"#fdca26\"],[1.0,\"#f0f921\"]],\"type\":\"heatmapgl\"}],\"histogram\":[{\"marker\":{\"pattern\":{\"fillmode\":\"overlay\",\"size\":10,\"solidity\":0.2}},\"type\":\"histogram\"}],\"histogram2d\":[{\"colorbar\":{\"outlinewidth\":0,\"ticks\":\"\"},\"colorscale\":[[0.0,\"#0d0887\"],[0.1111111111111111,\"#46039f\"],[0.2222222222222222,\"#7201a8\"],[0.3333333333333333,\"#9c179e\"],[0.4444444444444444,\"#bd3786\"],[0.5555555555555556,\"#d8576b\"],[0.6666666666666666,\"#ed7953\"],[0.7777777777777778,\"#fb9f3a\"],[0.8888888888888888,\"#fdca26\"],[1.0,\"#f0f921\"]],\"type\":\"histogram2d\"}],\"histogram2dcontour\":[{\"colorbar\":{\"outlinewidth\":0,\"ticks\":\"\"},\"colorscale\":[[0.0,\"#0d0887\"],[0.1111111111111111,\"#46039f\"],[0.2222222222222222,\"#7201a8\"],[0.3333333333333333,\"#9c179e\"],[0.4444444444444444,\"#bd3786\"],[0.5555555555555556,\"#d8576b\"],[0.6666666666666666,\"#ed7953\"],[0.7777777777777778,\"#fb9f3a\"],[0.8888888888888888,\"#fdca26\"],[1.0,\"#f0f921\"]],\"type\":\"histogram2dcontour\"}],\"mesh3d\":[{\"colorbar\":{\"outlinewidth\":0,\"ticks\":\"\"},\"type\":\"mesh3d\"}],\"parcoords\":[{\"line\":{\"colorbar\":{\"outlinewidth\":0,\"ticks\":\"\"}},\"type\":\"parcoords\"}],\"pie\":[{\"automargin\":true,\"type\":\"pie\"}],\"scatter\":[{\"marker\":{\"colorbar\":{\"outlinewidth\":0,\"ticks\":\"\"}},\"type\":\"scatter\"}],\"scatter3d\":[{\"line\":{\"colorbar\":{\"outlinewidth\":0,\"ticks\":\"\"}},\"marker\":{\"colorbar\":{\"outlinewidth\":0,\"ticks\":\"\"}},\"type\":\"scatter3d\"}],\"scattercarpet\":[{\"marker\":{\"colorbar\":{\"outlinewidth\":0,\"ticks\":\"\"}},\"type\":\"scattercarpet\"}],\"scattergeo\":[{\"marker\":{\"colorbar\":{\"outlinewidth\":0,\"ticks\":\"\"}},\"type\":\"scattergeo\"}],\"scattergl\":[{\"marker\":{\"colorbar\":{\"outlinewidth\":0,\"ticks\":\"\"}},\"type\":\"scattergl\"}],\"scattermapbox\":[{\"marker\":{\"colorbar\":{\"outlinewidth\":0,\"ticks\":\"\"}},\"type\":\"scattermapbox\"}],\"scatterpolar\":[{\"marker\":{\"colorbar\":{\"outlinewidth\":0,\"ticks\":\"\"}},\"type\":\"scatterpolar\"}],\"scatterpolargl\":[{\"marker\":{\"colorbar\":{\"outlinewidth\":0,\"ticks\":\"\"}},\"type\":\"scatterpolargl\"}],\"scatterternary\":[{\"marker\":{\"colorbar\":{\"outlinewidth\":0,\"ticks\":\"\"}},\"type\":\"scatterternary\"}],\"surface\":[{\"colorbar\":{\"outlinewidth\":0,\"ticks\":\"\"},\"colorscale\":[[0.0,\"#0d0887\"],[0.1111111111111111,\"#46039f\"],[0.2222222222222222,\"#7201a8\"],[0.3333333333333333,\"#9c179e\"],[0.4444444444444444,\"#bd3786\"],[0.5555555555555556,\"#d8576b\"],[0.6666666666666666,\"#ed7953\"],[0.7777777777777778,\"#fb9f3a\"],[0.8888888888888888,\"#fdca26\"],[1.0,\"#f0f921\"]],\"type\":\"surface\"}],\"table\":[{\"cells\":{\"fill\":{\"color\":\"#EBF0F8\"},\"line\":{\"color\":\"white\"}},\"header\":{\"fill\":{\"color\":\"#C8D4E3\"},\"line\":{\"color\":\"white\"}},\"type\":\"table\"}]},\"layout\":{\"annotationdefaults\":{\"arrowcolor\":\"#2a3f5f\",\"arrowhead\":0,\"arrowwidth\":1},\"autotypenumbers\":\"strict\",\"coloraxis\":{\"colorbar\":{\"outlinewidth\":0,\"ticks\":\"\"}},\"colorscale\":{\"diverging\":[[0,\"#8e0152\"],[0.1,\"#c51b7d\"],[0.2,\"#de77ae\"],[0.3,\"#f1b6da\"],[0.4,\"#fde0ef\"],[0.5,\"#f7f7f7\"],[0.6,\"#e6f5d0\"],[0.7,\"#b8e186\"],[0.8,\"#7fbc41\"],[0.9,\"#4d9221\"],[1,\"#276419\"]],\"sequential\":[[0.0,\"#0d0887\"],[0.1111111111111111,\"#46039f\"],[0.2222222222222222,\"#7201a8\"],[0.3333333333333333,\"#9c179e\"],[0.4444444444444444,\"#bd3786\"],[0.5555555555555556,\"#d8576b\"],[0.6666666666666666,\"#ed7953\"],[0.7777777777777778,\"#fb9f3a\"],[0.8888888888888888,\"#fdca26\"],[1.0,\"#f0f921\"]],\"sequentialminus\":[[0.0,\"#0d0887\"],[0.1111111111111111,\"#46039f\"],[0.2222222222222222,\"#7201a8\"],[0.3333333333333333,\"#9c179e\"],[0.4444444444444444,\"#bd3786\"],[0.5555555555555556,\"#d8576b\"],[0.6666666666666666,\"#ed7953\"],[0.7777777777777778,\"#fb9f3a\"],[0.8888888888888888,\"#fdca26\"],[1.0,\"#f0f921\"]]},\"colorway\":[\"#636efa\",\"#EF553B\",\"#00cc96\",\"#ab63fa\",\"#FFA15A\",\"#19d3f3\",\"#FF6692\",\"#B6E880\",\"#FF97FF\",\"#FECB52\"],\"font\":{\"color\":\"#2a3f5f\"},\"geo\":{\"bgcolor\":\"white\",\"lakecolor\":\"white\",\"landcolor\":\"#E5ECF6\",\"showlakes\":true,\"showland\":true,\"subunitcolor\":\"white\"},\"hoverlabel\":{\"align\":\"left\"},\"hovermode\":\"closest\",\"mapbox\":{\"style\":\"light\"},\"paper_bgcolor\":\"white\",\"plot_bgcolor\":\"#E5ECF6\",\"polar\":{\"angularaxis\":{\"gridcolor\":\"white\",\"linecolor\":\"white\",\"ticks\":\"\"},\"bgcolor\":\"#E5ECF6\",\"radialaxis\":{\"gridcolor\":\"white\",\"linecolor\":\"white\",\"ticks\":\"\"}},\"scene\":{\"xaxis\":{\"backgroundcolor\":\"#E5ECF6\",\"gridcolor\":\"white\",\"gridwidth\":2,\"linecolor\":\"white\",\"showbackground\":true,\"ticks\":\"\",\"zerolinecolor\":\"white\"},\"yaxis\":{\"backgroundcolor\":\"#E5ECF6\",\"gridcolor\":\"white\",\"gridwidth\":2,\"linecolor\":\"white\",\"showbackground\":true,\"ticks\":\"\",\"zerolinecolor\":\"white\"},\"zaxis\":{\"backgroundcolor\":\"#E5ECF6\",\"gridcolor\":\"white\",\"gridwidth\":2,\"linecolor\":\"white\",\"showbackground\":true,\"ticks\":\"\",\"zerolinecolor\":\"white\"}},\"shapedefaults\":{\"line\":{\"color\":\"#2a3f5f\"}},\"ternary\":{\"aaxis\":{\"gridcolor\":\"white\",\"linecolor\":\"white\",\"ticks\":\"\"},\"baxis\":{\"gridcolor\":\"white\",\"linecolor\":\"white\",\"ticks\":\"\"},\"bgcolor\":\"#E5ECF6\",\"caxis\":{\"gridcolor\":\"white\",\"linecolor\":\"white\",\"ticks\":\"\"}},\"title\":{\"x\":0.05},\"xaxis\":{\"automargin\":true,\"gridcolor\":\"white\",\"linecolor\":\"white\",\"ticks\":\"\",\"title\":{\"standoff\":15},\"zerolinecolor\":\"white\",\"zerolinewidth\":2},\"yaxis\":{\"automargin\":true,\"gridcolor\":\"white\",\"linecolor\":\"white\",\"ticks\":\"\",\"title\":{\"standoff\":15},\"zerolinecolor\":\"white\",\"zerolinewidth\":2}}},\"title\":{\"text\":\"Survived por Age\"},\"xaxis\":{\"anchor\":\"y2\",\"domain\":[0.0,1.0],\"zeroline\":false},\"yaxis\":{\"anchor\":\"free\",\"domain\":[0.0,1],\"position\":0.0}},                        {\"responsive\": true}                    ).then(function(){\n",
       "                            \n",
       "var gd = document.getElementById('f6d84b23-fd96-45dd-86d7-b2e9ec3cc621');\n",
       "var x = new MutationObserver(function (mutations, observer) {{\n",
       "        var display = window.getComputedStyle(gd).display;\n",
       "        if (!display || display === 'none') {{\n",
       "            console.log([gd, 'removed!']);\n",
       "            Plotly.purge(gd);\n",
       "            observer.disconnect();\n",
       "        }}\n",
       "}});\n",
       "\n",
       "// Listen for the removal of the full notebook cells\n",
       "var notebookContainer = gd.closest('#notebook-container');\n",
       "if (notebookContainer) {{\n",
       "    x.observe(notebookContainer, {childList: true});\n",
       "}}\n",
       "\n",
       "// Listen for the clearing of the current output cell\n",
       "var outputEl = gd.closest('.output');\n",
       "if (outputEl) {{\n",
       "    x.observe(outputEl, {childList: true});\n",
       "}}\n",
       "\n",
       "                        })                };                });            </script>        </div>"
      ]
     },
     "metadata": {},
     "output_type": "display_data"
    }
   ],
   "source": [
    "fig = ff.create_distplot([train[train.Survived==0].Age.dropna(),\n",
    "                          train[train.Survived==1].Age.dropna()],\n",
    "                         group_labels=['Morreu','Viveu'],\n",
    "                         colors=colors,\n",
    "                         show_rug=False)\n",
    "fig.update_layout(title_text='Survived por Age')\n",
    "fig.show()"
   ]
  },
  {
   "cell_type": "code",
   "execution_count": 189,
   "id": "45f5733d",
   "metadata": {},
   "outputs": [
    {
     "data": {
      "image/png": "[encoded data removed]",
      "text/plain": [
       "<Figure size 1080x720 with 16 Axes>"
      ]
     },
     "metadata": {
      "needs_background": "light"
     },
     "output_type": "display_data"
    }
   ],
   "source": [
    "col = ['Parch','SibSp','Age','Pclass']\n",
    "pd.plotting.scatter_matrix(train[col], figsize=(15,10));"
   ]
  },
  {
   "cell_type": "code",
   "execution_count": 219,
   "id": "d9f6eea3",
   "metadata": {},
   "outputs": [
    {
     "data": {
      "image/png": "[encoded data removed]",
      "text/plain": [
       "<Figure size 1152x648 with 2 Axes>"
      ]
     },
     "metadata": {
      "needs_background": "light"
     },
     "output_type": "display_data"
    }
   ],
   "source": [
    "plt.figure(figsize=(16,9))\n",
    "sns.heatmap(train.corr(), annot=True, fmt='.2f',square=True,cmap=\"coolwarm\");"
   ]
  },
  {
   "cell_type": "markdown",
   "id": "3651c104",
   "metadata": {},
   "source": [
    "## Limpeza"
   ]
  },
  {
   "cell_type": "code",
   "execution_count": 223,
   "id": "68a09afb",
   "metadata": {},
   "outputs": [
    {
     "data": {
      "text/html": [
       "<div>\n",
       "<style scoped>\n",
       "    .dataframe tbody tr th:only-of-type {\n",
       "        vertical-align: middle;\n",
       "    }\n",
       "\n",
       "    .dataframe tbody tr th {\n",
       "        vertical-align: top;\n",
       "    }\n",
       "\n",
       "    .dataframe thead th {\n",
       "        text-align: right;\n",
       "    }\n",
       "</style>\n",
       "<table border=\"1\" class=\"dataframe\">\n",
       "  <thead>\n",
       "    <tr style=\"text-align: right;\">\n",
       "      <th></th>\n",
       "      <th>PassengerId</th>\n",
       "      <th>Survived</th>\n",
       "      <th>Pclass</th>\n",
       "      <th>Name</th>\n",
       "      <th>Sex</th>\n",
       "      <th>Age</th>\n",
       "      <th>SibSp</th>\n",
       "      <th>Parch</th>\n",
       "      <th>Ticket</th>\n",
       "      <th>Fare</th>\n",
       "      <th>Embarked</th>\n",
       "    </tr>\n",
       "  </thead>\n",
       "  <tbody>\n",
       "    <tr>\n",
       "      <th>0</th>\n",
       "      <td>1</td>\n",
       "      <td>0</td>\n",
       "      <td>3</td>\n",
       "      <td>Braund, Mr. Owen Harris</td>\n",
       "      <td>male</td>\n",
       "      <td>22.0</td>\n",
       "      <td>1</td>\n",
       "      <td>0</td>\n",
       "      <td>A/5 21171</td>\n",
       "      <td>7.2500</td>\n",
       "      <td>S</td>\n",
       "    </tr>\n",
       "    <tr>\n",
       "      <th>1</th>\n",
       "      <td>2</td>\n",
       "      <td>1</td>\n",
       "      <td>1</td>\n",
       "      <td>Cumings, Mrs. John Bradley (Florence Briggs Th...</td>\n",
       "      <td>female</td>\n",
       "      <td>38.0</td>\n",
       "      <td>1</td>\n",
       "      <td>0</td>\n",
       "      <td>PC 17599</td>\n",
       "      <td>71.2833</td>\n",
       "      <td>C</td>\n",
       "    </tr>\n",
       "    <tr>\n",
       "      <th>2</th>\n",
       "      <td>3</td>\n",
       "      <td>1</td>\n",
       "      <td>3</td>\n",
       "      <td>Heikkinen, Miss. Laina</td>\n",
       "      <td>female</td>\n",
       "      <td>26.0</td>\n",
       "      <td>0</td>\n",
       "      <td>0</td>\n",
       "      <td>STON/O2. 3101282</td>\n",
       "      <td>7.9250</td>\n",
       "      <td>S</td>\n",
       "    </tr>\n",
       "    <tr>\n",
       "      <th>3</th>\n",
       "      <td>4</td>\n",
       "      <td>1</td>\n",
       "      <td>1</td>\n",
       "      <td>Futrelle, Mrs. Jacques Heath (Lily May Peel)</td>\n",
       "      <td>female</td>\n",
       "      <td>35.0</td>\n",
       "      <td>1</td>\n",
       "      <td>0</td>\n",
       "      <td>113803</td>\n",
       "      <td>53.1000</td>\n",
       "      <td>S</td>\n",
       "    </tr>\n",
       "    <tr>\n",
       "      <th>4</th>\n",
       "      <td>5</td>\n",
       "      <td>0</td>\n",
       "      <td>3</td>\n",
       "      <td>Allen, Mr. William Henry</td>\n",
       "      <td>male</td>\n",
       "      <td>35.0</td>\n",
       "      <td>0</td>\n",
       "      <td>0</td>\n",
       "      <td>373450</td>\n",
       "      <td>8.0500</td>\n",
       "      <td>S</td>\n",
       "    </tr>\n",
       "  </tbody>\n",
       "</table>\n",
       "</div>"
      ],
      "text/plain": [
       "   PassengerId  Survived  Pclass  \\\n",
       "0            1         0       3   \n",
       "1            2         1       1   \n",
       "2            3         1       3   \n",
       "3            4         1       1   \n",
       "4            5         0       3   \n",
       "\n",
       "                                                Name     Sex   Age  SibSp  \\\n",
       "0                            Braund, Mr. Owen Harris    male  22.0      1   \n",
       "1  Cumings, Mrs. John Bradley (Florence Briggs Th...  female  38.0      1   \n",
       "2                             Heikkinen, Miss. Laina  female  26.0      0   \n",
       "3       Futrelle, Mrs. Jacques Heath (Lily May Peel)  female  35.0      1   \n",
       "4                           Allen, Mr. William Henry    male  35.0      0   \n",
       "\n",
       "   Parch            Ticket     Fare Embarked  \n",
       "0      0         A/5 21171   7.2500        S  \n",
       "1      0          PC 17599  71.2833        C  \n",
       "2      0  STON/O2. 3101282   7.9250        S  \n",
       "3      0            113803  53.1000        S  \n",
       "4      0            373450   8.0500        S  "
      ]
     },
     "execution_count": 223,
     "metadata": {},
     "output_type": "execute_result"
    }
   ],
   "source": [
    "train.head()"
   ]
  },
  {
   "cell_type": "code",
   "execution_count": 225,
   "id": "32d9c5fe",
   "metadata": {},
   "outputs": [],
   "source": [
    "train.Age.fillna(train.Age.mean(),inplace=True)"
   ]
  },
  {
   "cell_type": "code",
   "execution_count": 226,
   "id": "fc7eab55",
   "metadata": {},
   "outputs": [],
   "source": [
    "train = train[~train.Embarked.isna()].reset_index(drop=True)"
   ]
  },
  {
   "cell_type": "code",
   "execution_count": 229,
   "id": "f71b3f8b",
   "metadata": {},
   "outputs": [],
   "source": [
    "train.drop(['Cabin'],axis=1,inplace=True)"
   ]
  },
  {
   "cell_type": "code",
   "execution_count": 227,
   "id": "31cba7c9",
   "metadata": {},
   "outputs": [
    {
     "data": {
      "text/plain": [
       "PassengerId    0\n",
       "Survived       0\n",
       "Pclass         0\n",
       "Name           0\n",
       "Sex            0\n",
       "Age            0\n",
       "SibSp          0\n",
       "Parch          0\n",
       "Ticket         0\n",
       "Fare           0\n",
       "Embarked       0\n",
       "dtype: int64"
      ]
     },
     "execution_count": 227,
     "metadata": {},
     "output_type": "execute_result"
    }
   ],
   "source": [
    "train.isna().sum()"
   ]
  },
  {
   "cell_type": "markdown",
   "id": "dffc42ad",
   "metadata": {},
   "source": [
    "## Preparação dos Dados"
   ]
  },
  {
   "cell_type": "code",
   "execution_count": 231,
   "id": "4920f2f7",
   "metadata": {},
   "outputs": [],
   "source": [
    "train['sex_binario'] = train.Sex.map({'male':0,'female':1})\n",
    "train['embarked_binario'] = train.Embarked.map({'S':1,'Q':2,'C':3})"
   ]
  },
  {
   "cell_type": "code",
   "execution_count": 236,
   "id": "0c3fb19a",
   "metadata": {},
   "outputs": [],
   "source": [
    "train['child'] = train.Age.map(lambda x: 1 if x<=12 else 0)"
   ]
  },
  {
   "cell_type": "code",
   "execution_count": 237,
   "id": "00e38be1",
   "metadata": {
    "scrolled": true
   },
   "outputs": [
    {
     "data": {
      "text/html": [
       "<div>\n",
       "<style scoped>\n",
       "    .dataframe tbody tr th:only-of-type {\n",
       "        vertical-align: middle;\n",
       "    }\n",
       "\n",
       "    .dataframe tbody tr th {\n",
       "        vertical-align: top;\n",
       "    }\n",
       "\n",
       "    .dataframe thead th {\n",
       "        text-align: right;\n",
       "    }\n",
       "</style>\n",
       "<table border=\"1\" class=\"dataframe\">\n",
       "  <thead>\n",
       "    <tr style=\"text-align: right;\">\n",
       "      <th></th>\n",
       "      <th>PassengerId</th>\n",
       "      <th>Survived</th>\n",
       "      <th>Pclass</th>\n",
       "      <th>Name</th>\n",
       "      <th>Sex</th>\n",
       "      <th>Age</th>\n",
       "      <th>SibSp</th>\n",
       "      <th>Parch</th>\n",
       "      <th>Ticket</th>\n",
       "      <th>Fare</th>\n",
       "      <th>Embarked</th>\n",
       "      <th>sex_binario</th>\n",
       "      <th>embarked_binario</th>\n",
       "      <th>child</th>\n",
       "    </tr>\n",
       "  </thead>\n",
       "  <tbody>\n",
       "    <tr>\n",
       "      <th>0</th>\n",
       "      <td>1</td>\n",
       "      <td>0</td>\n",
       "      <td>3</td>\n",
       "      <td>Braund, Mr. Owen Harris</td>\n",
       "      <td>male</td>\n",
       "      <td>22.0</td>\n",
       "      <td>1</td>\n",
       "      <td>0</td>\n",
       "      <td>A/5 21171</td>\n",
       "      <td>7.2500</td>\n",
       "      <td>S</td>\n",
       "      <td>0</td>\n",
       "      <td>1</td>\n",
       "      <td>0</td>\n",
       "    </tr>\n",
       "    <tr>\n",
       "      <th>1</th>\n",
       "      <td>2</td>\n",
       "      <td>1</td>\n",
       "      <td>1</td>\n",
       "      <td>Cumings, Mrs. John Bradley (Florence Briggs Th...</td>\n",
       "      <td>female</td>\n",
       "      <td>38.0</td>\n",
       "      <td>1</td>\n",
       "      <td>0</td>\n",
       "      <td>PC 17599</td>\n",
       "      <td>71.2833</td>\n",
       "      <td>C</td>\n",
       "      <td>1</td>\n",
       "      <td>3</td>\n",
       "      <td>0</td>\n",
       "    </tr>\n",
       "    <tr>\n",
       "      <th>2</th>\n",
       "      <td>3</td>\n",
       "      <td>1</td>\n",
       "      <td>3</td>\n",
       "      <td>Heikkinen, Miss. Laina</td>\n",
       "      <td>female</td>\n",
       "      <td>26.0</td>\n",
       "      <td>0</td>\n",
       "      <td>0</td>\n",
       "      <td>STON/O2. 3101282</td>\n",
       "      <td>7.9250</td>\n",
       "      <td>S</td>\n",
       "      <td>1</td>\n",
       "      <td>1</td>\n",
       "      <td>0</td>\n",
       "    </tr>\n",
       "    <tr>\n",
       "      <th>3</th>\n",
       "      <td>4</td>\n",
       "      <td>1</td>\n",
       "      <td>1</td>\n",
       "      <td>Futrelle, Mrs. Jacques Heath (Lily May Peel)</td>\n",
       "      <td>female</td>\n",
       "      <td>35.0</td>\n",
       "      <td>1</td>\n",
       "      <td>0</td>\n",
       "      <td>113803</td>\n",
       "      <td>53.1000</td>\n",
       "      <td>S</td>\n",
       "      <td>1</td>\n",
       "      <td>1</td>\n",
       "      <td>0</td>\n",
       "    </tr>\n",
       "    <tr>\n",
       "      <th>4</th>\n",
       "      <td>5</td>\n",
       "      <td>0</td>\n",
       "      <td>3</td>\n",
       "      <td>Allen, Mr. William Henry</td>\n",
       "      <td>male</td>\n",
       "      <td>35.0</td>\n",
       "      <td>0</td>\n",
       "      <td>0</td>\n",
       "      <td>373450</td>\n",
       "      <td>8.0500</td>\n",
       "      <td>S</td>\n",
       "      <td>0</td>\n",
       "      <td>1</td>\n",
       "      <td>0</td>\n",
       "    </tr>\n",
       "  </tbody>\n",
       "</table>\n",
       "</div>"
      ],
      "text/plain": [
       "   PassengerId  Survived  Pclass  \\\n",
       "0            1         0       3   \n",
       "1            2         1       1   \n",
       "2            3         1       3   \n",
       "3            4         1       1   \n",
       "4            5         0       3   \n",
       "\n",
       "                                                Name     Sex   Age  SibSp  \\\n",
       "0                            Braund, Mr. Owen Harris    male  22.0      1   \n",
       "1  Cumings, Mrs. John Bradley (Florence Briggs Th...  female  38.0      1   \n",
       "2                             Heikkinen, Miss. Laina  female  26.0      0   \n",
       "3       Futrelle, Mrs. Jacques Heath (Lily May Peel)  female  35.0      1   \n",
       "4                           Allen, Mr. William Henry    male  35.0      0   \n",
       "\n",
       "   Parch            Ticket     Fare Embarked  sex_binario  embarked_binario  \\\n",
       "0      0         A/5 21171   7.2500        S            0                 1   \n",
       "1      0          PC 17599  71.2833        C            1                 3   \n",
       "2      0  STON/O2. 3101282   7.9250        S            1                 1   \n",
       "3      0            113803  53.1000        S            1                 1   \n",
       "4      0            373450   8.0500        S            0                 1   \n",
       "\n",
       "   child  \n",
       "0      0  \n",
       "1      0  \n",
       "2      0  \n",
       "3      0  \n",
       "4      0  "
      ]
     },
     "execution_count": 237,
     "metadata": {},
     "output_type": "execute_result"
    }
   ],
   "source": [
    "train.head()"
   ]
  },
  {
   "cell_type": "code",
   "execution_count": 259,
   "id": "f458f99d",
   "metadata": {},
   "outputs": [],
   "source": [
    "features = ['Survived','Pclass','Age','SibSp','Parch','sex_binario','embarked_binario']\n",
    "base = train[features].copy()"
   ]
  },
  {
   "cell_type": "code",
   "execution_count": 262,
   "id": "bd4df066",
   "metadata": {},
   "outputs": [
    {
     "data": {
      "text/html": [
       "<div>\n",
       "<style scoped>\n",
       "    .dataframe tbody tr th:only-of-type {\n",
       "        vertical-align: middle;\n",
       "    }\n",
       "\n",
       "    .dataframe tbody tr th {\n",
       "        vertical-align: top;\n",
       "    }\n",
       "\n",
       "    .dataframe thead th {\n",
       "        text-align: right;\n",
       "    }\n",
       "</style>\n",
       "<table border=\"1\" class=\"dataframe\">\n",
       "  <thead>\n",
       "    <tr style=\"text-align: right;\">\n",
       "      <th></th>\n",
       "      <th>Survived</th>\n",
       "      <th>Pclass</th>\n",
       "      <th>Age</th>\n",
       "      <th>SibSp</th>\n",
       "      <th>Parch</th>\n",
       "      <th>sex_binario</th>\n",
       "      <th>embarked_binario</th>\n",
       "    </tr>\n",
       "  </thead>\n",
       "  <tbody>\n",
       "    <tr>\n",
       "      <th>0</th>\n",
       "      <td>0</td>\n",
       "      <td>3</td>\n",
       "      <td>22.0</td>\n",
       "      <td>1</td>\n",
       "      <td>0</td>\n",
       "      <td>0</td>\n",
       "      <td>1</td>\n",
       "    </tr>\n",
       "    <tr>\n",
       "      <th>1</th>\n",
       "      <td>1</td>\n",
       "      <td>1</td>\n",
       "      <td>38.0</td>\n",
       "      <td>1</td>\n",
       "      <td>0</td>\n",
       "      <td>1</td>\n",
       "      <td>3</td>\n",
       "    </tr>\n",
       "    <tr>\n",
       "      <th>2</th>\n",
       "      <td>1</td>\n",
       "      <td>3</td>\n",
       "      <td>26.0</td>\n",
       "      <td>0</td>\n",
       "      <td>0</td>\n",
       "      <td>1</td>\n",
       "      <td>1</td>\n",
       "    </tr>\n",
       "    <tr>\n",
       "      <th>3</th>\n",
       "      <td>1</td>\n",
       "      <td>1</td>\n",
       "      <td>35.0</td>\n",
       "      <td>1</td>\n",
       "      <td>0</td>\n",
       "      <td>1</td>\n",
       "      <td>1</td>\n",
       "    </tr>\n",
       "    <tr>\n",
       "      <th>4</th>\n",
       "      <td>0</td>\n",
       "      <td>3</td>\n",
       "      <td>35.0</td>\n",
       "      <td>0</td>\n",
       "      <td>0</td>\n",
       "      <td>0</td>\n",
       "      <td>1</td>\n",
       "    </tr>\n",
       "  </tbody>\n",
       "</table>\n",
       "</div>"
      ],
      "text/plain": [
       "   Survived  Pclass   Age  SibSp  Parch  sex_binario  embarked_binario\n",
       "0         0       3  22.0      1      0            0                 1\n",
       "1         1       1  38.0      1      0            1                 3\n",
       "2         1       3  26.0      0      0            1                 1\n",
       "3         1       1  35.0      1      0            1                 1\n",
       "4         0       3  35.0      0      0            0                 1"
      ]
     },
     "execution_count": 262,
     "metadata": {},
     "output_type": "execute_result"
    }
   ],
   "source": [
    "base.head()"
   ]
  },
  {
   "cell_type": "markdown",
   "id": "d8880bed",
   "metadata": {},
   "source": [
    "## Model"
   ]
  },
  {
   "cell_type": "code",
   "execution_count": 267,
   "id": "e591c2ba",
   "metadata": {},
   "outputs": [],
   "source": [
    "from sklearn.tree import DecisionTreeClassifier\n",
    "from sklearn.ensemble import RandomForestClassifier\n",
    "from sklearn.model_selection import train_test_split\n",
    "from sklearn.metrics import precision_score, accuracy_score"
   ]
  },
  {
   "cell_type": "code",
   "execution_count": 266,
   "id": "33940803",
   "metadata": {},
   "outputs": [],
   "source": [
    "X = base.drop('Survived', axis=1)\n",
    "y = base['Survived']"
   ]
  },
  {
   "cell_type": "code",
   "execution_count": 270,
   "id": "59fe210d",
   "metadata": {},
   "outputs": [],
   "source": [
    "# Dividimos os dados em 50% para treino e 50% para teste\n",
    "Xtrain, Xtest, ytrain, ytest = train_test_split(X,y, test_size=.5)"
   ]
  },
  {
   "cell_type": "code",
   "execution_count": 271,
   "id": "b6a88f8d",
   "metadata": {},
   "outputs": [
    {
     "data": {
      "text/plain": [
       "((444, 6), (445, 6), (444,), (445,))"
      ]
     },
     "execution_count": 271,
     "metadata": {},
     "output_type": "execute_result"
    }
   ],
   "source": [
    "Xtrain.shape, Xtest.shape, ytrain.shape, ytest.shape"
   ]
  },
  {
   "cell_type": "code",
   "execution_count": 274,
   "id": "4026d6be",
   "metadata": {},
   "outputs": [],
   "source": [
    "# Criando o modelo\n",
    "mdl_rf = RandomForestClassifier(n_estimators=1000, n_jobs=6, random_state=0, class_weight='balanced')\n",
    "mdl_rf.fit(Xtrain,ytrain)\n",
    "# Fazendo o predict\n",
    "p = mdl_rf.predict(Xtest)"
   ]
  },
  {
   "cell_type": "code",
   "execution_count": 278,
   "id": "0c455590",
   "metadata": {},
   "outputs": [
    {
     "name": "stdout",
     "output_type": "stream",
     "text": [
      "Accuracy: 0.7933 | Precision: 0.7326\n"
     ]
    }
   ],
   "source": [
    "acc = round(accuracy_score(ytest, p),4)\n",
    "precis = round(precision_score(ytest, p),4)\n",
    "\n",
    "print(f'Accuracy: {acc} | Precision: {precis}')"
   ]
  },
  {
   "cell_type": "markdown",
   "id": "2d25cd29",
   "metadata": {},
   "source": [
    "## Submission"
   ]
  },
  {
   "cell_type": "code",
   "execution_count": 307,
   "id": "f70e7fa5",
   "metadata": {},
   "outputs": [
    {
     "data": {
      "text/plain": [
       "Pclass              0\n",
       "Age                 0\n",
       "SibSp               0\n",
       "Parch               0\n",
       "sex_binario         0\n",
       "embarked_binario    0\n",
       "dtype: int64"
      ]
     },
     "execution_count": 307,
     "metadata": {},
     "output_type": "execute_result"
    }
   ],
   "source": [
    "test = pd.read_csv('./inputs/test.csv')\n",
    "test['sex_binario'] = test.Sex.map({'male':0,'female':1})\n",
    "test['embarked_binario'] = test.Embarked.map({'S':1,'Q':2,'C':3})\n",
    "test.Age.fillna(test.Age.mean(),inplace=True)\n",
    "base_test = test[['Pclass','Age','SibSp','Parch','sex_binario','embarked_binario']].copy()\n",
    "base_test.isna().sum()"
   ]
  },
  {
   "cell_type": "code",
   "execution_count": 300,
   "id": "22b42528",
   "metadata": {},
   "outputs": [
    {
     "data": {
      "text/html": [
       "<div>\n",
       "<style scoped>\n",
       "    .dataframe tbody tr th:only-of-type {\n",
       "        vertical-align: middle;\n",
       "    }\n",
       "\n",
       "    .dataframe tbody tr th {\n",
       "        vertical-align: top;\n",
       "    }\n",
       "\n",
       "    .dataframe thead th {\n",
       "        text-align: right;\n",
       "    }\n",
       "</style>\n",
       "<table border=\"1\" class=\"dataframe\">\n",
       "  <thead>\n",
       "    <tr style=\"text-align: right;\">\n",
       "      <th></th>\n",
       "      <th>Pclass</th>\n",
       "      <th>Age</th>\n",
       "      <th>SibSp</th>\n",
       "      <th>Parch</th>\n",
       "      <th>sex_binario</th>\n",
       "      <th>embarked_binario</th>\n",
       "    </tr>\n",
       "  </thead>\n",
       "  <tbody>\n",
       "    <tr>\n",
       "      <th>0</th>\n",
       "      <td>3</td>\n",
       "      <td>34.5</td>\n",
       "      <td>0</td>\n",
       "      <td>0</td>\n",
       "      <td>0</td>\n",
       "      <td>2</td>\n",
       "    </tr>\n",
       "    <tr>\n",
       "      <th>1</th>\n",
       "      <td>3</td>\n",
       "      <td>47.0</td>\n",
       "      <td>1</td>\n",
       "      <td>0</td>\n",
       "      <td>1</td>\n",
       "      <td>1</td>\n",
       "    </tr>\n",
       "    <tr>\n",
       "      <th>2</th>\n",
       "      <td>2</td>\n",
       "      <td>62.0</td>\n",
       "      <td>0</td>\n",
       "      <td>0</td>\n",
       "      <td>0</td>\n",
       "      <td>2</td>\n",
       "    </tr>\n",
       "    <tr>\n",
       "      <th>3</th>\n",
       "      <td>3</td>\n",
       "      <td>27.0</td>\n",
       "      <td>0</td>\n",
       "      <td>0</td>\n",
       "      <td>0</td>\n",
       "      <td>1</td>\n",
       "    </tr>\n",
       "    <tr>\n",
       "      <th>4</th>\n",
       "      <td>3</td>\n",
       "      <td>22.0</td>\n",
       "      <td>1</td>\n",
       "      <td>1</td>\n",
       "      <td>1</td>\n",
       "      <td>1</td>\n",
       "    </tr>\n",
       "  </tbody>\n",
       "</table>\n",
       "</div>"
      ],
      "text/plain": [
       "   Pclass   Age  SibSp  Parch  sex_binario  embarked_binario\n",
       "0       3  34.5      0      0            0                 2\n",
       "1       3  47.0      1      0            1                 1\n",
       "2       2  62.0      0      0            0                 2\n",
       "3       3  27.0      0      0            0                 1\n",
       "4       3  22.0      1      1            1                 1"
      ]
     },
     "execution_count": 300,
     "metadata": {},
     "output_type": "execute_result"
    }
   ],
   "source": [
    "base_test.head()"
   ]
  },
  {
   "cell_type": "code",
   "execution_count": 308,
   "id": "4d5d83ae",
   "metadata": {},
   "outputs": [],
   "source": [
    "p = mdl_rf.predict(base_test)"
   ]
  },
  {
   "cell_type": "code",
   "execution_count": 309,
   "id": "9282b5bf",
   "metadata": {},
   "outputs": [],
   "source": [
    "sub = pd.Series(p, index=test.PassengerId, name='Survived')"
   ]
  },
  {
   "cell_type": "code",
   "execution_count": 310,
   "id": "c039036f",
   "metadata": {},
   "outputs": [
    {
     "data": {
      "text/plain": [
       "PassengerId\n",
       "892     0\n",
       "893     1\n",
       "894     0\n",
       "895     1\n",
       "896     0\n",
       "       ..\n",
       "1305    0\n",
       "1306    1\n",
       "1307    0\n",
       "1308    0\n",
       "1309    1\n",
       "Name: Survived, Length: 418, dtype: int64"
      ]
     },
     "execution_count": 310,
     "metadata": {},
     "output_type": "execute_result"
    }
   ],
   "source": [
    "sub"
   ]
  },
  {
   "cell_type": "code",
   "execution_count": 311,
   "id": "be60b7fc",
   "metadata": {},
   "outputs": [],
   "source": [
    "sub.to_csv('./outputs/titanic_submission_artigo.csv', header=True)"
   ]
  },
  {
   "cell_type": "code",
   "execution_count": 312,
   "id": "400df0d9",
   "metadata": {},
   "outputs": [
    {
     "name": "stdout",
     "output_type": "stream",
     "text": [
      "Successfully submitted to Titanic - Machine Learning from Disaster\n"
     ]
    },
    {
     "name": "stderr",
     "output_type": "stream",
     "text": [
      "\n",
      "  0%|          | 0.00/3.18k [00:00<?, ?B/s]\n",
      "100%|##########| 3.18k/3.18k [00:00<00:00, 21.3kB/s]\n",
      "100%|##########| 3.18k/3.18k [00:04<00:00, 785B/s]  \n"
     ]
    }
   ],
   "source": [
    "!kaggle competitions submit -c titanic -f outputs/titanic_submission_artigo.csv -m \"Primeiro modelo artigo\""
   ]
  }
 ],
 "metadata": {
  "kernelspec": {
   "display_name": "Python 3",
   "language": "python",
   "name": "python3"
  },
  "language_info": {
   "codemirror_mode": {
    "name": "ipython",
    "version": 3
   },
   "file_extension": ".py",
   "mimetype": "text/x-python",
   "name": "python",
   "nbconvert_exporter": "python",
   "pygments_lexer": "ipython3",
   "version": "3.8.8"
  }
 },
 "nbformat": 4,
 "nbformat_minor": 5
}
